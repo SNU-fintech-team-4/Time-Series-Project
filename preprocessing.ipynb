{
 "cells": [
  {
   "cell_type": "code",
   "id": "initial_id",
   "metadata": {
    "collapsed": true,
    "ExecuteTime": {
     "end_time": "2025-03-13T07:53:13.972858Z",
     "start_time": "2025-03-13T07:53:13.881180Z"
    }
   },
   "source": [
    "# 가정: df는 이미 Timestamp를 datetime으로 변환하고 인덱스로 설정 및 정렬되어 있음\n",
    "# 예:\n",
    "# df['Timestamp'] = pd.to_datetime(df['Timestamp'])\n",
    "# df.set_index('Timestamp', inplace=True)\n",
    "# df.sort_index(inplace=True)\n",
    "\n",
    "# 1. 각 Timestamp별로 모든 PK의 \"price_mean\" 값이 결측인지 확인\n",
    "#    (각 Timestamp에 해당하는 모든 행에서 price_mean이 NaN이면 True)\n",
    "common_missing = df.groupby(df.index)['price_mean'].apply(lambda x: x.isna().all())\n",
    "\n",
    "# common_missing은 고유 Timestamp를 인덱스로 갖는 Boolean Series\n",
    "\n",
    "# df\n",
    "\n",
    "# 4. 각 결측 구간의 시작 시간, 종료 시간, 결측 데이터 개수를 출력\n",
    "for _, group in missing_groups:\n",
    "    start_time = group.index[0]\n",
    "    end_time = group.index[-1]\n",
    "    count = len(group)\n",
    "    print(f\"{start_time} ~ {end_time}, {count}개 데이터 결측 (merged)\")\n"
   ],
   "outputs": [
    {
     "ename": "NameError",
     "evalue": "name 'df' is not defined",
     "output_type": "error",
     "traceback": [
      "\u001B[31m---------------------------------------------------------------------------\u001B[39m",
      "\u001B[31mNameError\u001B[39m                                 Traceback (most recent call last)",
      "\u001B[36mCell\u001B[39m\u001B[36m \u001B[39m\u001B[32mIn[2]\u001B[39m\u001B[32m, line 9\u001B[39m\n\u001B[32m      1\u001B[39m \u001B[38;5;66;03m# 가정: df는 이미 Timestamp를 datetime으로 변환하고 인덱스로 설정 및 정렬되어 있음\u001B[39;00m\n\u001B[32m      2\u001B[39m \u001B[38;5;66;03m# 예:\u001B[39;00m\n\u001B[32m      3\u001B[39m \u001B[38;5;66;03m# df['Timestamp'] = pd.to_datetime(df['Timestamp'])\u001B[39;00m\n\u001B[32m   (...)\u001B[39m\u001B[32m      7\u001B[39m \u001B[38;5;66;03m# 1. 각 Timestamp별로 모든 PK의 \"price_mean\" 값이 결측인지 확인\u001B[39;00m\n\u001B[32m      8\u001B[39m \u001B[38;5;66;03m#    (각 Timestamp에 해당하는 모든 행에서 price_mean이 NaN이면 True)\u001B[39;00m\n\u001B[32m----> \u001B[39m\u001B[32m9\u001B[39m common_missing = \u001B[43mdf\u001B[49m.groupby(df.index)[\u001B[33m'\u001B[39m\u001B[33mprice_mean\u001B[39m\u001B[33m'\u001B[39m].apply(\u001B[38;5;28;01mlambda\u001B[39;00m x: x.isna().all())\n\u001B[32m     11\u001B[39m \u001B[38;5;66;03m# common_missing은 고유 Timestamp를 인덱스로 갖는 Boolean Series\u001B[39;00m\n\u001B[32m     12\u001B[39m \n\u001B[32m     13\u001B[39m \u001B[38;5;66;03m# df\u001B[39;00m\n\u001B[32m     14\u001B[39m \n\u001B[32m     15\u001B[39m \u001B[38;5;66;03m# 4. 각 결측 구간의 시작 시간, 종료 시간, 결측 데이터 개수를 출력\u001B[39;00m\n\u001B[32m     16\u001B[39m \u001B[38;5;28;01mfor\u001B[39;00m _, group \u001B[38;5;129;01min\u001B[39;00m missing_groups:\n",
      "\u001B[31mNameError\u001B[39m: name 'df' is not defined"
     ]
    }
   ],
   "execution_count": 2
  }
 ],
 "metadata": {
  "kernelspec": {
   "display_name": "Python 3",
   "language": "python",
   "name": "python3"
  },
  "language_info": {
   "codemirror_mode": {
    "name": "ipython",
    "version": 2
   },
   "file_extension": ".py",
   "mimetype": "text/x-python",
   "name": "python",
   "nbconvert_exporter": "python",
   "pygments_lexer": "ipython2",
   "version": "2.7.6"
  }
 },
 "nbformat": 4,
 "nbformat_minor": 5
}
