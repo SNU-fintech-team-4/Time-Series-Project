{
  "nbformat": 4,
  "nbformat_minor": 0,
  "metadata": {
    "colab": {
      "provenance": []
    },
    "kernelspec": {
      "name": "python3",
      "display_name": "Python 3"
    },
    "language_info": {
      "name": "python"
    }
  },
  "cells": [
    {
      "cell_type": "code",
      "source": [
        "import pandas as pd\n",
        "from dateutil.relativedelta import relativedelta\n",
        "from google.colab import files\n",
        "import io\n",
        "import re"
      ],
      "metadata": {
        "id": "m7FTeF_6I1nl"
      },
      "execution_count": 12,
      "outputs": []
    },
    {
      "cell_type": "code",
      "source": [
        "uploaded = files.upload()\n",
        "filename = list(uploaded.keys())[0]\n",
        "\n",
        "df = pd.read_csv(io.BytesIO(uploaded[filename]))\n",
        "print(df.head())"
      ],
      "metadata": {
        "colab": {
          "base_uri": "https://localhost:8080/",
          "height": 592
        },
        "id": "LqJIT7iAI3SG",
        "outputId": "5ec1cc91-bf9d-480c-8e52-feea6ff3c55c"
      },
      "execution_count": 13,
      "outputs": [
        {
          "output_type": "display_data",
          "data": {
            "text/plain": [
              "<IPython.core.display.HTML object>"
            ],
            "text/html": [
              "\n",
              "     <input type=\"file\" id=\"files-8d1183fb-d4b2-436c-8dbd-13404a96c8f3\" name=\"files[]\" multiple disabled\n",
              "        style=\"border:none\" />\n",
              "     <output id=\"result-8d1183fb-d4b2-436c-8dbd-13404a96c8f3\">\n",
              "      Upload widget is only available when the cell has been executed in the\n",
              "      current browser session. Please rerun this cell to enable.\n",
              "      </output>\n",
              "      <script>// Copyright 2017 Google LLC\n",
              "//\n",
              "// Licensed under the Apache License, Version 2.0 (the \"License\");\n",
              "// you may not use this file except in compliance with the License.\n",
              "// You may obtain a copy of the License at\n",
              "//\n",
              "//      http://www.apache.org/licenses/LICENSE-2.0\n",
              "//\n",
              "// Unless required by applicable law or agreed to in writing, software\n",
              "// distributed under the License is distributed on an \"AS IS\" BASIS,\n",
              "// WITHOUT WARRANTIES OR CONDITIONS OF ANY KIND, either express or implied.\n",
              "// See the License for the specific language governing permissions and\n",
              "// limitations under the License.\n",
              "\n",
              "/**\n",
              " * @fileoverview Helpers for google.colab Python module.\n",
              " */\n",
              "(function(scope) {\n",
              "function span(text, styleAttributes = {}) {\n",
              "  const element = document.createElement('span');\n",
              "  element.textContent = text;\n",
              "  for (const key of Object.keys(styleAttributes)) {\n",
              "    element.style[key] = styleAttributes[key];\n",
              "  }\n",
              "  return element;\n",
              "}\n",
              "\n",
              "// Max number of bytes which will be uploaded at a time.\n",
              "const MAX_PAYLOAD_SIZE = 100 * 1024;\n",
              "\n",
              "function _uploadFiles(inputId, outputId) {\n",
              "  const steps = uploadFilesStep(inputId, outputId);\n",
              "  const outputElement = document.getElementById(outputId);\n",
              "  // Cache steps on the outputElement to make it available for the next call\n",
              "  // to uploadFilesContinue from Python.\n",
              "  outputElement.steps = steps;\n",
              "\n",
              "  return _uploadFilesContinue(outputId);\n",
              "}\n",
              "\n",
              "// This is roughly an async generator (not supported in the browser yet),\n",
              "// where there are multiple asynchronous steps and the Python side is going\n",
              "// to poll for completion of each step.\n",
              "// This uses a Promise to block the python side on completion of each step,\n",
              "// then passes the result of the previous step as the input to the next step.\n",
              "function _uploadFilesContinue(outputId) {\n",
              "  const outputElement = document.getElementById(outputId);\n",
              "  const steps = outputElement.steps;\n",
              "\n",
              "  const next = steps.next(outputElement.lastPromiseValue);\n",
              "  return Promise.resolve(next.value.promise).then((value) => {\n",
              "    // Cache the last promise value to make it available to the next\n",
              "    // step of the generator.\n",
              "    outputElement.lastPromiseValue = value;\n",
              "    return next.value.response;\n",
              "  });\n",
              "}\n",
              "\n",
              "/**\n",
              " * Generator function which is called between each async step of the upload\n",
              " * process.\n",
              " * @param {string} inputId Element ID of the input file picker element.\n",
              " * @param {string} outputId Element ID of the output display.\n",
              " * @return {!Iterable<!Object>} Iterable of next steps.\n",
              " */\n",
              "function* uploadFilesStep(inputId, outputId) {\n",
              "  const inputElement = document.getElementById(inputId);\n",
              "  inputElement.disabled = false;\n",
              "\n",
              "  const outputElement = document.getElementById(outputId);\n",
              "  outputElement.innerHTML = '';\n",
              "\n",
              "  const pickedPromise = new Promise((resolve) => {\n",
              "    inputElement.addEventListener('change', (e) => {\n",
              "      resolve(e.target.files);\n",
              "    });\n",
              "  });\n",
              "\n",
              "  const cancel = document.createElement('button');\n",
              "  inputElement.parentElement.appendChild(cancel);\n",
              "  cancel.textContent = 'Cancel upload';\n",
              "  const cancelPromise = new Promise((resolve) => {\n",
              "    cancel.onclick = () => {\n",
              "      resolve(null);\n",
              "    };\n",
              "  });\n",
              "\n",
              "  // Wait for the user to pick the files.\n",
              "  const files = yield {\n",
              "    promise: Promise.race([pickedPromise, cancelPromise]),\n",
              "    response: {\n",
              "      action: 'starting',\n",
              "    }\n",
              "  };\n",
              "\n",
              "  cancel.remove();\n",
              "\n",
              "  // Disable the input element since further picks are not allowed.\n",
              "  inputElement.disabled = true;\n",
              "\n",
              "  if (!files) {\n",
              "    return {\n",
              "      response: {\n",
              "        action: 'complete',\n",
              "      }\n",
              "    };\n",
              "  }\n",
              "\n",
              "  for (const file of files) {\n",
              "    const li = document.createElement('li');\n",
              "    li.append(span(file.name, {fontWeight: 'bold'}));\n",
              "    li.append(span(\n",
              "        `(${file.type || 'n/a'}) - ${file.size} bytes, ` +\n",
              "        `last modified: ${\n",
              "            file.lastModifiedDate ? file.lastModifiedDate.toLocaleDateString() :\n",
              "                                    'n/a'} - `));\n",
              "    const percent = span('0% done');\n",
              "    li.appendChild(percent);\n",
              "\n",
              "    outputElement.appendChild(li);\n",
              "\n",
              "    const fileDataPromise = new Promise((resolve) => {\n",
              "      const reader = new FileReader();\n",
              "      reader.onload = (e) => {\n",
              "        resolve(e.target.result);\n",
              "      };\n",
              "      reader.readAsArrayBuffer(file);\n",
              "    });\n",
              "    // Wait for the data to be ready.\n",
              "    let fileData = yield {\n",
              "      promise: fileDataPromise,\n",
              "      response: {\n",
              "        action: 'continue',\n",
              "      }\n",
              "    };\n",
              "\n",
              "    // Use a chunked sending to avoid message size limits. See b/62115660.\n",
              "    let position = 0;\n",
              "    do {\n",
              "      const length = Math.min(fileData.byteLength - position, MAX_PAYLOAD_SIZE);\n",
              "      const chunk = new Uint8Array(fileData, position, length);\n",
              "      position += length;\n",
              "\n",
              "      const base64 = btoa(String.fromCharCode.apply(null, chunk));\n",
              "      yield {\n",
              "        response: {\n",
              "          action: 'append',\n",
              "          file: file.name,\n",
              "          data: base64,\n",
              "        },\n",
              "      };\n",
              "\n",
              "      let percentDone = fileData.byteLength === 0 ?\n",
              "          100 :\n",
              "          Math.round((position / fileData.byteLength) * 100);\n",
              "      percent.textContent = `${percentDone}% done`;\n",
              "\n",
              "    } while (position < fileData.byteLength);\n",
              "  }\n",
              "\n",
              "  // All done.\n",
              "  yield {\n",
              "    response: {\n",
              "      action: 'complete',\n",
              "    }\n",
              "  };\n",
              "}\n",
              "\n",
              "scope.google = scope.google || {};\n",
              "scope.google.colab = scope.google.colab || {};\n",
              "scope.google.colab._files = {\n",
              "  _uploadFiles,\n",
              "  _uploadFilesContinue,\n",
              "};\n",
              "})(self);\n",
              "</script> "
            ]
          },
          "metadata": {}
        },
        {
          "output_type": "stream",
          "name": "stdout",
          "text": [
            "Saving expanded_tourism_dataset.csv to expanded_tourism_dataset (1).csv\n",
            "  series_id           start_date    Month1      Month2      Month3  \\\n",
            "0        T1  1979-01-01 00-00-00   1149.87   1053.8002   1388.8798   \n",
            "1        T2  1979-01-01 00-00-00  65072.37  48612.2000  58452.5900   \n",
            "2        T3  1985-01-01 00-00-00  37047.00  32836.0000  51094.0000   \n",
            "3        T4  1985-01-01 00-00-00   7611.00   6859.0000   9247.0000   \n",
            "4        T5  1985-01-01 00-00-00  27693.00  15075.0000  22602.0000   \n",
            "\n",
            "       Month4      Month5      Month6       Month7       Month8  ...  \\\n",
            "0   1783.3702   1921.0252   2704.9449    4184.4135    4148.3542  ...   \n",
            "1  57033.9700  71498.9500  79187.1100  101896.1000  115971.8000  ...   \n",
            "2  52629.0000  56884.0000  52955.0000   56012.0000   50462.0000  ...   \n",
            "3  10924.0000   9064.0000   7417.0000   10467.0000    7921.0000  ...   \n",
            "4  23530.0000  26817.0000  22696.0000   20433.0000   24152.0000  ...   \n",
            "\n",
            "   Month324  Month325  Month326  Month327  Month328  Month329  Month330  \\\n",
            "0       NaN       NaN       NaN       NaN       NaN       NaN       NaN   \n",
            "1       NaN       NaN       NaN       NaN       NaN       NaN       NaN   \n",
            "2       NaN       NaN       NaN       NaN       NaN       NaN       NaN   \n",
            "3       NaN       NaN       NaN       NaN       NaN       NaN       NaN   \n",
            "4       NaN       NaN       NaN       NaN       NaN       NaN       NaN   \n",
            "\n",
            "   Month331  Month332  Month333  \n",
            "0       NaN       NaN       NaN  \n",
            "1       NaN       NaN       NaN  \n",
            "2       NaN       NaN       NaN  \n",
            "3       NaN       NaN       NaN  \n",
            "4       NaN       NaN       NaN  \n",
            "\n",
            "[5 rows x 335 columns]\n"
          ]
        }
      ]
    },
    {
      "cell_type": "code",
      "source": [
        "value_cols = df.columns[2:]\n",
        "print(value_cols.tolist())"
      ],
      "metadata": {
        "colab": {
          "base_uri": "https://localhost:8080/"
        },
        "id": "JT2R1wSzI8G8",
        "outputId": "956b0d59-879a-46a7-df2b-0e64d56871cc"
      },
      "execution_count": 14,
      "outputs": [
        {
          "output_type": "stream",
          "name": "stdout",
          "text": [
            "['Month1', 'Month2', 'Month3', 'Month4', 'Month5', 'Month6', 'Month7', 'Month8', 'Month9', 'Month10', 'Month11', 'Month12', 'Month13', 'Month14', 'Month15', 'Month16', 'Month17', 'Month18', 'Month19', 'Month20', 'Month21', 'Month22', 'Month23', 'Month24', 'Month25', 'Month26', 'Month27', 'Month28', 'Month29', 'Month30', 'Month31', 'Month32', 'Month33', 'Month34', 'Month35', 'Month36', 'Month37', 'Month38', 'Month39', 'Month40', 'Month41', 'Month42', 'Month43', 'Month44', 'Month45', 'Month46', 'Month47', 'Month48', 'Month49', 'Month50', 'Month51', 'Month52', 'Month53', 'Month54', 'Month55', 'Month56', 'Month57', 'Month58', 'Month59', 'Month60', 'Month61', 'Month62', 'Month63', 'Month64', 'Month65', 'Month66', 'Month67', 'Month68', 'Month69', 'Month70', 'Month71', 'Month72', 'Month73', 'Month74', 'Month75', 'Month76', 'Month77', 'Month78', 'Month79', 'Month80', 'Month81', 'Month82', 'Month83', 'Month84', 'Month85', 'Month86', 'Month87', 'Month88', 'Month89', 'Month90', 'Month91', 'Month92', 'Month93', 'Month94', 'Month95', 'Month96', 'Month97', 'Month98', 'Month99', 'Month100', 'Month101', 'Month102', 'Month103', 'Month104', 'Month105', 'Month106', 'Month107', 'Month108', 'Month109', 'Month110', 'Month111', 'Month112', 'Month113', 'Month114', 'Month115', 'Month116', 'Month117', 'Month118', 'Month119', 'Month120', 'Month121', 'Month122', 'Month123', 'Month124', 'Month125', 'Month126', 'Month127', 'Month128', 'Month129', 'Month130', 'Month131', 'Month132', 'Month133', 'Month134', 'Month135', 'Month136', 'Month137', 'Month138', 'Month139', 'Month140', 'Month141', 'Month142', 'Month143', 'Month144', 'Month145', 'Month146', 'Month147', 'Month148', 'Month149', 'Month150', 'Month151', 'Month152', 'Month153', 'Month154', 'Month155', 'Month156', 'Month157', 'Month158', 'Month159', 'Month160', 'Month161', 'Month162', 'Month163', 'Month164', 'Month165', 'Month166', 'Month167', 'Month168', 'Month169', 'Month170', 'Month171', 'Month172', 'Month173', 'Month174', 'Month175', 'Month176', 'Month177', 'Month178', 'Month179', 'Month180', 'Month181', 'Month182', 'Month183', 'Month184', 'Month185', 'Month186', 'Month187', 'Month188', 'Month189', 'Month190', 'Month191', 'Month192', 'Month193', 'Month194', 'Month195', 'Month196', 'Month197', 'Month198', 'Month199', 'Month200', 'Month201', 'Month202', 'Month203', 'Month204', 'Month205', 'Month206', 'Month207', 'Month208', 'Month209', 'Month210', 'Month211', 'Month212', 'Month213', 'Month214', 'Month215', 'Month216', 'Month217', 'Month218', 'Month219', 'Month220', 'Month221', 'Month222', 'Month223', 'Month224', 'Month225', 'Month226', 'Month227', 'Month228', 'Month229', 'Month230', 'Month231', 'Month232', 'Month233', 'Month234', 'Month235', 'Month236', 'Month237', 'Month238', 'Month239', 'Month240', 'Month241', 'Month242', 'Month243', 'Month244', 'Month245', 'Month246', 'Month247', 'Month248', 'Month249', 'Month250', 'Month251', 'Month252', 'Month253', 'Month254', 'Month255', 'Month256', 'Month257', 'Month258', 'Month259', 'Month260', 'Month261', 'Month262', 'Month263', 'Month264', 'Month265', 'Month266', 'Month267', 'Month268', 'Month269', 'Month270', 'Month271', 'Month272', 'Month273', 'Month274', 'Month275', 'Month276', 'Month277', 'Month278', 'Month279', 'Month280', 'Month281', 'Month282', 'Month283', 'Month284', 'Month285', 'Month286', 'Month287', 'Month288', 'Month289', 'Month290', 'Month291', 'Month292', 'Month293', 'Month294', 'Month295', 'Month296', 'Month297', 'Month298', 'Month299', 'Month300', 'Month301', 'Month302', 'Month303', 'Month304', 'Month305', 'Month306', 'Month307', 'Month308', 'Month309', 'Month310', 'Month311', 'Month312', 'Month313', 'Month314', 'Month315', 'Month316', 'Month317', 'Month318', 'Month319', 'Month320', 'Month321', 'Month322', 'Month323', 'Month324', 'Month325', 'Month326', 'Month327', 'Month328', 'Month329', 'Month330', 'Month331', 'Month332', 'Month333']\n"
          ]
        }
      ]
    },
    {
      "cell_type": "code",
      "source": [
        "df_long = df.melt(id_vars=['series_id', 'start_date'],\n",
        "                  value_vars=value_cols,\n",
        "                  var_name='month_index',\n",
        "                  value_name='value')"
      ],
      "metadata": {
        "id": "7AI8WGczJAJQ"
      },
      "execution_count": 15,
      "outputs": []
    },
    {
      "cell_type": "code",
      "source": [
        "df_long['start_date'] = pd.to_datetime(df_long['start_date'])"
      ],
      "metadata": {
        "colab": {
          "base_uri": "https://localhost:8080/"
        },
        "id": "Id8SZufsJB2k",
        "outputId": "94af89e4-51d3-46b7-ba19-ac9ce73588f5"
      },
      "execution_count": 16,
      "outputs": [
        {
          "output_type": "stream",
          "name": "stderr",
          "text": [
            "<ipython-input-16-2d58871fc42f>:1: UserWarning: Could not infer format, so each element will be parsed individually, falling back to `dateutil`. To ensure parsing is consistent and as-expected, please specify a format.\n",
            "  df_long['start_date'] = pd.to_datetime(df_long['start_date'])\n"
          ]
        }
      ]
    },
    {
      "cell_type": "code",
      "source": [
        "df_long['month_offset'] = df_long['month_index'].str.extract('(\\d+)').astype(int) - 1"
      ],
      "metadata": {
        "id": "BtxFE56YJES1"
      },
      "execution_count": 17,
      "outputs": []
    },
    {
      "cell_type": "code",
      "source": [
        "df_long['date'] = df_long.apply(lambda row: row['start_date'] + relativedelta(months=row['month_offset']), axis=1)\n",
        "df_long['date'] = df_long['date'].dt.to_period('M')"
      ],
      "metadata": {
        "colab": {
          "base_uri": "https://localhost:8080/"
        },
        "id": "ROJ2xSZAJF81",
        "outputId": "98bc4c5d-be3f-40ed-b7d9-cf72e2849f38"
      },
      "execution_count": 18,
      "outputs": [
        {
          "output_type": "stream",
          "name": "stderr",
          "text": [
            "<ipython-input-18-b1ae2d40207f>:2: UserWarning: Converting to PeriodArray/Index representation will drop timezone information.\n",
            "  df_long['date'] = df_long['date'].dt.to_period('M')\n"
          ]
        }
      ]
    },
    {
      "cell_type": "code",
      "source": [
        "df_final = df_long[['series_id', 'date', 'value']]\n",
        "print(df_final.head(10))"
      ],
      "metadata": {
        "colab": {
          "base_uri": "https://localhost:8080/"
        },
        "id": "M05IDhhvJHvw",
        "outputId": "c9c7ca3c-e25c-4a93-b844-f32ab50fdd80"
      },
      "execution_count": 19,
      "outputs": [
        {
          "output_type": "stream",
          "name": "stdout",
          "text": [
            "  series_id     date     value\n",
            "0        T1  1979-01   1149.87\n",
            "1        T2  1979-01  65072.37\n",
            "2        T3  1985-01  37047.00\n",
            "3        T4  1985-01   7611.00\n",
            "4        T5  1985-01  27693.00\n",
            "5        T6  1985-01  12570.00\n",
            "6        T7  1985-01   4289.00\n",
            "7        T8  1985-01  55563.00\n",
            "8        T9  1985-01   4262.00\n",
            "9       T10  1985-01   6699.00\n"
          ]
        }
      ]
    },
    {
      "cell_type": "code",
      "source": [
        "def natural_key(s):\n",
        "    return tuple(int(text) if text.isdigit() else text.lower() for text in re.split('(\\d+)', s))"
      ],
      "metadata": {
        "id": "0jpOztFFJKNI"
      },
      "execution_count": 20,
      "outputs": []
    },
    {
      "cell_type": "code",
      "source": [
        "df_final = df_final.sort_values(\n",
        "    by=['series_id', 'date'],\n",
        "    key=lambda col: col.map(natural_key) if col.name == 'series_id' else col\n",
        ")\n",
        "print(df_final.head(10))\n",
        "\n",
        "df_final = df_final.dropna(subset=['value'])"
      ],
      "metadata": {
        "colab": {
          "base_uri": "https://localhost:8080/"
        },
        "id": "1l7Q3xuhJQAt",
        "outputId": "cb9d77a5-17a9-4c21-a39c-ffc36a990d31"
      },
      "execution_count": 23,
      "outputs": [
        {
          "output_type": "stream",
          "name": "stdout",
          "text": [
            "     series_id     date      value\n",
            "0           T1  1979-01  1149.8700\n",
            "366         T1  1979-02  1053.8002\n",
            "732         T1  1979-03  1388.8798\n",
            "1098        T1  1979-04  1783.3702\n",
            "1464        T1  1979-05  1921.0252\n",
            "1830        T1  1979-06  2704.9449\n",
            "2196        T1  1979-07  4184.4135\n",
            "2562        T1  1979-08  4148.3542\n",
            "2928        T1  1979-09  2620.7251\n",
            "3294        T1  1979-10  1650.3001\n"
          ]
        }
      ]
    },
    {
      "cell_type": "code",
      "source": [
        "output_filename = 'preprocessed_data.csv'\n",
        "df_final.to_csv(output_filename, index=False)\n",
        "files.download(output_filename)"
      ],
      "metadata": {
        "colab": {
          "base_uri": "https://localhost:8080/",
          "height": 17
        },
        "id": "r8CKj9zmJWHC",
        "outputId": "4013deeb-daa9-4d58-c1f3-2438074f495f"
      },
      "execution_count": 24,
      "outputs": [
        {
          "output_type": "display_data",
          "data": {
            "text/plain": [
              "<IPython.core.display.Javascript object>"
            ],
            "application/javascript": [
              "\n",
              "    async function download(id, filename, size) {\n",
              "      if (!google.colab.kernel.accessAllowed) {\n",
              "        return;\n",
              "      }\n",
              "      const div = document.createElement('div');\n",
              "      const label = document.createElement('label');\n",
              "      label.textContent = `Downloading \"${filename}\": `;\n",
              "      div.appendChild(label);\n",
              "      const progress = document.createElement('progress');\n",
              "      progress.max = size;\n",
              "      div.appendChild(progress);\n",
              "      document.body.appendChild(div);\n",
              "\n",
              "      const buffers = [];\n",
              "      let downloaded = 0;\n",
              "\n",
              "      const channel = await google.colab.kernel.comms.open(id);\n",
              "      // Send a message to notify the kernel that we're ready.\n",
              "      channel.send({})\n",
              "\n",
              "      for await (const message of channel.messages) {\n",
              "        // Send a message to notify the kernel that we're ready.\n",
              "        channel.send({})\n",
              "        if (message.buffers) {\n",
              "          for (const buffer of message.buffers) {\n",
              "            buffers.push(buffer);\n",
              "            downloaded += buffer.byteLength;\n",
              "            progress.value = downloaded;\n",
              "          }\n",
              "        }\n",
              "      }\n",
              "      const blob = new Blob(buffers, {type: 'application/binary'});\n",
              "      const a = document.createElement('a');\n",
              "      a.href = window.URL.createObjectURL(blob);\n",
              "      a.download = filename;\n",
              "      div.appendChild(a);\n",
              "      a.click();\n",
              "      div.remove();\n",
              "    }\n",
              "  "
            ]
          },
          "metadata": {}
        },
        {
          "output_type": "display_data",
          "data": {
            "text/plain": [
              "<IPython.core.display.Javascript object>"
            ],
            "application/javascript": [
              "download(\"download_f631f78a-7b3f-4abe-8488-0a840418fc59\", \"preprocessed_data.csv\", 2110982)"
            ]
          },
          "metadata": {}
        }
      ]
    }
  ]
}