{
 "cells": [
  {
   "cell_type": "code",
   "id": "initial_id",
   "metadata": {
    "collapsed": true,
    "ExecuteTime": {
     "end_time": "2025-03-11T00:37:48.087995Z",
     "start_time": "2025-03-11T00:37:48.018205Z"
    }
   },
   "source": [
    "import pandas as pd\n",
    "\n",
    "# CSV 파일 로드\n",
    "df = pd.read_csv('./G group/rideshare_dataset_without_missing_values.csv')\n",
    "\n",
    "# 데이터프레임의 처음 몇 행 출력\n",
    "print(\"Head of dataset:\")\n",
    "df.head()\n"
   ],
   "outputs": [
    {
     "name": "stdout",
     "output_type": "stream",
     "text": [
      "Head of dataset:\n"
     ]
    },
    {
     "data": {
      "text/plain": [
       "                               # Dataset Information\n",
       "0  # This dataset contains various time series re...\n",
       "1  # For a given starting location, provider and ...\n",
       "2  # The original dataset contains missing values...\n",
       "3                                                  #\n",
       "4                # For more details, please refer to"
      ],
      "text/html": [
       "<div>\n",
       "<style scoped>\n",
       "    .dataframe tbody tr th:only-of-type {\n",
       "        vertical-align: middle;\n",
       "    }\n",
       "\n",
       "    .dataframe tbody tr th {\n",
       "        vertical-align: top;\n",
       "    }\n",
       "\n",
       "    .dataframe thead th {\n",
       "        text-align: right;\n",
       "    }\n",
       "</style>\n",
       "<table border=\"1\" class=\"dataframe\">\n",
       "  <thead>\n",
       "    <tr style=\"text-align: right;\">\n",
       "      <th></th>\n",
       "      <th># Dataset Information</th>\n",
       "    </tr>\n",
       "  </thead>\n",
       "  <tbody>\n",
       "    <tr>\n",
       "      <th>0</th>\n",
       "      <td># This dataset contains various time series re...</td>\n",
       "    </tr>\n",
       "    <tr>\n",
       "      <th>1</th>\n",
       "      <td># For a given starting location, provider and ...</td>\n",
       "    </tr>\n",
       "    <tr>\n",
       "      <th>2</th>\n",
       "      <td># The original dataset contains missing values...</td>\n",
       "    </tr>\n",
       "    <tr>\n",
       "      <th>3</th>\n",
       "      <td>#</td>\n",
       "    </tr>\n",
       "    <tr>\n",
       "      <th>4</th>\n",
       "      <td># For more details, please refer to</td>\n",
       "    </tr>\n",
       "  </tbody>\n",
       "</table>\n",
       "</div>"
      ]
     },
     "execution_count": 4,
     "metadata": {},
     "output_type": "execute_result"
    }
   ],
   "execution_count": 4
  },
  {
   "metadata": {
    "ExecuteTime": {
     "end_time": "2025-03-11T22:20:41.462632Z",
     "start_time": "2025-03-11T22:20:40.862323Z"
    }
   },
   "cell_type": "code",
   "source": "df = pd.read_csv(\"./data/Processed_rideshare.csv\")\n",
   "id": "34bb09d4337c738d",
   "outputs": [],
   "execution_count": 65
  },
  {
   "metadata": {
    "ExecuteTime": {
     "end_time": "2025-03-11T22:20:47.646355Z",
     "start_time": "2025-03-11T22:20:47.636422Z"
    }
   },
   "cell_type": "code",
   "source": "df",
   "id": "3d2b0c71124eede1",
   "outputs": [
    {
     "data": {
      "text/plain": [
       "            ID  Location Provider Service  Attribute            Timestamp  \\\n",
       "0           T0  Back Bay     Lyft     Lux  price_min  2018-11-26 06:00:00   \n",
       "1           T0  Back Bay     Lyft     Lux  price_min  2018-11-26 07:00:00   \n",
       "2           T0  Back Bay     Lyft     Lux  price_min  2018-11-26 08:00:00   \n",
       "3           T0  Back Bay     Lyft     Lux  price_min  2018-11-26 09:00:00   \n",
       "4           T0  Back Bay     Lyft     Lux  price_min  2018-11-26 10:00:00   \n",
       "...        ...       ...      ...     ...        ...                  ...   \n",
       "1246459  T2495  West End     Uber     WAV       wind  2018-12-18 14:00:00   \n",
       "1246460  T2495  West End     Uber     WAV       wind  2018-12-18 15:00:00   \n",
       "1246461  T2495  West End     Uber     WAV       wind  2018-12-18 16:00:00   \n",
       "1246462  T2495  West End     Uber     WAV       wind  2018-12-18 17:00:00   \n",
       "1246463  T2495  West End     Uber     WAV       wind  2018-12-18 18:00:00   \n",
       "\n",
       "         Value  \n",
       "0        11.00  \n",
       "1        13.50  \n",
       "2        13.50  \n",
       "3        13.50  \n",
       "4        13.50  \n",
       "...        ...  \n",
       "1246459  13.89  \n",
       "1246460  15.03  \n",
       "1246461  14.60  \n",
       "1246462  13.55  \n",
       "1246463  13.09  \n",
       "\n",
       "[1246464 rows x 7 columns]"
      ],
      "text/html": [
       "<div>\n",
       "<style scoped>\n",
       "    .dataframe tbody tr th:only-of-type {\n",
       "        vertical-align: middle;\n",
       "    }\n",
       "\n",
       "    .dataframe tbody tr th {\n",
       "        vertical-align: top;\n",
       "    }\n",
       "\n",
       "    .dataframe thead th {\n",
       "        text-align: right;\n",
       "    }\n",
       "</style>\n",
       "<table border=\"1\" class=\"dataframe\">\n",
       "  <thead>\n",
       "    <tr style=\"text-align: right;\">\n",
       "      <th></th>\n",
       "      <th>ID</th>\n",
       "      <th>Location</th>\n",
       "      <th>Provider</th>\n",
       "      <th>Service</th>\n",
       "      <th>Attribute</th>\n",
       "      <th>Timestamp</th>\n",
       "      <th>Value</th>\n",
       "    </tr>\n",
       "  </thead>\n",
       "  <tbody>\n",
       "    <tr>\n",
       "      <th>0</th>\n",
       "      <td>T0</td>\n",
       "      <td>Back Bay</td>\n",
       "      <td>Lyft</td>\n",
       "      <td>Lux</td>\n",
       "      <td>price_min</td>\n",
       "      <td>2018-11-26 06:00:00</td>\n",
       "      <td>11.00</td>\n",
       "    </tr>\n",
       "    <tr>\n",
       "      <th>1</th>\n",
       "      <td>T0</td>\n",
       "      <td>Back Bay</td>\n",
       "      <td>Lyft</td>\n",
       "      <td>Lux</td>\n",
       "      <td>price_min</td>\n",
       "      <td>2018-11-26 07:00:00</td>\n",
       "      <td>13.50</td>\n",
       "    </tr>\n",
       "    <tr>\n",
       "      <th>2</th>\n",
       "      <td>T0</td>\n",
       "      <td>Back Bay</td>\n",
       "      <td>Lyft</td>\n",
       "      <td>Lux</td>\n",
       "      <td>price_min</td>\n",
       "      <td>2018-11-26 08:00:00</td>\n",
       "      <td>13.50</td>\n",
       "    </tr>\n",
       "    <tr>\n",
       "      <th>3</th>\n",
       "      <td>T0</td>\n",
       "      <td>Back Bay</td>\n",
       "      <td>Lyft</td>\n",
       "      <td>Lux</td>\n",
       "      <td>price_min</td>\n",
       "      <td>2018-11-26 09:00:00</td>\n",
       "      <td>13.50</td>\n",
       "    </tr>\n",
       "    <tr>\n",
       "      <th>4</th>\n",
       "      <td>T0</td>\n",
       "      <td>Back Bay</td>\n",
       "      <td>Lyft</td>\n",
       "      <td>Lux</td>\n",
       "      <td>price_min</td>\n",
       "      <td>2018-11-26 10:00:00</td>\n",
       "      <td>13.50</td>\n",
       "    </tr>\n",
       "    <tr>\n",
       "      <th>...</th>\n",
       "      <td>...</td>\n",
       "      <td>...</td>\n",
       "      <td>...</td>\n",
       "      <td>...</td>\n",
       "      <td>...</td>\n",
       "      <td>...</td>\n",
       "      <td>...</td>\n",
       "    </tr>\n",
       "    <tr>\n",
       "      <th>1246459</th>\n",
       "      <td>T2495</td>\n",
       "      <td>West End</td>\n",
       "      <td>Uber</td>\n",
       "      <td>WAV</td>\n",
       "      <td>wind</td>\n",
       "      <td>2018-12-18 14:00:00</td>\n",
       "      <td>13.89</td>\n",
       "    </tr>\n",
       "    <tr>\n",
       "      <th>1246460</th>\n",
       "      <td>T2495</td>\n",
       "      <td>West End</td>\n",
       "      <td>Uber</td>\n",
       "      <td>WAV</td>\n",
       "      <td>wind</td>\n",
       "      <td>2018-12-18 15:00:00</td>\n",
       "      <td>15.03</td>\n",
       "    </tr>\n",
       "    <tr>\n",
       "      <th>1246461</th>\n",
       "      <td>T2495</td>\n",
       "      <td>West End</td>\n",
       "      <td>Uber</td>\n",
       "      <td>WAV</td>\n",
       "      <td>wind</td>\n",
       "      <td>2018-12-18 16:00:00</td>\n",
       "      <td>14.60</td>\n",
       "    </tr>\n",
       "    <tr>\n",
       "      <th>1246462</th>\n",
       "      <td>T2495</td>\n",
       "      <td>West End</td>\n",
       "      <td>Uber</td>\n",
       "      <td>WAV</td>\n",
       "      <td>wind</td>\n",
       "      <td>2018-12-18 17:00:00</td>\n",
       "      <td>13.55</td>\n",
       "    </tr>\n",
       "    <tr>\n",
       "      <th>1246463</th>\n",
       "      <td>T2495</td>\n",
       "      <td>West End</td>\n",
       "      <td>Uber</td>\n",
       "      <td>WAV</td>\n",
       "      <td>wind</td>\n",
       "      <td>2018-12-18 18:00:00</td>\n",
       "      <td>13.09</td>\n",
       "    </tr>\n",
       "  </tbody>\n",
       "</table>\n",
       "<p>1246464 rows × 7 columns</p>\n",
       "</div>"
      ]
     },
     "execution_count": 66,
     "metadata": {},
     "output_type": "execute_result"
    }
   ],
   "execution_count": 66
  },
  {
   "metadata": {},
   "cell_type": "code",
   "outputs": [
    {
     "data": {
      "text/plain": [
       "Location\n",
       "Beacon Hill                103872\n",
       "Boston University          103872\n",
       "Fenway                     103872\n",
       "Financial District         103872\n",
       "Northeastern University    103872\n",
       "Haymarket Square           103872\n",
       "North End                  103872\n",
       "North Station              103872\n",
       "Theatre District           103872\n",
       "South Station              103872\n",
       "West End                   103872\n",
       "Back Bay                   103331\n",
       "Name: count, dtype: int64"
      ]
     },
     "execution_count": 22,
     "metadata": {},
     "output_type": "execute_result"
    }
   ],
   "execution_count": 22,
   "source": "df[\"Location\"].value_counts()",
   "id": "bc87cc92c6ddef1d"
  },
  {
   "metadata": {
    "ExecuteTime": {
     "end_time": "2025-03-11T22:21:37.614086Z",
     "start_time": "2025-03-11T22:21:37.565050Z"
    }
   },
   "cell_type": "code",
   "source": "df[\"Provider\"].value_counts()",
   "id": "9f6c32624895fa81",
   "outputs": [
    {
     "data": {
      "text/plain": [
       "Provider\n",
       "Uber    662184\n",
       "Lyft    584280\n",
       "Name: count, dtype: int64"
      ]
     },
     "execution_count": 67,
     "metadata": {},
     "output_type": "execute_result"
    }
   ],
   "execution_count": 67
  },
  {
   "metadata": {
    "ExecuteTime": {
     "end_time": "2025-03-11T22:21:43.787347Z",
     "start_time": "2025-03-11T22:21:43.740591Z"
    }
   },
   "cell_type": "code",
   "source": "df[\"Service\"].value_counts()",
   "id": "f88fc765ef55fe9c",
   "outputs": [
    {
     "data": {
      "text/plain": [
       "Service\n",
       "Lux             97380\n",
       "Lux Black       97380\n",
       "Lux Black XL    97380\n",
       "Lyft            97380\n",
       "Lyft XL         97380\n",
       "Shared          97380\n",
       "Black           97380\n",
       "Black SUV       97380\n",
       "UberPool        97380\n",
       "UberXL          97380\n",
       "UberX           97380\n",
       "WAV             97380\n",
       "Taxi            77904\n",
       "Name: count, dtype: int64"
      ]
     },
     "execution_count": 68,
     "metadata": {},
     "output_type": "execute_result"
    }
   ],
   "execution_count": 68
  },
  {
   "metadata": {
    "ExecuteTime": {
     "end_time": "2025-03-11T22:22:16.158335Z",
     "start_time": "2025-03-11T22:22:16.111578Z"
    }
   },
   "cell_type": "code",
   "source": "df[\"Attribute\"].value_counts()",
   "id": "5a9e1cabbb799743",
   "outputs": [
    {
     "data": {
      "text/plain": [
       "Attribute\n",
       "distance_max     84396\n",
       "distance_mean    84396\n",
       "distance_min     84396\n",
       "surge_min        84396\n",
       "api_calls        84396\n",
       "surge_max        84396\n",
       "surge_mean       84396\n",
       "rain             84396\n",
       "humidity         84396\n",
       "clouds           84396\n",
       "temp             84396\n",
       "wind             84396\n",
       "price_mean       77904\n",
       "price_max        77904\n",
       "price_min        77904\n",
       "Name: count, dtype: int64"
      ]
     },
     "execution_count": 70,
     "metadata": {},
     "output_type": "execute_result"
    }
   ],
   "execution_count": 70
  }
 ],
 "metadata": {
  "kernelspec": {
   "display_name": "Python 3",
   "language": "python",
   "name": "python3"
  },
  "language_info": {
   "codemirror_mode": {
    "name": "ipython",
    "version": 2
   },
   "file_extension": ".py",
   "mimetype": "text/x-python",
   "name": "python",
   "nbconvert_exporter": "python",
   "pygments_lexer": "ipython2",
   "version": "2.7.6"
  }
 },
 "nbformat": 4,
 "nbformat_minor": 5
}
