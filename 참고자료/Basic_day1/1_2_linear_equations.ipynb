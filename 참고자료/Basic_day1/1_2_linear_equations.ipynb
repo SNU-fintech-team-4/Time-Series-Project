{
  "cells": [
    {
      "cell_type": "markdown",
      "metadata": {
        "id": "eNgJV6NdbWlh"
      },
      "source": [
        "#### 코드 참조\n",
        "[1] https://github.com/rickiepark/machine-learning-with-python-cookbook\n",
        "[2] https://docs.scipy.org/doc/scipy/reference/tutorial/linalg.html\n",
        "[3] https://github.com/mikexcohen/LinAlgBook/blob/main/python\n",
        "[4] https://docs.sympy.org/latest/tutorial/matrices.html\n",
        "[5] Dr. Jaewook Lee's Lecture Notes"
      ]
    },
    {
      "cell_type": "markdown",
      "metadata": {
        "id": "view-in-github"
      },
      "source": [
        "<a href=\"https://colab.research.google.com/github/SLCFLAB/Fintech2024/blob/main/ML_day0/0_2_linear_equations.ipynb\" target=\"_parent\"><img src=\"https://colab.research.google.com/assets/colab-badge.svg\" alt=\"Open In Colab\"/></a>"
      ]
    },
    {
      "cell_type": "markdown",
      "metadata": {
        "id": "sVc3jzlebWlm"
      },
      "source": [
        "# 1.2장 선형방정식"
      ]
    },
    {
      "cell_type": "markdown",
      "metadata": {
        "id": "roMQFgNKbWln"
      },
      "source": [
        "## 2.1 행렬의 랭크 구하기"
      ]
    },
    {
      "cell_type": "code",
      "execution_count": 1,
      "metadata": {
        "colab": {
          "base_uri": "https://localhost:8080/"
        },
        "id": "Q95et00xbWln",
        "outputId": "0bcacb53-4056-4e36-f179-87323cf7bdde"
      },
      "outputs": [
        {
          "data": {
            "text/plain": [
              "np.int64(2)"
            ]
          },
          "execution_count": 1,
          "metadata": {},
          "output_type": "execute_result"
        }
      ],
      "source": [
        "# 라이브러리를 임포트합니다.\n",
        "import numpy as np\n",
        "\n",
        "# 행렬을 만듭니다.\n",
        "A = np.array([[1, 1, 1],\n",
        "              [1, 1, 10],\n",
        "              [1, 1, 15]])\n",
        "\n",
        "# 행렬의 랭크를 반환합니다.\n",
        "np.linalg.matrix_rank(A)"
      ]
    },
    {
      "cell_type": "code",
      "execution_count": 2,
      "metadata": {
        "colab": {
          "base_uri": "https://localhost:8080/"
        },
        "id": "d01VsWvcbWlp",
        "outputId": "f8e50f81-e4a1-46f4-85cd-921d18fada5d"
      },
      "outputs": [
        {
          "data": {
            "text/plain": [
              "2"
            ]
          },
          "execution_count": 2,
          "metadata": {},
          "output_type": "execute_result"
        }
      ],
      "source": [
        "np.ndim(A)"
      ]
    },
    {
      "cell_type": "code",
      "execution_count": 3,
      "metadata": {
        "id": "pX4BPidlbdjy"
      },
      "outputs": [],
      "source": [
        "# svd 함수로 특잇값만 계산합니다.\n",
        "s = np.linalg.svd(A, compute_uv=False)"
      ]
    },
    {
      "cell_type": "code",
      "execution_count": 4,
      "metadata": {
        "colab": {
          "base_uri": "https://localhost:8080/"
        },
        "id": "0zso3Fh-b8Sl",
        "outputId": "2d3423f9-3cb4-4749-f668-747315262d11"
      },
      "outputs": [
        {
          "data": {
            "text/plain": [
              "array([18.17059831,  1.35253727,  0.        ])"
            ]
          },
          "execution_count": 4,
          "metadata": {},
          "output_type": "execute_result"
        }
      ],
      "source": [
        "s"
      ]
    },
    {
      "cell_type": "markdown",
      "metadata": {
        "id": "IlFOVE_AbWls"
      },
      "source": [
        "## 2.2 행렬식(determinant)과 norm 계산하기"
      ]
    },
    {
      "cell_type": "code",
      "execution_count": 5,
      "metadata": {
        "colab": {
          "base_uri": "https://localhost:8080/"
        },
        "id": "dOLwzaeFbWls",
        "outputId": "ae2eb2bd-62a7-4479-e3e9-e336c60704ab"
      },
      "outputs": [
        {
          "data": {
            "text/plain": [
              "np.float64(-25.000000000000004)"
            ]
          },
          "execution_count": 5,
          "metadata": {},
          "output_type": "execute_result"
        }
      ],
      "source": [
        "# 라이브러리를 임포트합니다.\n",
        "import numpy as np\n",
        "import matplotlib.pyplot as plt\n",
        "from scipy import linalg\n",
        "\n",
        "# 행렬을 만듭니다.\n",
        "A = np.array([[1, 3, 5],\n",
        "              [2, 5, 1],\n",
        "              [2, 3, 8]])\n",
        "\n",
        "# 행렬의 행렬식을 반환합니다.\n",
        "linalg.det(A)"
      ]
    },
    {
      "cell_type": "code",
      "execution_count": 12,
      "metadata": {
        "colab": {
          "base_uri": "https://localhost:8080/",
          "height": 449
        },
        "id": "AApfQKsFbWlt",
        "outputId": "d2544310-84fb-49dc-ac3d-dd2b7e919f1b"
      },
      "outputs": [
        {
          "data": {
            "image/png": "[encoded data removed]",
            "text/plain": [
              "<Figure size 640x480 with 1 Axes>"
            ]
          },
          "metadata": {},
          "output_type": "display_data"
        }
      ],
      "source": [
        "# matrix sizes\n",
        "ns = np.arange(3,31)\n",
        "\n",
        "# iteration\n",
        "iters = 100\n",
        "\n",
        "# initialize\n",
        "dets = np.zeros((len(ns), iters))\n",
        "\n",
        "for idx, val in enumerate(ns):\n",
        "    for i in range(iters):\n",
        "\n",
        "        # step 1\n",
        "        A = np.random.randn(val, val)\n",
        "\n",
        "        # step 2\n",
        "        A[:, 0] = A[:, 1]\n",
        "\n",
        "        # step 3\n",
        "        dets[idx, i] = np.abs(np.linalg.det(A))\n",
        "\n",
        "\n",
        "# plotting\n",
        "plt.plot(ns, np.log(np.mean(dets, axis=1)))\n",
        "plt.xlabel('Matrix size')\n",
        "plt.ylabel('Log determinant')\n",
        "plt.show()"
      ]
    },
    {
      "cell_type": "code",
      "execution_count": 14,
      "metadata": {
        "colab": {
          "base_uri": "https://localhost:8080/"
        },
        "id": "UixFJiW7bWlu",
        "outputId": "e95d0a88-7b4f-4364-af13-93d74e222628"
      },
      "outputs": [
        {
          "data": {
            "text/plain": [
              "np.float64(29.65519060999766)"
            ]
          },
          "execution_count": 14,
          "metadata": {},
          "output_type": "execute_result"
        }
      ],
      "source": [
        "linalg.norm(A)"
      ]
    },
    {
      "cell_type": "code",
      "execution_count": 15,
      "metadata": {
        "colab": {
          "base_uri": "https://localhost:8080/"
        },
        "id": "OGvcg_i4bWlv",
        "outputId": "470f5053-2f7e-4d36-d988-b0c4a2498b83"
      },
      "outputs": [
        {
          "data": {
            "text/plain": [
              "np.float64(29.65519060999766)"
            ]
          },
          "execution_count": 15,
          "metadata": {},
          "output_type": "execute_result"
        }
      ],
      "source": [
        "linalg.norm(A,'fro') # frobenius norm is the default"
      ]
    },
    {
      "cell_type": "code",
      "execution_count": 17,
      "metadata": {
        "colab": {
          "base_uri": "https://localhost:8080/"
        },
        "id": "UkWRLRi2bWlv",
        "outputId": "2e73b2e1-2865-4af0-c173-09d1176ea4ec"
      },
      "outputs": [
        {
          "data": {
            "text/plain": [
              "31.78742297692424"
            ]
          },
          "execution_count": 17,
          "metadata": {},
          "output_type": "execute_result"
        }
      ],
      "source": [
        "linalg.norm(A, 1) # L1 norm (max column sum)"
      ]
    },
    {
      "cell_type": "code",
      "execution_count": 18,
      "metadata": {
        "colab": {
          "base_uri": "https://localhost:8080/"
        },
        "id": "tLZCydOybWlw",
        "outputId": "fc418c88-1655-4beb-b484-c1b1c79988bb"
      },
      "outputs": [
        {
          "data": {
            "text/plain": [
              "np.float64(18.773244985033518)"
            ]
          },
          "execution_count": 18,
          "metadata": {},
          "output_type": "execute_result"
        }
      ],
      "source": [
        "linalg.norm(A, -1) # min column sum"
      ]
    },
    {
      "cell_type": "code",
      "execution_count": 19,
      "metadata": {
        "colab": {
          "base_uri": "https://localhost:8080/"
        },
        "id": "vX_iNe1gbWlw",
        "outputId": "2bd9bf36-1743-41e7-9a08-9777f82985b2"
      },
      "outputs": [
        {
          "data": {
            "text/plain": [
              "28.78843230046602"
            ]
          },
          "execution_count": 19,
          "metadata": {},
          "output_type": "execute_result"
        }
      ],
      "source": [
        "linalg.norm(A, np.inf) # L inf norm (max row sum)"
      ]
    },
    {
      "cell_type": "markdown",
      "metadata": {
        "id": "reC5uq_Rjv-w"
      },
      "source": [
        "## 2.3 행렬의 대각 원소 추출하기"
      ]
    },
    {
      "cell_type": "code",
      "execution_count": 20,
      "metadata": {
        "colab": {
          "base_uri": "https://localhost:8080/"
        },
        "id": "4iVGgGCvjv-w",
        "outputId": "250a4ac8-1191-4c4d-8204-e9af7451ae5f"
      },
      "outputs": [
        {
          "data": {
            "text/plain": [
              "array([1, 4, 9])"
            ]
          },
          "execution_count": 20,
          "metadata": {},
          "output_type": "execute_result"
        }
      ],
      "source": [
        "# 라이브러리를 임포트합니다.\n",
        "import numpy as np\n",
        "\n",
        "# 행렬을 만듭니다.\n",
        "matrix = np.array([[1, 2, 3],\n",
        "                   [2, 4, 6],\n",
        "                   [3, 8, 9]])\n",
        "\n",
        "# 대각 원소를 반환합니다.\n",
        "matrix.diagonal()"
      ]
    },
    {
      "cell_type": "markdown",
      "metadata": {
        "id": "dvcv9weHjv-x"
      },
      "source": [
        "### 붙임"
      ]
    },
    {
      "cell_type": "code",
      "execution_count": 30,
      "metadata": {
        "id": "nQmz2f7Tjv-x"
      },
      "outputs": [
        {
          "data": {
            "text/plain": [
              "array([1, 4, 9])"
            ]
          },
          "execution_count": 30,
          "metadata": {},
          "output_type": "execute_result"
        }
      ],
      "source": [
        "# 반환된 배열을 변경하려면 복사해야 합니다.\n",
        "a = matrix.diagonal().copy()\n",
        "a"
      ]
    },
    {
      "cell_type": "code",
      "execution_count": 27,
      "metadata": {
        "colab": {
          "base_uri": "https://localhost:8080/"
        },
        "id": "lGu3hvF6jv-x",
        "outputId": "8874c1b9-e893-4bc6-a958-16a61ccb03d2"
      },
      "outputs": [
        {
          "data": {
            "text/plain": [
              "array([1, 4, 9])"
            ]
          },
          "execution_count": 27,
          "metadata": {},
          "output_type": "execute_result"
        }
      ],
      "source": [
        "np.diag(matrix)"
      ]
    },
    {
      "cell_type": "code",
      "execution_count": 31,
      "metadata": {
        "colab": {
          "base_uri": "https://localhost:8080/"
        },
        "id": "zH5uG0XXjv-x",
        "outputId": "cc820307-9f91-43d4-d202-4dd06efc6eb7"
      },
      "outputs": [
        {
          "data": {
            "text/plain": [
              "array([[1, 0, 0],\n",
              "       [0, 4, 0],\n",
              "       [0, 0, 9]])"
            ]
          },
          "execution_count": 31,
          "metadata": {},
          "output_type": "execute_result"
        }
      ],
      "source": [
        "# 1차원 배열이 주어지면 2차원 대각행렬을 만듭니다.\n",
        "np.diag(a)"
      ]
    },
    {
      "cell_type": "markdown",
      "metadata": {
        "id": "az9Wepl1jv-x"
      },
      "source": [
        "## 2.4 행렬의 대각합(trace) 계산"
      ]
    },
    {
      "cell_type": "code",
      "execution_count": 32,
      "metadata": {
        "colab": {
          "base_uri": "https://localhost:8080/"
        },
        "id": "h6EDGpO0jv-x",
        "outputId": "bceef18e-2280-4ff1-dd85-ab8d7d027aaa"
      },
      "outputs": [
        {
          "data": {
            "text/plain": [
              "np.int64(14)"
            ]
          },
          "execution_count": 32,
          "metadata": {},
          "output_type": "execute_result"
        }
      ],
      "source": [
        "# 라이브러리를 임포트합니다.\n",
        "import numpy as np\n",
        "\n",
        "# 행렬을 만듭니다.\n",
        "matrix = np.array([[1, 2, 3],\n",
        "                   [2, 4, 6],\n",
        "                   [3, 8, 9]])\n",
        "\n",
        "# 대각합을 반환합니다.\n",
        "matrix.trace()"
      ]
    },
    {
      "cell_type": "code",
      "execution_count": 33,
      "metadata": {
        "colab": {
          "base_uri": "https://localhost:8080/"
        },
        "id": "o6QQTun8jv-x",
        "outputId": "5e852234-d4ca-4c74-9a68-7837240a3af8"
      },
      "outputs": [
        {
          "data": {
            "text/plain": [
              "np.int64(14)"
            ]
          },
          "execution_count": 33,
          "metadata": {},
          "output_type": "execute_result"
        }
      ],
      "source": [
        "# 대각 원소를 사용하여 합을 구합니다.\n",
        "sum(matrix.diagonal())"
      ]
    },
    {
      "cell_type": "markdown",
      "metadata": {
        "id": "G_FyImn7jv-y"
      },
      "source": [
        "## 2.5 점곱 계산"
      ]
    },
    {
      "cell_type": "code",
      "execution_count": 34,
      "metadata": {
        "colab": {
          "base_uri": "https://localhost:8080/"
        },
        "id": "-kSsTQ0Wjv-y",
        "outputId": "975ff67a-d774-48c0-b3c3-a07ab9163deb"
      },
      "outputs": [
        {
          "data": {
            "text/plain": [
              "np.int64(32)"
            ]
          },
          "execution_count": 34,
          "metadata": {},
          "output_type": "execute_result"
        }
      ],
      "source": [
        "# 라이브러리를 임포트합니다.\n",
        "import numpy as np\n",
        "\n",
        "# 두 벡터를 만듭니다.\n",
        "vector_a = np.array([1,2,3])\n",
        "vector_b = np.array([4,5,6])\n",
        "\n",
        "# 점곱을 계산합니다.\n",
        "np.dot(vector_a, vector_b)"
      ]
    },
    {
      "cell_type": "markdown",
      "metadata": {
        "id": "Ku8TogjWjv-z"
      },
      "source": [
        "### 붙임"
      ]
    },
    {
      "cell_type": "code",
      "execution_count": 35,
      "metadata": {
        "id": "A8ezCfaVjv-z"
      },
      "outputs": [],
      "source": [
        "scalar_a = np.array(1)\n",
        "scalar_b = np.array(2)"
      ]
    },
    {
      "cell_type": "code",
      "execution_count": 36,
      "metadata": {
        "colab": {
          "base_uri": "https://localhost:8080/"
        },
        "id": "v7ZE57gVjv-z",
        "outputId": "2e573fe8-5ce4-49f7-88b1-e9867b68ed79"
      },
      "outputs": [
        {
          "data": {
            "text/plain": [
              "np.int64(2)"
            ]
          },
          "execution_count": 36,
          "metadata": {},
          "output_type": "execute_result"
        }
      ],
      "source": [
        "np.dot(scalar_a, scalar_b)"
      ]
    },
    {
      "cell_type": "code",
      "execution_count": 37,
      "metadata": {
        "colab": {
          "base_uri": "https://localhost:8080/",
          "height": 164
        },
        "id": "XdoXw88Njv-z",
        "outputId": "790478c5-f769-4e9a-8f64-3d5f196515dd",
        "scrolled": false
      },
      "outputs": [
        {
          "ename": "ValueError",
          "evalue": "matmul: Input operand 0 does not have enough dimensions (has 0, gufunc core with signature (n?,k),(k,m?)->(n?,m?) requires 1)",
          "output_type": "error",
          "traceback": [
            "\u001b[1;31m---------------------------------------------------------------------------\u001b[0m",
            "\u001b[1;31mValueError\u001b[0m                                Traceback (most recent call last)",
            "Cell \u001b[1;32mIn[37], line 2\u001b[0m\n\u001b[0;32m      1\u001b[0m \u001b[38;5;66;03m# 스칼라 배열에 적용되지 않습니다.\u001b[39;00m\n\u001b[1;32m----> 2\u001b[0m \u001b[43mscalar_a\u001b[49m\u001b[43m \u001b[49m\u001b[38;5;241;43m@\u001b[39;49m\u001b[43m \u001b[49m\u001b[43mscalar_b\u001b[49m\n",
            "\u001b[1;31mValueError\u001b[0m: matmul: Input operand 0 does not have enough dimensions (has 0, gufunc core with signature (n?,k),(k,m?)->(n?,m?) requires 1)"
          ]
        }
      ],
      "source": [
        "# 스칼라 배열에 적용되지 않습니다.\n",
        "scalar_a @ scalar_b"
      ]
    },
    {
      "cell_type": "markdown",
      "metadata": {
        "id": "3Hn9ma4cjv-z"
      },
      "source": [
        "## 2.6 행렬 덧셈과 뺄셈"
      ]
    },
    {
      "cell_type": "code",
      "execution_count": 38,
      "metadata": {
        "colab": {
          "base_uri": "https://localhost:8080/"
        },
        "id": "OZSh-pnjjv-z",
        "outputId": "4a3078a7-3a08-405f-e842-459533ef7477"
      },
      "outputs": [
        {
          "data": {
            "text/plain": [
              "array([[ 2,  4,  2],\n",
              "       [ 2,  4,  2],\n",
              "       [ 2,  4, 10]])"
            ]
          },
          "execution_count": 38,
          "metadata": {},
          "output_type": "execute_result"
        }
      ],
      "source": [
        "# 라이브러리를 임포트합니다.\n",
        "import numpy as np\n",
        "\n",
        "# 행렬을 만듭니다.\n",
        "matrix_a = np.array([[1, 1, 1],\n",
        "                     [1, 1, 1],\n",
        "                     [1, 1, 2]])\n",
        "\n",
        "# 행렬을 만듭니다.\n",
        "matrix_b = np.array([[1, 3, 1],\n",
        "                     [1, 3, 1],\n",
        "                     [1, 3, 8]])\n",
        "\n",
        "# 두 행렬을 더합니다.\n",
        "np.add(matrix_a, matrix_b)"
      ]
    },
    {
      "cell_type": "code",
      "execution_count": 39,
      "metadata": {
        "colab": {
          "base_uri": "https://localhost:8080/"
        },
        "id": "PBk9Z4Xvjv-0",
        "outputId": "1f01a6f6-7e26-4efb-f889-4f972d817ee8"
      },
      "outputs": [
        {
          "data": {
            "text/plain": [
              "array([[ 0, -2,  0],\n",
              "       [ 0, -2,  0],\n",
              "       [ 0, -2, -6]])"
            ]
          },
          "execution_count": 39,
          "metadata": {},
          "output_type": "execute_result"
        }
      ],
      "source": [
        "# 두 행렬을 뺍니다.\n",
        "np.subtract(matrix_a, matrix_b)"
      ]
    },
    {
      "cell_type": "code",
      "execution_count": 40,
      "metadata": {
        "colab": {
          "base_uri": "https://localhost:8080/"
        },
        "id": "hQK-oxOojv-0",
        "outputId": "bf176730-4641-433a-946c-d97b5faf9f1f"
      },
      "outputs": [
        {
          "data": {
            "text/plain": [
              "array([[ 2,  4,  2],\n",
              "       [ 2,  4,  2],\n",
              "       [ 2,  4, 10]])"
            ]
          },
          "execution_count": 40,
          "metadata": {},
          "output_type": "execute_result"
        }
      ],
      "source": [
        "# 두 행렬을 더합니다.\n",
        "matrix_a + matrix_b"
      ]
    },
    {
      "cell_type": "markdown",
      "metadata": {
        "id": "KsiFeQkRjv-0"
      },
      "source": [
        "## 2.7 행렬 곱셈"
      ]
    },
    {
      "cell_type": "code",
      "execution_count": 41,
      "metadata": {
        "colab": {
          "base_uri": "https://localhost:8080/"
        },
        "id": "xsgIHJCMjv-0",
        "outputId": "a18b03e7-fbe5-478f-eac2-6641a0d6515b"
      },
      "outputs": [
        {
          "data": {
            "text/plain": [
              "array([[2, 5],\n",
              "       [3, 7]])"
            ]
          },
          "execution_count": 41,
          "metadata": {},
          "output_type": "execute_result"
        }
      ],
      "source": [
        "# 라이브러리를 임포트합니다.\n",
        "import numpy as np\n",
        "\n",
        "# 행렬을 만듭니다.\n",
        "matrix_a = np.array([[1, 1],\n",
        "                     [1, 2]])\n",
        "\n",
        "# 행렬을 만듭니다.\n",
        "matrix_b = np.array([[1, 3],\n",
        "                     [1, 2]])\n",
        "\n",
        "# 두 행렬을 곱합니다.\n",
        "np.dot(matrix_a, matrix_b)"
      ]
    },
    {
      "cell_type": "code",
      "execution_count": 42,
      "metadata": {
        "colab": {
          "base_uri": "https://localhost:8080/"
        },
        "id": "5OI33K7Tjv-1",
        "outputId": "de3c8411-fb9e-4b0d-e1f0-ae8119e7dd21"
      },
      "outputs": [
        {
          "data": {
            "text/plain": [
              "array([[2, 5],\n",
              "       [3, 7]])"
            ]
          },
          "execution_count": 42,
          "metadata": {},
          "output_type": "execute_result"
        }
      ],
      "source": [
        "# 두 행렬을 곱합니다.\n",
        "matrix_a @ matrix_b"
      ]
    },
    {
      "cell_type": "code",
      "execution_count": 43,
      "metadata": {
        "colab": {
          "base_uri": "https://localhost:8080/"
        },
        "id": "NKpkqfzkjv-1",
        "outputId": "e92464bd-8842-4823-c2a7-d470812ddade"
      },
      "outputs": [
        {
          "data": {
            "text/plain": [
              "array([[1, 3],\n",
              "       [1, 4]])"
            ]
          },
          "execution_count": 43,
          "metadata": {},
          "output_type": "execute_result"
        }
      ],
      "source": [
        "# 두 행렬의 원소별 곱셈을 수행합니다.\n",
        "matrix_a * matrix_b"
      ]
    },
    {
      "cell_type": "markdown",
      "metadata": {
        "id": "-NuiuCzhbWlw"
      },
      "source": [
        "##  2.8 선형방정식과 LU 분해"
      ]
    },
    {
      "cell_type": "code",
      "execution_count": 46,
      "metadata": {
        "id": "mGu8L5lTbWlx"
      },
      "outputs": [],
      "source": [
        "# 라이브러리를 임포트합니다.\n",
        "import numpy as np\n",
        "from scipy.linalg import lu\n",
        "\n",
        "A = np.array([[1,3,5],[2,5,1],[2,3,8]])"
      ]
    },
    {
      "cell_type": "code",
      "execution_count": 49,
      "metadata": {
        "colab": {
          "base_uri": "https://localhost:8080/"
        },
        "id": "2NwxiZXybWlx",
        "outputId": "7bdb53a0-2b7b-4cf4-8165-0399646db1cb"
      },
      "outputs": [
        {
          "name": "stdout",
          "output_type": "stream",
          "text": [
            "[[0. 0. 1.]\n",
            " [1. 0. 0.]\n",
            " [0. 1. 0.]]\n",
            "[[ 1.    0.    0.  ]\n",
            " [ 1.    1.    0.  ]\n",
            " [ 0.5  -0.25  1.  ]]\n",
            "[[ 2.    5.    1.  ]\n",
            " [ 0.   -2.    7.  ]\n",
            " [ 0.    0.    6.25]]\n",
            "True\n"
          ]
        }
      ],
      "source": [
        "# LU 분해합니다.\n",
        "P, L, U = lu(A)\n",
        "print(P)\n",
        "print(L)\n",
        "print(U)\n",
        "\n",
        "# 실제로 비슷한지 확인합니다.\n",
        "print(np.allclose(A - P @ L @ U, np.zeros((3, 3))))"
      ]
    },
    {
      "cell_type": "code",
      "execution_count": 51,
      "metadata": {
        "colab": {
          "base_uri": "https://localhost:8080/"
        },
        "id": "Wx8SjHp0bWlx",
        "outputId": "9f30ec37-1a9c-4ca5-fef5-783bb9634962"
      },
      "outputs": [
        {
          "data": {
            "text/plain": [
              "array([[ 8.  ],\n",
              "       [-5.  ],\n",
              "       [ 4.75]])"
            ]
          },
          "execution_count": 51,
          "metadata": {},
          "output_type": "execute_result"
        }
      ],
      "source": [
        "b = np.array([[10], [8], [3]])\n",
        "y = np.linalg.solve(L, P.T @ b)\n",
        "y"
      ]
    },
    {
      "cell_type": "code",
      "execution_count": 52,
      "metadata": {
        "colab": {
          "base_uri": "https://localhost:8080/"
        },
        "id": "dJKfy3hkbWlx",
        "outputId": "ea5e2e51-28f8-43f4-ceb5-c2051702844c"
      },
      "outputs": [
        {
          "data": {
            "text/plain": [
              "array([[-9.28],\n",
              "       [ 5.16],\n",
              "       [ 0.76]])"
            ]
          },
          "execution_count": 52,
          "metadata": {},
          "output_type": "execute_result"
        }
      ],
      "source": [
        "x = np.linalg.solve(U, y)\n",
        "x"
      ]
    },
    {
      "cell_type": "markdown",
      "metadata": {
        "id": "sdxchm-tbWly"
      },
      "source": [
        "## 2.9 역행렬 구하기, 연립방정식 풀기"
      ]
    },
    {
      "cell_type": "code",
      "execution_count": 53,
      "metadata": {
        "colab": {
          "base_uri": "https://localhost:8080/"
        },
        "id": "k27ESubHbWly",
        "outputId": "59c72450-2c56-48df-faa4-965909435e51"
      },
      "outputs": [
        {
          "data": {
            "text/plain": [
              "array([[1, 3, 5],\n",
              "       [2, 5, 1],\n",
              "       [2, 3, 8]])"
            ]
          },
          "execution_count": 53,
          "metadata": {},
          "output_type": "execute_result"
        }
      ],
      "source": [
        "import numpy as np\n",
        "from scipy import linalg\n",
        "A = np.array([[1,3,5],[2,5,1],[2,3,8]])\n",
        "A"
      ]
    },
    {
      "cell_type": "code",
      "execution_count": 54,
      "metadata": {
        "colab": {
          "base_uri": "https://localhost:8080/"
        },
        "id": "726fFyaXbWly",
        "outputId": "473a97e9-2108-49a9-e97d-cc3104c78215"
      },
      "outputs": [
        {
          "data": {
            "text/plain": [
              "array([[-1.48,  0.36,  0.88],\n",
              "       [ 0.56,  0.08, -0.36],\n",
              "       [ 0.16, -0.12,  0.04]])"
            ]
          },
          "execution_count": 54,
          "metadata": {},
          "output_type": "execute_result"
        }
      ],
      "source": [
        "linalg.inv(A)"
      ]
    },
    {
      "cell_type": "code",
      "execution_count": 55,
      "metadata": {
        "colab": {
          "base_uri": "https://localhost:8080/"
        },
        "id": "BHliGQbubWly",
        "outputId": "846c473e-d64f-4224-e8e2-69850418e5ad"
      },
      "outputs": [
        {
          "data": {
            "text/plain": [
              "array([[ 1.00000000e+00, -1.11022302e-16,  4.85722573e-17],\n",
              "       [ 3.05311332e-16,  1.00000000e+00,  7.63278329e-17],\n",
              "       [ 2.22044605e-16, -1.11022302e-16,  1.00000000e+00]])"
            ]
          },
          "execution_count": 55,
          "metadata": {},
          "output_type": "execute_result"
        }
      ],
      "source": [
        "A.dot(linalg.inv(A)) #double check"
      ]
    },
    {
      "cell_type": "code",
      "execution_count": 56,
      "metadata": {
        "colab": {
          "base_uri": "https://localhost:8080/"
        },
        "id": "sy8mvjivbWlz",
        "outputId": "a1a00e2f-3bbd-4040-9674-b69b6df46a9b"
      },
      "outputs": [
        {
          "data": {
            "text/plain": [
              "array([[ 1.00000000e+00,  1.11022302e-16, -6.24500451e-17],\n",
              "       [-1.38777878e-16,  1.00000000e+00, -1.45716772e-16],\n",
              "       [-2.22044605e-16,  0.00000000e+00,  1.00000000e+00]])"
            ]
          },
          "execution_count": 56,
          "metadata": {},
          "output_type": "execute_result"
        }
      ],
      "source": [
        "# 행렬과 역행렬을 곱합니다.\n",
        "A @ np.linalg.inv(A)"
      ]
    },
    {
      "cell_type": "code",
      "execution_count": 57,
      "metadata": {
        "colab": {
          "base_uri": "https://localhost:8080/"
        },
        "id": "IvBilduybWlz",
        "outputId": "557d2e56-c4f3-46fb-83c9-50b1ab0099e2"
      },
      "outputs": [
        {
          "data": {
            "text/plain": [
              "array([[10],\n",
              "       [ 8],\n",
              "       [ 3]])"
            ]
          },
          "execution_count": 57,
          "metadata": {},
          "output_type": "execute_result"
        }
      ],
      "source": [
        "b = np.array([[10], [8], [3]])\n",
        "b"
      ]
    },
    {
      "cell_type": "code",
      "execution_count": 58,
      "metadata": {
        "colab": {
          "base_uri": "https://localhost:8080/"
        },
        "id": "841vn3PBbWlz",
        "outputId": "5bac550b-d28b-4916-98c8-a7bf63a57516"
      },
      "outputs": [
        {
          "data": {
            "text/plain": [
              "array([[-9.28],\n",
              "       [ 5.16],\n",
              "       [ 0.76]])"
            ]
          },
          "execution_count": 58,
          "metadata": {},
          "output_type": "execute_result"
        }
      ],
      "source": [
        "linalg.inv(A).dot(b)  # slow"
      ]
    },
    {
      "cell_type": "code",
      "execution_count": 59,
      "metadata": {
        "colab": {
          "base_uri": "https://localhost:8080/"
        },
        "id": "KFCqNE3qbWl0",
        "outputId": "2c020190-99c9-436d-ac4a-e4d64d1f643e"
      },
      "outputs": [
        {
          "data": {
            "text/plain": [
              "array([[ 0.00000000e+00],\n",
              "       [-1.77635684e-15],\n",
              "       [-8.88178420e-16]])"
            ]
          },
          "execution_count": 59,
          "metadata": {},
          "output_type": "execute_result"
        }
      ],
      "source": [
        "A.dot(linalg.inv(A).dot(b)) - b  # check"
      ]
    },
    {
      "cell_type": "code",
      "execution_count": 60,
      "metadata": {
        "colab": {
          "base_uri": "https://localhost:8080/"
        },
        "id": "6CBTmGI6bWl0",
        "outputId": "e44b3451-a67a-48bd-c74a-e9e6524220b8"
      },
      "outputs": [
        {
          "data": {
            "text/plain": [
              "array([[-9.28],\n",
              "       [ 5.16],\n",
              "       [ 0.76]])"
            ]
          },
          "execution_count": 60,
          "metadata": {},
          "output_type": "execute_result"
        }
      ],
      "source": [
        "np.linalg.solve(A, b)  # fast"
      ]
    },
    {
      "cell_type": "code",
      "execution_count": 61,
      "metadata": {
        "colab": {
          "base_uri": "https://localhost:8080/"
        },
        "id": "6OPEJlE4bWl0",
        "outputId": "4be2f6fe-1123-46bf-a3a9-a5dd22354146",
        "scrolled": true
      },
      "outputs": [
        {
          "data": {
            "text/plain": [
              "array([[ 0.00000000e+00],\n",
              "       [-1.77635684e-15],\n",
              "       [-1.77635684e-15]])"
            ]
          },
          "execution_count": 61,
          "metadata": {},
          "output_type": "execute_result"
        }
      ],
      "source": [
        "A.dot(np.linalg.solve(A, b)) - b  # check"
      ]
    },
    {
      "cell_type": "code",
      "execution_count": 65,
      "metadata": {
        "colab": {
          "base_uri": "https://localhost:8080/"
        },
        "id": "jTfM1Hd0bWl1",
        "outputId": "6ce50dd8-008d-4a7f-d55d-7d7b6e85d204"
      },
      "outputs": [
        {
          "data": {
            "text/plain": [
              "array([[ 1,  1,  2, -1],\n",
              "       [ 4,  3,  6, -5],\n",
              "       [-1, -2, -4,  0]])"
            ]
          },
          "execution_count": 65,
          "metadata": {},
          "output_type": "execute_result"
        }
      ],
      "source": [
        "import numpy as np\n",
        "from scipy.linalg import lu\n",
        "\n",
        "A = np.array([[1, 1, 2, -1], \n",
        "              [4, 3, 6, -5], \n",
        "              [-1, -2, -4, 0]])\n",
        "A"
      ]
    },
    {
      "cell_type": "code",
      "execution_count": 66,
      "metadata": {
        "colab": {
          "base_uri": "https://localhost:8080/"
        },
        "id": "oktsU_99bWl1",
        "outputId": "1cdefb50-d20d-48d2-c9c2-b7956b6d99fc"
      },
      "outputs": [
        {
          "data": {
            "text/plain": [
              "array([[-1],\n",
              "       [-4],\n",
              "       [ 1]])"
            ]
          },
          "execution_count": 66,
          "metadata": {},
          "output_type": "execute_result"
        }
      ],
      "source": [
        "b = np.array([[-1], [-4], [1]])\n",
        "b"
      ]
    },
    {
      "cell_type": "code",
      "execution_count": 67,
      "metadata": {
        "colab": {
          "base_uri": "https://localhost:8080/"
        },
        "id": "HFAdXBVUbWl1",
        "outputId": "3eb6a4f2-9a1f-42ab-90a5-7b80220640ab"
      },
      "outputs": [
        {
          "name": "stdout",
          "output_type": "stream",
          "text": [
            "[[0. 0. 1.]\n",
            " [1. 0. 0.]\n",
            " [0. 1. 0.]]\n",
            "[[ 1.    0.    0.  ]\n",
            " [-0.25  1.    0.  ]\n",
            " [ 0.25 -0.2   1.  ]]\n",
            "[[ 4.    3.    6.   -5.  ]\n",
            " [ 0.   -1.25 -2.5  -1.25]\n",
            " [ 0.    0.    0.    0.  ]]\n"
          ]
        }
      ],
      "source": [
        "# LU 분해합니다.\n",
        "P, L, U = lu(A)\n",
        "print(P)\n",
        "print(L),\n",
        "print(U)"
      ]
    },
    {
      "cell_type": "code",
      "execution_count": 71,
      "metadata": {
        "colab": {
          "base_uri": "https://localhost:8080/"
        },
        "id": "XPqNVMQ3bWl1",
        "outputId": "b59557f2-9aef-4b00-edcf-650294093581"
      },
      "outputs": [
        {
          "data": {
            "text/plain": [
              "(Matrix([\n",
              " [1, 0, 0, -2],\n",
              " [0, 1, 2,  1],\n",
              " [0, 0, 0,  0]]),\n",
              " (0, 1))"
            ]
          },
          "execution_count": 71,
          "metadata": {},
          "output_type": "execute_result"
        }
      ],
      "source": [
        "import sympy as sym\n",
        "\n",
        "# 기약사다리꼴(rref)에서 pivot 위치 보여주기\n",
        "# transform to sympy matrix for RREF\n",
        "sym.Matrix(A).rref()"
      ]
    },
    {
      "cell_type": "code",
      "execution_count": 72,
      "metadata": {
        "colab": {
          "base_uri": "https://localhost:8080/",
          "height": 78
        },
        "id": "zxOSdEC2bWl2",
        "outputId": "6f261fe6-6c74-45c9-fefb-f9eb6aaffb51"
      },
      "outputs": [
        {
          "data": {
            "text/latex": [
              "$\\displaystyle \\left[\\begin{matrix}1 & 0 & 0 & -2\\\\0 & 1 & 2 & 1\\\\0 & 0 & 0 & 0\\end{matrix}\\right]$"
            ],
            "text/plain": [
              "Matrix([\n",
              "[1, 0, 0, -2],\n",
              "[0, 1, 2,  1],\n",
              "[0, 0, 0,  0]])"
            ]
          },
          "execution_count": 72,
          "metadata": {},
          "output_type": "execute_result"
        }
      ],
      "source": [
        "# 기약사다리꼴(rref) 행렬을 심볼릭하게 보여주기\n",
        "sym.Matrix(A).rref()[0]"
      ]
    }
  ],
  "metadata": {
    "colab": {
      "provenance": []
    },
    "kernelspec": {
      "display_name": "book",
      "language": "python",
      "name": "ts"
    },
    "language_info": {
      "codemirror_mode": {
        "name": "ipython",
        "version": 3
      },
      "file_extension": ".py",
      "mimetype": "text/x-python",
      "name": "python",
      "nbconvert_exporter": "python",
      "pygments_lexer": "ipython3",
      "version": "3.12.8"
    }
  },
  "nbformat": 4,
  "nbformat_minor": 0
}
