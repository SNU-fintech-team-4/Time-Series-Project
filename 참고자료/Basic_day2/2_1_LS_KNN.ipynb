{
  "cells": [
    {
      "cell_type": "markdown",
      "metadata": {
        "id": "E17qAQr95Smt"
      },
      "source": [
        "# 2.1장"
      ]
    },
    {
      "cell_type": "markdown",
      "metadata": {
        "id": "view-in-github"
      },
      "source": [
        "<a href=\"https://colab.research.google.com/github/SLCFLAB/Fintech2025/blob/main/Basic_day2/2_1_LS_KNN.ipynb\" target=\"_parent\"><img src=\"https://colab.research.google.com/assets/colab-badge.svg\" alt=\"Open In Colab\"/></a>"
      ]
    },
    {
      "cell_type": "markdown",
      "metadata": {
        "id": "mLc8gIlygRgv"
      },
      "source": [
        "# 1. Least Squares"
      ]
    },
    {
      "cell_type": "code",
      "execution_count": 1,
      "metadata": {
        "id": "RBaRLpRRgRgy"
      },
      "outputs": [],
      "source": [
        "import scipy\n",
        "from scipy import linalg\n",
        "import numpy as np\n",
        "\n",
        "import matplotlib.pyplot as plt\n",
        "%matplotlib inline"
      ]
    },
    {
      "cell_type": "markdown",
      "metadata": {
        "id": "D0ZZgP3ugRg1"
      },
      "source": [
        "# 2. Applications"
      ]
    },
    {
      "cell_type": "markdown",
      "metadata": {
        "id": "RMEdeTVGgRg1"
      },
      "source": [
        "@Solubility Data\n",
        "\n",
        "Tetko et al. (2001) and Huuskonen (2000) investigated a set of compounds with corresponding experimental solubility values using complex sets of descriptors. They used linear regression and neural network models to estimate the relationship between chemical structure and solubility. For our analyses, we will use 1267 compounds and a set of more understandable descriptors that fall into one of three groups: 208 binary \"fingerprints\" that indicate the presence or absence of a particular chemical sub-structure, 16 count descriptors (such as the number of bonds or the number of Bromine atoms) and 4 continuous descriptors (such as molecular weight or surface area).\n",
        "\n",
        "1267 observation (951+316)\n",
        "\n",
        "228 mixed variables\n",
        "\n",
        "www.rdocumentation.org/packages/AppliedPredictiveModeling/versions/1.1-6/topics/solubility"
      ]
    },
    {
      "cell_type": "code",
      "execution_count": 25,
      "metadata": {
        "colab": {
          "base_uri": "https://localhost:8080/"
        },
        "id": "OXvao9sBgRg2",
        "outputId": "20943f98-6c9e-4fec-abc3-afd21cbd5b0d"
      },
      "outputs": [
        {
          "name": "stdout",
          "output_type": "stream",
          "text": [
            "Data Loaded\n"
          ]
        }
      ],
      "source": [
        "import pandas as pd\n",
        "from sklearn import linear_model\n",
        "\n",
        "data_path_url = 'https://raw.githubusercontent.com/SLCFLAB/Fintech2025/main/Basic_day2/data/'\n",
        "\n",
        "data = {}\n",
        "f_list = [\"solTestX\", \"solTestY\", \"solTrainX\", \"solTrainY\"]\n",
        "\n",
        "for i in f_list :\n",
        "    data[i] = pd.read_csv(data_path_url+i+\".csv\", index_col=0)\n",
        "\n",
        "print(\"Data Loaded\")"
      ]
    },
    {
      "cell_type": "code",
      "execution_count": 6,
      "metadata": {
        "colab": {
          "base_uri": "https://localhost:8080/"
        },
        "id": "T-eF_WW1gRg2",
        "outputId": "2a6f158e-aaf2-47e7-850b-3f104599f71f"
      },
      "outputs": [
        {
          "name": "stdout",
          "output_type": "stream",
          "text": [
            "train data :  (951, 228)\n",
            "train label :  (951, 1)\n",
            "test data :  (316, 228)\n",
            "test label :  (316, 1)\n"
          ]
        }
      ],
      "source": [
        "train_data = data[\"solTrainX\"]\n",
        "train_label = data[\"solTrainY\"]\n",
        "test_data = data[\"solTestX\"]\n",
        "test_label = data[\"solTestY\"]\n",
        "\n",
        "print(\"train data : \", train_data.shape)\n",
        "print(\"train label : \", train_label.shape)\n",
        "print(\"test data : \", test_data.shape)\n",
        "print(\"test label : \", test_label.shape)\n",
        "\n",
        "arr = train_data.columns"
      ]
    },
    {
      "cell_type": "code",
      "execution_count": 11,
      "metadata": {
        "colab": {
          "base_uri": "https://localhost:8080/",
          "height": 255
        },
        "id": "4N3XvhuSgRg3",
        "outputId": "7f8092a5-6527-43b5-e86a-8d04091746a3"
      },
      "outputs": [
        {
          "data": {
            "text/html": [
              "<div>\n",
              "<style scoped>\n",
              "    .dataframe tbody tr th:only-of-type {\n",
              "        vertical-align: middle;\n",
              "    }\n",
              "\n",
              "    .dataframe tbody tr th {\n",
              "        vertical-align: top;\n",
              "    }\n",
              "\n",
              "    .dataframe thead th {\n",
              "        text-align: right;\n",
              "    }\n",
              "</style>\n",
              "<table border=\"1\" class=\"dataframe\">\n",
              "  <thead>\n",
              "    <tr style=\"text-align: right;\">\n",
              "      <th></th>\n",
              "      <th>FP001</th>\n",
              "      <th>FP002</th>\n",
              "      <th>FP003</th>\n",
              "      <th>FP004</th>\n",
              "      <th>FP005</th>\n",
              "      <th>FP006</th>\n",
              "      <th>FP007</th>\n",
              "      <th>FP008</th>\n",
              "      <th>FP009</th>\n",
              "      <th>FP010</th>\n",
              "      <th>...</th>\n",
              "      <th>NumCarbon</th>\n",
              "      <th>NumNitrogen</th>\n",
              "      <th>NumOxygen</th>\n",
              "      <th>NumSulfer</th>\n",
              "      <th>NumChlorine</th>\n",
              "      <th>NumHalogen</th>\n",
              "      <th>NumRings</th>\n",
              "      <th>HydrophilicFactor</th>\n",
              "      <th>SurfaceArea1</th>\n",
              "      <th>SurfaceArea2</th>\n",
              "    </tr>\n",
              "  </thead>\n",
              "  <tbody>\n",
              "    <tr>\n",
              "      <th>20</th>\n",
              "      <td>1</td>\n",
              "      <td>0</td>\n",
              "      <td>0</td>\n",
              "      <td>1</td>\n",
              "      <td>0</td>\n",
              "      <td>0</td>\n",
              "      <td>0</td>\n",
              "      <td>0</td>\n",
              "      <td>1</td>\n",
              "      <td>1</td>\n",
              "      <td>...</td>\n",
              "      <td>2</td>\n",
              "      <td>0</td>\n",
              "      <td>2</td>\n",
              "      <td>0</td>\n",
              "      <td>1</td>\n",
              "      <td>1</td>\n",
              "      <td>0</td>\n",
              "      <td>0.492</td>\n",
              "      <td>37.30</td>\n",
              "      <td>37.30</td>\n",
              "    </tr>\n",
              "    <tr>\n",
              "      <th>21</th>\n",
              "      <td>1</td>\n",
              "      <td>0</td>\n",
              "      <td>1</td>\n",
              "      <td>1</td>\n",
              "      <td>0</td>\n",
              "      <td>1</td>\n",
              "      <td>0</td>\n",
              "      <td>0</td>\n",
              "      <td>0</td>\n",
              "      <td>0</td>\n",
              "      <td>...</td>\n",
              "      <td>3</td>\n",
              "      <td>1</td>\n",
              "      <td>2</td>\n",
              "      <td>0</td>\n",
              "      <td>0</td>\n",
              "      <td>0</td>\n",
              "      <td>0</td>\n",
              "      <td>1.317</td>\n",
              "      <td>52.32</td>\n",
              "      <td>52.32</td>\n",
              "    </tr>\n",
              "    <tr>\n",
              "      <th>23</th>\n",
              "      <td>0</td>\n",
              "      <td>1</td>\n",
              "      <td>0</td>\n",
              "      <td>0</td>\n",
              "      <td>1</td>\n",
              "      <td>0</td>\n",
              "      <td>0</td>\n",
              "      <td>0</td>\n",
              "      <td>0</td>\n",
              "      <td>1</td>\n",
              "      <td>...</td>\n",
              "      <td>6</td>\n",
              "      <td>0</td>\n",
              "      <td>2</td>\n",
              "      <td>0</td>\n",
              "      <td>0</td>\n",
              "      <td>0</td>\n",
              "      <td>1</td>\n",
              "      <td>0.846</td>\n",
              "      <td>40.46</td>\n",
              "      <td>40.46</td>\n",
              "    </tr>\n",
              "    <tr>\n",
              "      <th>25</th>\n",
              "      <td>0</td>\n",
              "      <td>0</td>\n",
              "      <td>1</td>\n",
              "      <td>0</td>\n",
              "      <td>0</td>\n",
              "      <td>1</td>\n",
              "      <td>0</td>\n",
              "      <td>0</td>\n",
              "      <td>0</td>\n",
              "      <td>0</td>\n",
              "      <td>...</td>\n",
              "      <td>5</td>\n",
              "      <td>2</td>\n",
              "      <td>0</td>\n",
              "      <td>0</td>\n",
              "      <td>0</td>\n",
              "      <td>0</td>\n",
              "      <td>1</td>\n",
              "      <td>0.984</td>\n",
              "      <td>24.06</td>\n",
              "      <td>24.06</td>\n",
              "    </tr>\n",
              "    <tr>\n",
              "      <th>28</th>\n",
              "      <td>1</td>\n",
              "      <td>1</td>\n",
              "      <td>0</td>\n",
              "      <td>1</td>\n",
              "      <td>1</td>\n",
              "      <td>1</td>\n",
              "      <td>0</td>\n",
              "      <td>1</td>\n",
              "      <td>0</td>\n",
              "      <td>0</td>\n",
              "      <td>...</td>\n",
              "      <td>6</td>\n",
              "      <td>2</td>\n",
              "      <td>1</td>\n",
              "      <td>0</td>\n",
              "      <td>0</td>\n",
              "      <td>0</td>\n",
              "      <td>1</td>\n",
              "      <td>0.843</td>\n",
              "      <td>55.98</td>\n",
              "      <td>55.98</td>\n",
              "    </tr>\n",
              "  </tbody>\n",
              "</table>\n",
              "<p>5 rows × 228 columns</p>\n",
              "</div>"
            ],
            "text/plain": [
              "    FP001  FP002  FP003  FP004  FP005  FP006  FP007  FP008  FP009  FP010  ...  \\\n",
              "20      1      0      0      1      0      0      0      0      1      1  ...   \n",
              "21      1      0      1      1      0      1      0      0      0      0  ...   \n",
              "23      0      1      0      0      1      0      0      0      0      1  ...   \n",
              "25      0      0      1      0      0      1      0      0      0      0  ...   \n",
              "28      1      1      0      1      1      1      0      1      0      0  ...   \n",
              "\n",
              "    NumCarbon  NumNitrogen  NumOxygen  NumSulfer  NumChlorine  NumHalogen  \\\n",
              "20          2            0          2          0            1           1   \n",
              "21          3            1          2          0            0           0   \n",
              "23          6            0          2          0            0           0   \n",
              "25          5            2          0          0            0           0   \n",
              "28          6            2          1          0            0           0   \n",
              "\n",
              "    NumRings  HydrophilicFactor  SurfaceArea1  SurfaceArea2  \n",
              "20         0              0.492         37.30         37.30  \n",
              "21         0              1.317         52.32         52.32  \n",
              "23         1              0.846         40.46         40.46  \n",
              "25         1              0.984         24.06         24.06  \n",
              "28         1              0.843         55.98         55.98  \n",
              "\n",
              "[5 rows x 228 columns]"
            ]
          },
          "execution_count": 11,
          "metadata": {},
          "output_type": "execute_result"
        }
      ],
      "source": [
        "test_data.head()"
      ]
    },
    {
      "cell_type": "code",
      "execution_count": 12,
      "metadata": {
        "colab": {
          "base_uri": "https://localhost:8080/",
          "height": 206
        },
        "id": "Mo_PaunNgRg3",
        "outputId": "61c38c63-9562-4661-d4ad-defdcc57f8d7"
      },
      "outputs": [
        {
          "data": {
            "text/html": [
              "<div>\n",
              "<style scoped>\n",
              "    .dataframe tbody tr th:only-of-type {\n",
              "        vertical-align: middle;\n",
              "    }\n",
              "\n",
              "    .dataframe tbody tr th {\n",
              "        vertical-align: top;\n",
              "    }\n",
              "\n",
              "    .dataframe thead th {\n",
              "        text-align: right;\n",
              "    }\n",
              "</style>\n",
              "<table border=\"1\" class=\"dataframe\">\n",
              "  <thead>\n",
              "    <tr style=\"text-align: right;\">\n",
              "      <th></th>\n",
              "      <th>x</th>\n",
              "    </tr>\n",
              "  </thead>\n",
              "  <tbody>\n",
              "    <tr>\n",
              "      <th>1</th>\n",
              "      <td>0.93</td>\n",
              "    </tr>\n",
              "    <tr>\n",
              "      <th>2</th>\n",
              "      <td>0.85</td>\n",
              "    </tr>\n",
              "    <tr>\n",
              "      <th>3</th>\n",
              "      <td>0.81</td>\n",
              "    </tr>\n",
              "    <tr>\n",
              "      <th>4</th>\n",
              "      <td>0.74</td>\n",
              "    </tr>\n",
              "    <tr>\n",
              "      <th>5</th>\n",
              "      <td>0.61</td>\n",
              "    </tr>\n",
              "  </tbody>\n",
              "</table>\n",
              "</div>"
            ],
            "text/plain": [
              "      x\n",
              "1  0.93\n",
              "2  0.85\n",
              "3  0.81\n",
              "4  0.74\n",
              "5  0.61"
            ]
          },
          "execution_count": 12,
          "metadata": {},
          "output_type": "execute_result"
        }
      ],
      "source": [
        "test_label.head()"
      ]
    },
    {
      "cell_type": "code",
      "execution_count": 9,
      "metadata": {
        "colab": {
          "base_uri": "https://localhost:8080/",
          "height": 74
        },
        "id": "iQqk5w_LgRg3",
        "outputId": "e5a56e5c-84a1-46fe-ee87-75203f0b0a65"
      },
      "outputs": [
        {
          "data": {
            "text/html": [
              "<style>#sk-container-id-1 {\n",
              "  /* Definition of color scheme common for light and dark mode */\n",
              "  --sklearn-color-text: #000;\n",
              "  --sklearn-color-text-muted: #666;\n",
              "  --sklearn-color-line: gray;\n",
              "  /* Definition of color scheme for unfitted estimators */\n",
              "  --sklearn-color-unfitted-level-0: #fff5e6;\n",
              "  --sklearn-color-unfitted-level-1: #f6e4d2;\n",
              "  --sklearn-color-unfitted-level-2: #ffe0b3;\n",
              "  --sklearn-color-unfitted-level-3: chocolate;\n",
              "  /* Definition of color scheme for fitted estimators */\n",
              "  --sklearn-color-fitted-level-0: #f0f8ff;\n",
              "  --sklearn-color-fitted-level-1: #d4ebff;\n",
              "  --sklearn-color-fitted-level-2: #b3dbfd;\n",
              "  --sklearn-color-fitted-level-3: cornflowerblue;\n",
              "\n",
              "  /* Specific color for light theme */\n",
              "  --sklearn-color-text-on-default-background: var(--sg-text-color, var(--theme-code-foreground, var(--jp-content-font-color1, black)));\n",
              "  --sklearn-color-background: var(--sg-background-color, var(--theme-background, var(--jp-layout-color0, white)));\n",
              "  --sklearn-color-border-box: var(--sg-text-color, var(--theme-code-foreground, var(--jp-content-font-color1, black)));\n",
              "  --sklearn-color-icon: #696969;\n",
              "\n",
              "  @media (prefers-color-scheme: dark) {\n",
              "    /* Redefinition of color scheme for dark theme */\n",
              "    --sklearn-color-text-on-default-background: var(--sg-text-color, var(--theme-code-foreground, var(--jp-content-font-color1, white)));\n",
              "    --sklearn-color-background: var(--sg-background-color, var(--theme-background, var(--jp-layout-color0, #111)));\n",
              "    --sklearn-color-border-box: var(--sg-text-color, var(--theme-code-foreground, var(--jp-content-font-color1, white)));\n",
              "    --sklearn-color-icon: #878787;\n",
              "  }\n",
              "}\n",
              "\n",
              "#sk-container-id-1 {\n",
              "  color: var(--sklearn-color-text);\n",
              "}\n",
              "\n",
              "#sk-container-id-1 pre {\n",
              "  padding: 0;\n",
              "}\n",
              "\n",
              "#sk-container-id-1 input.sk-hidden--visually {\n",
              "  border: 0;\n",
              "  clip: rect(1px 1px 1px 1px);\n",
              "  clip: rect(1px, 1px, 1px, 1px);\n",
              "  height: 1px;\n",
              "  margin: -1px;\n",
              "  overflow: hidden;\n",
              "  padding: 0;\n",
              "  position: absolute;\n",
              "  width: 1px;\n",
              "}\n",
              "\n",
              "#sk-container-id-1 div.sk-dashed-wrapped {\n",
              "  border: 1px dashed var(--sklearn-color-line);\n",
              "  margin: 0 0.4em 0.5em 0.4em;\n",
              "  box-sizing: border-box;\n",
              "  padding-bottom: 0.4em;\n",
              "  background-color: var(--sklearn-color-background);\n",
              "}\n",
              "\n",
              "#sk-container-id-1 div.sk-container {\n",
              "  /* jupyter's `normalize.less` sets `[hidden] { display: none; }`\n",
              "     but bootstrap.min.css set `[hidden] { display: none !important; }`\n",
              "     so we also need the `!important` here to be able to override the\n",
              "     default hidden behavior on the sphinx rendered scikit-learn.org.\n",
              "     See: https://github.com/scikit-learn/scikit-learn/issues/21755 */\n",
              "  display: inline-block !important;\n",
              "  position: relative;\n",
              "}\n",
              "\n",
              "#sk-container-id-1 div.sk-text-repr-fallback {\n",
              "  display: none;\n",
              "}\n",
              "\n",
              "div.sk-parallel-item,\n",
              "div.sk-serial,\n",
              "div.sk-item {\n",
              "  /* draw centered vertical line to link estimators */\n",
              "  background-image: linear-gradient(var(--sklearn-color-text-on-default-background), var(--sklearn-color-text-on-default-background));\n",
              "  background-size: 2px 100%;\n",
              "  background-repeat: no-repeat;\n",
              "  background-position: center center;\n",
              "}\n",
              "\n",
              "/* Parallel-specific style estimator block */\n",
              "\n",
              "#sk-container-id-1 div.sk-parallel-item::after {\n",
              "  content: \"\";\n",
              "  width: 100%;\n",
              "  border-bottom: 2px solid var(--sklearn-color-text-on-default-background);\n",
              "  flex-grow: 1;\n",
              "}\n",
              "\n",
              "#sk-container-id-1 div.sk-parallel {\n",
              "  display: flex;\n",
              "  align-items: stretch;\n",
              "  justify-content: center;\n",
              "  background-color: var(--sklearn-color-background);\n",
              "  position: relative;\n",
              "}\n",
              "\n",
              "#sk-container-id-1 div.sk-parallel-item {\n",
              "  display: flex;\n",
              "  flex-direction: column;\n",
              "}\n",
              "\n",
              "#sk-container-id-1 div.sk-parallel-item:first-child::after {\n",
              "  align-self: flex-end;\n",
              "  width: 50%;\n",
              "}\n",
              "\n",
              "#sk-container-id-1 div.sk-parallel-item:last-child::after {\n",
              "  align-self: flex-start;\n",
              "  width: 50%;\n",
              "}\n",
              "\n",
              "#sk-container-id-1 div.sk-parallel-item:only-child::after {\n",
              "  width: 0;\n",
              "}\n",
              "\n",
              "/* Serial-specific style estimator block */\n",
              "\n",
              "#sk-container-id-1 div.sk-serial {\n",
              "  display: flex;\n",
              "  flex-direction: column;\n",
              "  align-items: center;\n",
              "  background-color: var(--sklearn-color-background);\n",
              "  padding-right: 1em;\n",
              "  padding-left: 1em;\n",
              "}\n",
              "\n",
              "\n",
              "/* Toggleable style: style used for estimator/Pipeline/ColumnTransformer box that is\n",
              "clickable and can be expanded/collapsed.\n",
              "- Pipeline and ColumnTransformer use this feature and define the default style\n",
              "- Estimators will overwrite some part of the style using the `sk-estimator` class\n",
              "*/\n",
              "\n",
              "/* Pipeline and ColumnTransformer style (default) */\n",
              "\n",
              "#sk-container-id-1 div.sk-toggleable {\n",
              "  /* Default theme specific background. It is overwritten whether we have a\n",
              "  specific estimator or a Pipeline/ColumnTransformer */\n",
              "  background-color: var(--sklearn-color-background);\n",
              "}\n",
              "\n",
              "/* Toggleable label */\n",
              "#sk-container-id-1 label.sk-toggleable__label {\n",
              "  cursor: pointer;\n",
              "  display: flex;\n",
              "  width: 100%;\n",
              "  margin-bottom: 0;\n",
              "  padding: 0.5em;\n",
              "  box-sizing: border-box;\n",
              "  text-align: center;\n",
              "  align-items: start;\n",
              "  justify-content: space-between;\n",
              "  gap: 0.5em;\n",
              "}\n",
              "\n",
              "#sk-container-id-1 label.sk-toggleable__label .caption {\n",
              "  font-size: 0.6rem;\n",
              "  font-weight: lighter;\n",
              "  color: var(--sklearn-color-text-muted);\n",
              "}\n",
              "\n",
              "#sk-container-id-1 label.sk-toggleable__label-arrow:before {\n",
              "  /* Arrow on the left of the label */\n",
              "  content: \"▸\";\n",
              "  float: left;\n",
              "  margin-right: 0.25em;\n",
              "  color: var(--sklearn-color-icon);\n",
              "}\n",
              "\n",
              "#sk-container-id-1 label.sk-toggleable__label-arrow:hover:before {\n",
              "  color: var(--sklearn-color-text);\n",
              "}\n",
              "\n",
              "/* Toggleable content - dropdown */\n",
              "\n",
              "#sk-container-id-1 div.sk-toggleable__content {\n",
              "  max-height: 0;\n",
              "  max-width: 0;\n",
              "  overflow: hidden;\n",
              "  text-align: left;\n",
              "  /* unfitted */\n",
              "  background-color: var(--sklearn-color-unfitted-level-0);\n",
              "}\n",
              "\n",
              "#sk-container-id-1 div.sk-toggleable__content.fitted {\n",
              "  /* fitted */\n",
              "  background-color: var(--sklearn-color-fitted-level-0);\n",
              "}\n",
              "\n",
              "#sk-container-id-1 div.sk-toggleable__content pre {\n",
              "  margin: 0.2em;\n",
              "  border-radius: 0.25em;\n",
              "  color: var(--sklearn-color-text);\n",
              "  /* unfitted */\n",
              "  background-color: var(--sklearn-color-unfitted-level-0);\n",
              "}\n",
              "\n",
              "#sk-container-id-1 div.sk-toggleable__content.fitted pre {\n",
              "  /* unfitted */\n",
              "  background-color: var(--sklearn-color-fitted-level-0);\n",
              "}\n",
              "\n",
              "#sk-container-id-1 input.sk-toggleable__control:checked~div.sk-toggleable__content {\n",
              "  /* Expand drop-down */\n",
              "  max-height: 200px;\n",
              "  max-width: 100%;\n",
              "  overflow: auto;\n",
              "}\n",
              "\n",
              "#sk-container-id-1 input.sk-toggleable__control:checked~label.sk-toggleable__label-arrow:before {\n",
              "  content: \"▾\";\n",
              "}\n",
              "\n",
              "/* Pipeline/ColumnTransformer-specific style */\n",
              "\n",
              "#sk-container-id-1 div.sk-label input.sk-toggleable__control:checked~label.sk-toggleable__label {\n",
              "  color: var(--sklearn-color-text);\n",
              "  background-color: var(--sklearn-color-unfitted-level-2);\n",
              "}\n",
              "\n",
              "#sk-container-id-1 div.sk-label.fitted input.sk-toggleable__control:checked~label.sk-toggleable__label {\n",
              "  background-color: var(--sklearn-color-fitted-level-2);\n",
              "}\n",
              "\n",
              "/* Estimator-specific style */\n",
              "\n",
              "/* Colorize estimator box */\n",
              "#sk-container-id-1 div.sk-estimator input.sk-toggleable__control:checked~label.sk-toggleable__label {\n",
              "  /* unfitted */\n",
              "  background-color: var(--sklearn-color-unfitted-level-2);\n",
              "}\n",
              "\n",
              "#sk-container-id-1 div.sk-estimator.fitted input.sk-toggleable__control:checked~label.sk-toggleable__label {\n",
              "  /* fitted */\n",
              "  background-color: var(--sklearn-color-fitted-level-2);\n",
              "}\n",
              "\n",
              "#sk-container-id-1 div.sk-label label.sk-toggleable__label,\n",
              "#sk-container-id-1 div.sk-label label {\n",
              "  /* The background is the default theme color */\n",
              "  color: var(--sklearn-color-text-on-default-background);\n",
              "}\n",
              "\n",
              "/* On hover, darken the color of the background */\n",
              "#sk-container-id-1 div.sk-label:hover label.sk-toggleable__label {\n",
              "  color: var(--sklearn-color-text);\n",
              "  background-color: var(--sklearn-color-unfitted-level-2);\n",
              "}\n",
              "\n",
              "/* Label box, darken color on hover, fitted */\n",
              "#sk-container-id-1 div.sk-label.fitted:hover label.sk-toggleable__label.fitted {\n",
              "  color: var(--sklearn-color-text);\n",
              "  background-color: var(--sklearn-color-fitted-level-2);\n",
              "}\n",
              "\n",
              "/* Estimator label */\n",
              "\n",
              "#sk-container-id-1 div.sk-label label {\n",
              "  font-family: monospace;\n",
              "  font-weight: bold;\n",
              "  display: inline-block;\n",
              "  line-height: 1.2em;\n",
              "}\n",
              "\n",
              "#sk-container-id-1 div.sk-label-container {\n",
              "  text-align: center;\n",
              "}\n",
              "\n",
              "/* Estimator-specific */\n",
              "#sk-container-id-1 div.sk-estimator {\n",
              "  font-family: monospace;\n",
              "  border: 1px dotted var(--sklearn-color-border-box);\n",
              "  border-radius: 0.25em;\n",
              "  box-sizing: border-box;\n",
              "  margin-bottom: 0.5em;\n",
              "  /* unfitted */\n",
              "  background-color: var(--sklearn-color-unfitted-level-0);\n",
              "}\n",
              "\n",
              "#sk-container-id-1 div.sk-estimator.fitted {\n",
              "  /* fitted */\n",
              "  background-color: var(--sklearn-color-fitted-level-0);\n",
              "}\n",
              "\n",
              "/* on hover */\n",
              "#sk-container-id-1 div.sk-estimator:hover {\n",
              "  /* unfitted */\n",
              "  background-color: var(--sklearn-color-unfitted-level-2);\n",
              "}\n",
              "\n",
              "#sk-container-id-1 div.sk-estimator.fitted:hover {\n",
              "  /* fitted */\n",
              "  background-color: var(--sklearn-color-fitted-level-2);\n",
              "}\n",
              "\n",
              "/* Specification for estimator info (e.g. \"i\" and \"?\") */\n",
              "\n",
              "/* Common style for \"i\" and \"?\" */\n",
              "\n",
              ".sk-estimator-doc-link,\n",
              "a:link.sk-estimator-doc-link,\n",
              "a:visited.sk-estimator-doc-link {\n",
              "  float: right;\n",
              "  font-size: smaller;\n",
              "  line-height: 1em;\n",
              "  font-family: monospace;\n",
              "  background-color: var(--sklearn-color-background);\n",
              "  border-radius: 1em;\n",
              "  height: 1em;\n",
              "  width: 1em;\n",
              "  text-decoration: none !important;\n",
              "  margin-left: 0.5em;\n",
              "  text-align: center;\n",
              "  /* unfitted */\n",
              "  border: var(--sklearn-color-unfitted-level-1) 1pt solid;\n",
              "  color: var(--sklearn-color-unfitted-level-1);\n",
              "}\n",
              "\n",
              ".sk-estimator-doc-link.fitted,\n",
              "a:link.sk-estimator-doc-link.fitted,\n",
              "a:visited.sk-estimator-doc-link.fitted {\n",
              "  /* fitted */\n",
              "  border: var(--sklearn-color-fitted-level-1) 1pt solid;\n",
              "  color: var(--sklearn-color-fitted-level-1);\n",
              "}\n",
              "\n",
              "/* On hover */\n",
              "div.sk-estimator:hover .sk-estimator-doc-link:hover,\n",
              ".sk-estimator-doc-link:hover,\n",
              "div.sk-label-container:hover .sk-estimator-doc-link:hover,\n",
              ".sk-estimator-doc-link:hover {\n",
              "  /* unfitted */\n",
              "  background-color: var(--sklearn-color-unfitted-level-3);\n",
              "  color: var(--sklearn-color-background);\n",
              "  text-decoration: none;\n",
              "}\n",
              "\n",
              "div.sk-estimator.fitted:hover .sk-estimator-doc-link.fitted:hover,\n",
              ".sk-estimator-doc-link.fitted:hover,\n",
              "div.sk-label-container:hover .sk-estimator-doc-link.fitted:hover,\n",
              ".sk-estimator-doc-link.fitted:hover {\n",
              "  /* fitted */\n",
              "  background-color: var(--sklearn-color-fitted-level-3);\n",
              "  color: var(--sklearn-color-background);\n",
              "  text-decoration: none;\n",
              "}\n",
              "\n",
              "/* Span, style for the box shown on hovering the info icon */\n",
              ".sk-estimator-doc-link span {\n",
              "  display: none;\n",
              "  z-index: 9999;\n",
              "  position: relative;\n",
              "  font-weight: normal;\n",
              "  right: .2ex;\n",
              "  padding: .5ex;\n",
              "  margin: .5ex;\n",
              "  width: min-content;\n",
              "  min-width: 20ex;\n",
              "  max-width: 50ex;\n",
              "  color: var(--sklearn-color-text);\n",
              "  box-shadow: 2pt 2pt 4pt #999;\n",
              "  /* unfitted */\n",
              "  background: var(--sklearn-color-unfitted-level-0);\n",
              "  border: .5pt solid var(--sklearn-color-unfitted-level-3);\n",
              "}\n",
              "\n",
              ".sk-estimator-doc-link.fitted span {\n",
              "  /* fitted */\n",
              "  background: var(--sklearn-color-fitted-level-0);\n",
              "  border: var(--sklearn-color-fitted-level-3);\n",
              "}\n",
              "\n",
              ".sk-estimator-doc-link:hover span {\n",
              "  display: block;\n",
              "}\n",
              "\n",
              "/* \"?\"-specific style due to the `<a>` HTML tag */\n",
              "\n",
              "#sk-container-id-1 a.estimator_doc_link {\n",
              "  float: right;\n",
              "  font-size: 1rem;\n",
              "  line-height: 1em;\n",
              "  font-family: monospace;\n",
              "  background-color: var(--sklearn-color-background);\n",
              "  border-radius: 1rem;\n",
              "  height: 1rem;\n",
              "  width: 1rem;\n",
              "  text-decoration: none;\n",
              "  /* unfitted */\n",
              "  color: var(--sklearn-color-unfitted-level-1);\n",
              "  border: var(--sklearn-color-unfitted-level-1) 1pt solid;\n",
              "}\n",
              "\n",
              "#sk-container-id-1 a.estimator_doc_link.fitted {\n",
              "  /* fitted */\n",
              "  border: var(--sklearn-color-fitted-level-1) 1pt solid;\n",
              "  color: var(--sklearn-color-fitted-level-1);\n",
              "}\n",
              "\n",
              "/* On hover */\n",
              "#sk-container-id-1 a.estimator_doc_link:hover {\n",
              "  /* unfitted */\n",
              "  background-color: var(--sklearn-color-unfitted-level-3);\n",
              "  color: var(--sklearn-color-background);\n",
              "  text-decoration: none;\n",
              "}\n",
              "\n",
              "#sk-container-id-1 a.estimator_doc_link.fitted:hover {\n",
              "  /* fitted */\n",
              "  background-color: var(--sklearn-color-fitted-level-3);\n",
              "}\n",
              "</style><div id=\"sk-container-id-1\" class=\"sk-top-container\"><div class=\"sk-text-repr-fallback\"><pre>LinearRegression()</pre><b>In a Jupyter environment, please rerun this cell to show the HTML representation or trust the notebook. <br />On GitHub, the HTML representation is unable to render, please try loading this page with nbviewer.org.</b></div><div class=\"sk-container\" hidden><div class=\"sk-item\"><div class=\"sk-estimator fitted sk-toggleable\"><input class=\"sk-toggleable__control sk-hidden--visually\" id=\"sk-estimator-id-1\" type=\"checkbox\" checked><label for=\"sk-estimator-id-1\" class=\"sk-toggleable__label fitted sk-toggleable__label-arrow\"><div><div>LinearRegression</div></div><div><a class=\"sk-estimator-doc-link fitted\" rel=\"noreferrer\" target=\"_blank\" href=\"https://scikit-learn.org/1.6/modules/generated/sklearn.linear_model.LinearRegression.html\">?<span>Documentation for LinearRegression</span></a><span class=\"sk-estimator-doc-link fitted\">i<span>Fitted</span></span></div></label><div class=\"sk-toggleable__content fitted\"><pre>LinearRegression()</pre></div> </div></div></div></div>"
            ],
            "text/plain": [
              "LinearRegression()"
            ]
          },
          "execution_count": 9,
          "metadata": {},
          "output_type": "execute_result"
        }
      ],
      "source": [
        "model = linear_model.LinearRegression()\n",
        "model.fit(train_data, train_label)"
      ]
    },
    {
      "cell_type": "code",
      "execution_count": 10,
      "metadata": {
        "id": "Z5YhiecVgRg3"
      },
      "outputs": [],
      "source": [
        "predict_label = model.predict(test_data)"
      ]
    },
    {
      "cell_type": "code",
      "execution_count": null,
      "metadata": {
        "colab": {
          "base_uri": "https://localhost:8080/",
          "height": 474
        },
        "id": "dDmzeF_8gRg3",
        "outputId": "fea7b6d3-3835-427d-90ea-66d0f0300591"
      },
      "outputs": [
        {
          "data": {
            "image/png": "[encoded data removed]",
            "text/plain": [
              "<Figure size 640x480 with 1 Axes>"
            ]
          },
          "metadata": {},
          "output_type": "display_data"
        }
      ],
      "source": [
        "plt.scatter(predict_label, test_label.values)\n",
        "\n",
        "plt.title('Predict & Real', fontdict={'size':15})\n",
        "plt.xlabel('Real')\n",
        "plt.ylabel('Predict')\n",
        "\n",
        "plt.xlim(-10, 3)\n",
        "plt.ylim(-10, 3)\n",
        "\n",
        "plt.axline((0, 0), slope=1, color='r', linestyle='-', label='y = x')\n",
        "plt.show()"
      ]
    },
    {
      "cell_type": "code",
      "execution_count": 17,
      "metadata": {
        "colab": {
          "base_uri": "https://localhost:8080/"
        },
        "id": "McIufQVogRg4",
        "outputId": "7695b92f-016c-4957-bf45-466185d7fff0"
      },
      "outputs": [
        {
          "name": "stdout",
          "output_type": "stream",
          "text": [
            "R2 Score =  0.8428978371199307\n"
          ]
        }
      ],
      "source": [
        "from sklearn import metrics\n",
        "print(\"R2 Score = \", metrics.r2_score(predict_label, test_label))"
      ]
    },
    {
      "cell_type": "code",
      "execution_count": 18,
      "metadata": {
        "colab": {
          "base_uri": "https://localhost:8080/"
        },
        "id": "VvxgFHQ9gRg4",
        "outputId": "b4a4201c-a532-43cc-c34d-5dcd6a6eba17",
        "scrolled": true
      },
      "outputs": [
        {
          "data": {
            "text/plain": [
              "array([[ 2.24985132e-01,  9.80294028e-02, -1.11077197e-01,\n",
              "        -4.51466605e-01, -4.34195635e-01,  6.77915055e-02,\n",
              "        -7.58042188e-02,  2.90003901e-02, -5.78781730e-01,\n",
              "         6.62895195e-01,  1.39543367e-01, -1.15931807e-01,\n",
              "        -4.66799720e-01,  4.91842908e-01, -3.87798322e-01,\n",
              "         7.08494107e-02, -1.73256340e-01, -4.83410418e-01,\n",
              "         1.13100945e-01, -1.03054534e-02,  1.07710835e-01,\n",
              "        -4.25193781e-02, -4.69965219e-01, -5.58653920e-01,\n",
              "         2.64052968e-01,  3.39396741e-01,  2.16091342e-03,\n",
              "         5.88899677e-02, -5.51129552e-02, -1.84331104e-01,\n",
              "         2.31147031e-01, -1.34065640e+00,  8.92972433e-01,\n",
              "        -3.77421242e-01, -1.72018039e-01, -2.11741237e-02,\n",
              "         6.76899087e-02,  2.45251459e-01, -2.07164131e-01,\n",
              "         6.23375406e-01, -2.60976445e-01, -8.16471671e-02,\n",
              "         5.39822713e-01, -4.21538120e-01,  1.15982030e-01,\n",
              "        -1.61288736e-01,  6.37332953e-02,  3.35803891e-01,\n",
              "         4.87707528e-03, -1.41007012e-01,  2.78547424e-01,\n",
              "        -2.18228462e-01,  2.02632805e-01, -3.09805353e-02,\n",
              "        -2.76903845e-01, -2.95132011e-01, -3.38243368e-02,\n",
              "         1.64608852e-01, -1.40218021e-01,  2.88667285e-01,\n",
              "        -6.19477894e-02, -1.96170125e-01,  9.89123974e-01,\n",
              "         2.51535443e-01, -2.14768072e-01,  1.81491824e-01,\n",
              "        -2.43787971e-01,  1.73645788e-01, -4.12128463e-02,\n",
              "         4.64369896e-02,  1.55833469e-01,  7.57895371e-01,\n",
              "        -5.99298092e-01,  2.34431030e-01,  1.91884567e-01,\n",
              "         4.48451804e-01,  4.02304715e-02, -3.13161783e-01,\n",
              "         5.26650161e-01,  1.38854848e-01, -4.09726173e-01,\n",
              "        -9.51355666e-02, -5.28145257e-01,  4.11308446e-01,\n",
              "        -4.22350855e-01, -1.44366653e-02, -4.65926685e-01,\n",
              "         2.46584812e-01,  2.67179631e-01, -1.91656776e-01,\n",
              "         2.64730777e-01,  4.19496496e-02,  2.39586951e-01,\n",
              "        -2.45976652e-01,  1.62431096e-02, -2.29398952e-01,\n",
              "        -4.10170744e-01, -2.94459287e-01,  9.51492144e-02,\n",
              "        -4.97502580e-01, -1.72853304e-01,  1.04475851e-03,\n",
              "        -1.72534350e-01, -2.05891082e-01, -1.67410661e-01,\n",
              "        -5.82249701e-02,  3.95530326e-01, -2.03288928e-01,\n",
              "         7.10509042e-01,  2.80556409e-01, -6.11581469e-01,\n",
              "         1.98075524e-01,  1.41147360e-01, -9.61028340e-02,\n",
              "        -2.73950328e-01, -1.00688185e-01,  3.66296121e-01,\n",
              "        -1.69225706e-01,  4.26405913e-01, -1.23822500e-01,\n",
              "        -1.33177123e-01,  1.71945973e-01, -7.19723369e-03,\n",
              "         2.16309028e-01, -6.47681334e-02, -5.58091152e-01,\n",
              "        -5.01823400e-01, -1.96766027e-01, -7.23828090e-02,\n",
              "        -3.93563561e-01,  1.60367278e-01, -1.03724811e-01,\n",
              "        -2.89863057e-01, -1.28731749e-01,  2.29904033e-01,\n",
              "         2.64045123e-02, -2.82052017e-01, -4.92156868e-02,\n",
              "        -3.67281496e-01,  1.07716747e-01,  2.28877394e-01,\n",
              "         6.28415717e-01,  7.97094127e-01,  4.68088286e-01,\n",
              "        -4.00654993e-01, -1.57754343e-01,  1.63806452e-01,\n",
              "        -2.49143491e-01, -4.40665788e-02,  1.79140067e-02,\n",
              "         1.94138003e-01, -3.79710303e-01,  3.95150875e-03,\n",
              "        -7.55211862e-01,  2.32098396e-01, -4.29559873e-01,\n",
              "        -5.76361596e-01,  2.57975372e-01,  2.21809783e-01,\n",
              "         5.77884388e-02, -3.58828743e-01,  2.87764278e-02,\n",
              "         3.66637635e-01,  6.54603201e-01,  3.72731405e-01,\n",
              "        -3.59498847e-03, -5.62418469e-01, -3.06138675e-02,\n",
              "        -7.61008349e-02, -2.13854956e-01,  3.75703660e-01,\n",
              "        -3.05541543e-01,  4.63485569e-01, -1.37177873e-01,\n",
              "         6.80143466e-02,  6.27685787e-01, -9.10526041e-02,\n",
              "         2.92653121e-01, -1.33928384e-01, -6.08227641e-01,\n",
              "         4.44814768e-01,  6.12928130e-02,  4.15721871e-01,\n",
              "         3.74201547e-01, -2.00274333e-01, -1.92127063e-01,\n",
              "         5.78079772e-01,  1.79731421e-01, -3.86383855e-01,\n",
              "         4.72236486e-02,  2.12520212e-01, -2.59284153e-01,\n",
              "         1.27512722e-01,  2.09786950e-01,  2.86179285e-02,\n",
              "         4.57991547e-01,  5.35631874e-02,  4.57990581e-02,\n",
              "        -9.08613713e-02, -1.07345903e-01, -4.34418682e-01,\n",
              "         6.33655549e-01,  4.32580320e-01, -2.42620848e-01,\n",
              "         1.61416854e-01, -7.49637951e-02,  9.32888300e-02,\n",
              "        -7.01208351e-01, -4.51917694e-03, -8.19614731e-02,\n",
              "        -2.23268741e-01,  1.33565373e-02, -1.27950730e-01,\n",
              "         1.47942495e-01, -2.00345819e-01,  1.02236793e-01,\n",
              "        -2.16206083e-01,  1.41307268e-01,  9.35108759e-02,\n",
              "         1.03663207e+00,  1.26050237e+00,  1.09729179e-01,\n",
              "        -3.99843091e-01,  4.72696749e-01,  9.53180104e-02,\n",
              "         9.30357232e-02, -2.01469173e-02, -1.14611527e-03]])"
            ]
          },
          "execution_count": 18,
          "metadata": {},
          "output_type": "execute_result"
        }
      ],
      "source": [
        "model.coef_"
      ]
    },
    {
      "cell_type": "code",
      "execution_count": 19,
      "metadata": {
        "colab": {
          "base_uri": "https://localhost:8080/"
        },
        "id": "JvlBFWPagRg4",
        "outputId": "e6ea2432-2880-4189-8f4b-ec7ce31b4a8f"
      },
      "outputs": [
        {
          "data": {
            "text/plain": [
              "array([-0.17681118])"
            ]
          },
          "execution_count": 19,
          "metadata": {},
          "output_type": "execute_result"
        }
      ],
      "source": [
        "model.intercept_"
      ]
    },
    {
      "cell_type": "code",
      "execution_count": 21,
      "metadata": {
        "colab": {
          "base_uri": "https://localhost:8080/"
        },
        "id": "gDU_uaiGgRg5",
        "outputId": "1a2a98e3-c35b-483e-ff0e-dc2f585102fc",
        "scrolled": true
      },
      "outputs": [
        {
          "name": "stdout",
          "output_type": "stream",
          "text": [
            "Formula :\n",
            "x = 0.2249851322693372 * FP001 + 0.09802940281620322 * FP002 + -0.1110771974664092 * FP003 + -0.45146660521249693 * FP004 + -0.43419563539161216 * FP005 + 0.06779150554302418 * FP006 + -0.07580421877370294 * FP007 + 0.02900039008454592 * FP008 + -0.5787817303843511 * FP009 + 0.662895194746322 * FP010 + 0.13954336660369437 * FP011 + -0.11593180658530547 * FP012 + -0.46679972005055864 * FP013 + 0.4918429081426765 * FP014 + -0.38779832157804245 * FP015 + 0.07084941069784678 * FP016 + -0.17325633982023741 * FP017 + -0.4834104180904499 * FP018 + 0.11310094505890875 * FP019 + -0.010305453386025828 * FP020 + 0.10771083502512792 * FP021 + -0.0425193780652994 * FP022 + -0.4699652192257302 * FP023 + -0.5586539202991904 * FP024 + 0.26405296824473456 * FP025 + 0.3393967405724588 * FP026 + 0.0021609134211997005 * FP027 + 0.0588899676724326 * FP028 + -0.055112955213355685 * FP029 + -0.18433110418992765 * FP030 + 0.231147031109732 * FP031 + -1.340656398017605 * FP032 + 0.8929724326886987 * FP033 + -0.3774212421089095 * FP034 + -0.17201803945192612 * FP035 + -0.021174123688657287 * FP036 + 0.06768990869486383 * FP037 + 0.2452514593222184 * FP038 + -0.20716413085561125 * FP039 + 0.6233754064856867 * FP040 + -0.2609764450136067 * FP041 + -0.08164716714821597 * FP042 + 0.5398227126472727 * FP043 + -0.42153812048327444 * FP044 + 0.11598202956539294 * FP045 + -0.16128873630428342 * FP046 + 0.0637332952907233 * FP047 + 0.33580389101951347 * FP048 + 0.00487707528358905 * FP049 + -0.14100701154172554 * FP050 + 0.278547424091792 * FP051 + -0.2182284624283895 * FP052 + 0.20263280451127674 * FP053 + -0.03098053525062004 * FP054 + -0.2769038448467768 * FP055 + -0.2951320105871655 * FP056 + -0.033824336849297726 * FP057 + 0.16460885225806648 * FP058 + -0.1402180210714033 * FP059 + 0.2886672845844459 * FP060 + -0.06194778935494047 * FP061 + -0.1961701247310655 * FP062 + 0.9891239743486255 * FP063 + 0.2515354434530272 * FP064 + -0.21476807184407265 * FP065 + 0.18149182448529178 * FP066 + -0.24378797115064937 * FP067 + 0.17364578781351114 * FP068 + -0.041212846343768816 * FP069 + 0.04643698956000358 * FP070 + 0.15583346948743843 * FP071 + 0.7578953710251023 * FP072 + -0.5992980922668004 * FP073 + 0.23443102958722792 * FP074 + 0.19188456675156723 * FP075 + 0.44845180378437177 * FP076 + 0.04023047146690928 * FP077 + -0.313161783351787 * FP078 + 0.5266501606748155 * FP079 + 0.138854848007766 * FP080 + -0.4097261727832586 * FP081 + -0.09513556663953085 * FP082 + -0.5281452568510634 * FP083 + 0.41130844568852865 * FP084 + -0.4223508553699289 * FP085 + -0.014436665312068997 * FP086 + -0.4659266845638833 * FP087 + 0.2465848118940252 * FP088 + 0.2671796309421155 * FP089 + -0.1916567760617902 * FP090 + 0.26473077736237827 * FP091 + 0.04194964962860656 * FP092 + 0.23958695134594726 * FP093 + -0.24597665187602574 * FP094 + 0.016243109633368627 * FP095 + -0.22939895154796797 * FP096 + -0.410170744368945 * FP097 + -0.29445928661279663 * FP098 + 0.09514921441426918 * FP099 + -0.4975025803240844 * FP100 + -0.1728533041226062 * FP101 + 0.0010447585071934606 * FP102 + -0.17253434968108522 * FP103 + -0.20589108209703227 * FP104 + -0.16741066105559993 * FP105 + -0.0582249701244784 * FP106 + 0.3955303261660501 * FP107 + -0.2032889276686396 * FP108 + 0.7105090418649728 * FP109 + 0.28055640928931136 * FP110 + -0.6115814691502621 * FP111 + 0.19807552364329567 * FP112 + 0.14114736036244596 * FP113 + -0.0961028340308982 * FP114 + -0.27395032835047595 * FP115 + -0.10068818478043601 * FP116 + 0.36629612054772 * FP117 + -0.16922570639309337 * FP118 + 0.4264059130091964 * FP119 + -0.12382249979002923 * FP120 + -0.133177122852932 * FP121 + 0.17194597335600054 * FP122 + -0.007197233692821325 * FP123 + 0.21630902788510717 * FP124 + -0.0647681334469151 * FP125 + -0.558091151800308 * FP126 + -0.501823399578212 * FP127 + -0.19676602653837827 * FP128 + -0.07238280897427735 * FP129 + -0.39356356098135115 * FP130 + 0.1603672775288456 * FP131 + -0.10372481069998077 * FP132 + -0.28986305737301643 * FP133 + -0.12873174850470065 * FP134 + 0.22990403344198046 * FP135 + 0.026404512343032125 * FP136 + -0.28205201724455753 * FP137 + -0.04921568684692691 * FP138 + -0.36728149572103563 * FP139 + 0.10771674684559683 * FP140 + 0.22887739391804118 * FP141 + 0.6284157172661506 * FP142 + 0.7970941266294563 * FP143 + 0.4680882861831904 * FP144 + -0.40065499298097795 * FP145 + -0.15775434284561465 * FP146 + 0.1638064516791309 * FP147 + -0.24914349116187806 * FP148 + -0.04406657878924203 * FP149 + 0.017914006671946675 * FP150 + 0.19413800320358138 * FP151 + -0.37971030255273996 * FP152 + 0.0039515087537897245 * FP153 + -0.7552118622298656 * FP154 + 0.2320983955196239 * FP155 + -0.4295598731135681 * FP156 + -0.5763615964322009 * FP157 + 0.2579753722191166 * FP158 + 0.2218097828071595 * FP159 + 0.05778843879309688 * FP160 + -0.35882874262876197 * FP161 + 0.028776427846555874 * FP162 + 0.3666376351009777 * FP163 + 0.6546032012329654 * FP164 + 0.3727314051877064 * FP165 + -0.0035949884715598124 * FP166 + -0.5624184688244733 * FP167 + -0.03061386751794136 * FP168 + -0.07610083493582581 * FP169 + -0.21385495613379835 * FP170 + 0.37570366011032663 * FP171 + -0.3055415431154837 * FP172 + 0.4634855688692972 * FP173 + -0.1371778733746486 * FP174 + 0.06801434660846939 * FP175 + 0.6276857873037842 * FP176 + -0.09105260412243592 * FP177 + 0.29265312120680353 * FP178 + -0.1339283842821462 * FP179 + -0.6082276408659444 * FP180 + 0.44481476840317435 * FP181 + 0.06129281303845249 * FP182 + 0.41572187143822675 * FP183 + 0.3742015473785817 * FP184 + -0.20027433330963834 * FP185 + -0.19212706300658322 * FP186 + 0.5780797719880935 * FP187 + 0.17973142138280906 * FP188 + -0.3863838549694578 * FP189 + 0.04722364860810431 * FP190 + 0.2125202116174518 * FP191 + -0.25928415271427685 * FP192 + 0.12751272248277812 * FP193 + 0.2097869498143936 * FP194 + 0.028617928481815935 * FP195 + 0.45799154697519523 * FP196 + 0.05356318739210103 * FP197 + 0.04579905813921832 * FP198 + -0.09086137134269955 * FP199 + -0.10734590330754307 * FP200 + -0.43441868201230693 * FP201 + 0.6336555488437086 * FP202 + 0.4325803202190008 * FP203 + -0.2426208480165574 * FP204 + 0.16141685365434544 * FP205 + -0.07496379511327897 * FP206 + 0.09328883002796398 * FP207 + -0.7012083514976212 * FP208 + -0.004519176936079949 * MolWeight + -0.08196147309251328 * NumAtoms + -0.2232687406778179 * NumNonHAtoms + 0.013356537295077325 * NumBonds + -0.12795073029028148 * NumNonHBonds + 0.14794249532459655 * NumMultBonds + -0.20034581939824414 * NumRotBonds + 0.10223679303975797 * NumDblBonds + -0.21620608278499898 * NumAromaticBonds + 0.14130726758531476 * NumHydrogen + 0.09351087590850149 * NumCarbon + 1.0366320716322566 * NumNitrogen + 1.2605023708911365 * NumOxygen + 0.10972917936137584 * NumSulfer + -0.39984309122109074 * NumChlorine + 0.47269674890995744 * NumHalogen + 0.095318010387555 * NumRings + 0.09303572315809397 * HydrophilicFactor + -0.020146917308241363 * SurfaceArea1 + -0.0011461152676910946 * SurfaceArea2 + -0.17681118040473454\n"
          ]
        }
      ],
      "source": [
        "col_x = train_data.columns\n",
        "col_y = train_label.columns\n",
        "formul = \"\"\n",
        "for i in range(0, len(model.coef_.reshape(-1))) :\n",
        "    if model.coef_.reshape(-1)[i] != 0 :\n",
        "        formul += str(model.coef_.reshape(-1)[i]) + \" * \" + col_x[i] + \" + \"\n",
        "\n",
        "print(\"Formula :\")\n",
        "print(f\"{col_y[0]} = {formul[:-3]} + {model.intercept_[0]}\")"
      ]
    },
    {
      "cell_type": "markdown",
      "metadata": {
        "id": "er-CwnG7gRg5"
      },
      "source": [
        "# 3. KNN & Linear Regression"
      ]
    },
    {
      "cell_type": "markdown",
      "metadata": {
        "id": "cX6K6YGngRg5"
      },
      "source": [
        "https://github.com/songsuoyuan/The-Element-of-Statistical-Learning-Python-Implements"
      ]
    },
    {
      "cell_type": "code",
      "execution_count": 22,
      "metadata": {
        "id": "WdXiaEHJgRg5"
      },
      "outputs": [],
      "source": [
        "import numpy as np\n",
        "from sklearn import linear_model\n",
        "from sklearn import neighbors\n",
        "from scipy.stats import multivariate_normal"
      ]
    },
    {
      "cell_type": "code",
      "execution_count": 24,
      "metadata": {
        "id": "G0tRo38vgRg5"
      },
      "outputs": [],
      "source": [
        "data = np.loadtxt(data_path_url + 'mixture_simulation_data.txt', skiprows=1)\n",
        "means = np.loadtxt(data_path_url + 'means.txt')\n",
        "X = data[:,:2]\n",
        "y = data[:,2]"
      ]
    },
    {
      "cell_type": "code",
      "execution_count": 28,
      "metadata": {
        "id": "M3tc0444gRg6"
      },
      "outputs": [],
      "source": [
        "def k_nearest_neighbor(X, y, k):\n",
        "    '''\n",
        "    K nearest neighbor method:\n",
        "        y(x) = 1 / k * (y_1 + ... + y_k)\n",
        "    where y_i belongs to the k closest points to the point x\n",
        "    Complexity: based on implement, brute force is O(Dn^2)\n",
        "    '''\n",
        "    \n",
        "    clf = neighbors.KNeighborsRegressor(n_neighbors=k)\n",
        "    clf.fit(X, y)\n",
        "\n",
        "    delta = .1\n",
        "    grid_x = np.arange(min(X[:,0]) - 0.5, max(X[:,0]) + 0.5, delta)\n",
        "    grid_y = np.arange(min(X[:,1]) - 0.5, max(X[:,1]) + 0.5, delta)\n",
        "    grid_X, grid_Y = np.meshgrid(grid_x, grid_y)\n",
        "    combine_XY = np.dstack((grid_X, grid_Y)).reshape(grid_X.size, 2)\n",
        "    Z = clf.predict(combine_XY)\n",
        "    grid_Z = Z.reshape(grid_X.shape)\n",
        "\n",
        "    fig = plt.figure(figsize=(8, 8))\n",
        "    plt.scatter(X[:,0], X[:,1], c=y, alpha=.6)\n",
        "    plt.contour(grid_X, grid_Y, grid_Z, 1, alpha=.8,\n",
        "                colors='b', linewidths=3)\n",
        "    plt.show()\n",
        "\n",
        "    print('Precision:', 100. * sum(list(map(round, clf.predict(X))) == y) / len(y))"
      ]
    },
    {
      "cell_type": "code",
      "execution_count": 31,
      "metadata": {
        "colab": {
          "base_uri": "https://localhost:8080/",
          "height": 694
        },
        "id": "vHEBs2_LgRg6",
        "outputId": "7c8c0d43-5dfe-4f0e-e565-119a501e7f7b"
      },
      "outputs": [
        {
          "data": {
            "image/png": "[encoded data removed]",
            "text/plain": [
              "<Figure size 800x800 with 1 Axes>"
            ]
          },
          "metadata": {},
          "output_type": "display_data"
        },
        {
          "name": "stdout",
          "output_type": "stream",
          "text": [
            "Precision: 84.5\n"
          ]
        }
      ],
      "source": [
        "k_nearest_neighbor(X, y, 15)"
      ]
    }
  ],
  "metadata": {
    "colab": {
      "provenance": []
    },
    "kernelspec": {
      "display_name": "book",
      "language": "python",
      "name": "ts"
    },
    "language_info": {
      "codemirror_mode": {
        "name": "ipython",
        "version": 3
      },
      "file_extension": ".py",
      "mimetype": "text/x-python",
      "name": "python",
      "nbconvert_exporter": "python",
      "pygments_lexer": "ipython3",
      "version": "3.12.8"
    }
  },
  "nbformat": 4,
  "nbformat_minor": 0
}
