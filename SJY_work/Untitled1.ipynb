{
  "nbformat": 4,
  "nbformat_minor": 0,
  "metadata": {
    "colab": {
      "provenance": [],
      "machine_shape": "hm",
      "gpuType": "L4"
    },
    "kernelspec": {
      "name": "python3",
      "display_name": "Python 3"
    },
    "language_info": {
      "name": "python"
    },
    "accelerator": "GPU"
  },
  "cells": [
    {
      "cell_type": "code",
      "execution_count": 14,
      "metadata": {
        "colab": {
          "base_uri": "https://localhost:8080/"
        },
        "id": "TmHDcxlQL5ps",
        "outputId": "45b466ff-b14f-4bca-9e3e-5d059e105108"
      },
      "outputs": [
        {
          "output_type": "stream",
          "name": "stdout",
          "text": [
            "Requirement already satisfied: pandas in /usr/local/lib/python3.11/dist-packages (2.2.2)\n",
            "\u001b[31mERROR: Could not find a version that satisfies the requirement as (from versions: none)\u001b[0m\u001b[31m\n",
            "\u001b[0m\u001b[31mERROR: No matching distribution found for as\u001b[0m\u001b[31m\n",
            "\u001b[0mRequirement already satisfied: numpy in /usr/local/lib/python3.11/dist-packages (1.26.4)\n",
            "\u001b[31mERROR: Could not find a version that satisfies the requirement as (from versions: none)\u001b[0m\u001b[31m\n",
            "\u001b[0m\u001b[31mERROR: No matching distribution found for as\u001b[0m\u001b[31m\n",
            "\u001b[0mRequirement already satisfied: matplotlib in /usr/local/lib/python3.11/dist-packages (3.10.0)\n",
            "\u001b[31mERROR: Could not find a version that satisfies the requirement as (from versions: none)\u001b[0m\u001b[31m\n",
            "\u001b[0m\u001b[31mERROR: No matching distribution found for as\u001b[0m\u001b[31m\n",
            "\u001b[0mRequirement already satisfied: scikit-learn in /usr/local/lib/python3.11/dist-packages (1.6.1)\n",
            "Requirement already satisfied: numpy>=1.19.5 in /usr/local/lib/python3.11/dist-packages (from scikit-learn) (1.26.4)\n",
            "Requirement already satisfied: scipy>=1.6.0 in /usr/local/lib/python3.11/dist-packages (from scikit-learn) (1.14.1)\n",
            "Requirement already satisfied: joblib>=1.2.0 in /usr/local/lib/python3.11/dist-packages (from scikit-learn) (1.4.2)\n",
            "Requirement already satisfied: threadpoolctl>=3.1.0 in /usr/local/lib/python3.11/dist-packages (from scikit-learn) (3.5.0)\n",
            "Requirement already satisfied: statsmodels in /usr/local/lib/python3.11/dist-packages (0.14.4)\n",
            "Requirement already satisfied: pmdarima in /usr/local/lib/python3.11/dist-packages (2.0.4)\n",
            "Requirement already satisfied: numpy<3,>=1.22.3 in /usr/local/lib/python3.11/dist-packages (from statsmodels) (1.26.4)\n",
            "Requirement already satisfied: scipy!=1.9.2,>=1.8 in /usr/local/lib/python3.11/dist-packages (from statsmodels) (1.14.1)\n",
            "Requirement already satisfied: pandas!=2.1.0,>=1.4 in /usr/local/lib/python3.11/dist-packages (from statsmodels) (2.2.2)\n",
            "Requirement already satisfied: patsy>=0.5.6 in /usr/local/lib/python3.11/dist-packages (from statsmodels) (1.0.1)\n",
            "Requirement already satisfied: packaging>=21.3 in /usr/local/lib/python3.11/dist-packages (from statsmodels) (24.2)\n",
            "Requirement already satisfied: joblib>=0.11 in /usr/local/lib/python3.11/dist-packages (from pmdarima) (1.4.2)\n",
            "Requirement already satisfied: Cython!=0.29.18,!=0.29.31,>=0.29 in /usr/local/lib/python3.11/dist-packages (from pmdarima) (3.0.12)\n",
            "Requirement already satisfied: scikit-learn>=0.22 in /usr/local/lib/python3.11/dist-packages (from pmdarima) (1.6.1)\n",
            "Requirement already satisfied: urllib3 in /usr/local/lib/python3.11/dist-packages (from pmdarima) (2.3.0)\n",
            "Requirement already satisfied: setuptools!=50.0.0,>=38.6.0 in /usr/local/lib/python3.11/dist-packages (from pmdarima) (75.1.0)\n",
            "Requirement already satisfied: python-dateutil>=2.8.2 in /usr/local/lib/python3.11/dist-packages (from pandas!=2.1.0,>=1.4->statsmodels) (2.8.2)\n",
            "Requirement already satisfied: pytz>=2020.1 in /usr/local/lib/python3.11/dist-packages (from pandas!=2.1.0,>=1.4->statsmodels) (2025.1)\n",
            "Requirement already satisfied: tzdata>=2022.7 in /usr/local/lib/python3.11/dist-packages (from pandas!=2.1.0,>=1.4->statsmodels) (2025.1)\n",
            "Requirement already satisfied: threadpoolctl>=3.1.0 in /usr/local/lib/python3.11/dist-packages (from scikit-learn>=0.22->pmdarima) (3.5.0)\n",
            "Requirement already satisfied: six>=1.5 in /usr/local/lib/python3.11/dist-packages (from python-dateutil>=2.8.2->pandas!=2.1.0,>=1.4->statsmodels) (1.17.0)\n",
            "Requirement already satisfied: tbats in /usr/local/lib/python3.11/dist-packages (1.1.3)\n",
            "Requirement already satisfied: numpy in /usr/local/lib/python3.11/dist-packages (from tbats) (1.26.4)\n",
            "Requirement already satisfied: scipy in /usr/local/lib/python3.11/dist-packages (from tbats) (1.14.1)\n",
            "Requirement already satisfied: pmdarima in /usr/local/lib/python3.11/dist-packages (from tbats) (2.0.4)\n",
            "Requirement already satisfied: scikit-learn in /usr/local/lib/python3.11/dist-packages (from tbats) (1.6.1)\n",
            "Requirement already satisfied: joblib>=0.11 in /usr/local/lib/python3.11/dist-packages (from pmdarima->tbats) (1.4.2)\n",
            "Requirement already satisfied: Cython!=0.29.18,!=0.29.31,>=0.29 in /usr/local/lib/python3.11/dist-packages (from pmdarima->tbats) (3.0.12)\n",
            "Requirement already satisfied: pandas>=0.19 in /usr/local/lib/python3.11/dist-packages (from pmdarima->tbats) (2.2.2)\n",
            "Requirement already satisfied: statsmodels>=0.13.2 in /usr/local/lib/python3.11/dist-packages (from pmdarima->tbats) (0.14.4)\n",
            "Requirement already satisfied: urllib3 in /usr/local/lib/python3.11/dist-packages (from pmdarima->tbats) (2.3.0)\n",
            "Requirement already satisfied: setuptools!=50.0.0,>=38.6.0 in /usr/local/lib/python3.11/dist-packages (from pmdarima->tbats) (75.1.0)\n",
            "Requirement already satisfied: packaging>=17.1 in /usr/local/lib/python3.11/dist-packages (from pmdarima->tbats) (24.2)\n",
            "Requirement already satisfied: threadpoolctl>=3.1.0 in /usr/local/lib/python3.11/dist-packages (from scikit-learn->tbats) (3.5.0)\n",
            "Requirement already satisfied: python-dateutil>=2.8.2 in /usr/local/lib/python3.11/dist-packages (from pandas>=0.19->pmdarima->tbats) (2.8.2)\n",
            "Requirement already satisfied: pytz>=2020.1 in /usr/local/lib/python3.11/dist-packages (from pandas>=0.19->pmdarima->tbats) (2025.1)\n",
            "Requirement already satisfied: tzdata>=2022.7 in /usr/local/lib/python3.11/dist-packages (from pandas>=0.19->pmdarima->tbats) (2025.1)\n",
            "Requirement already satisfied: patsy>=0.5.6 in /usr/local/lib/python3.11/dist-packages (from statsmodels>=0.13.2->pmdarima->tbats) (1.0.1)\n",
            "Requirement already satisfied: six>=1.5 in /usr/local/lib/python3.11/dist-packages (from python-dateutil>=2.8.2->pandas>=0.19->pmdarima->tbats) (1.17.0)\n",
            "Requirement already satisfied: prophet in /usr/local/lib/python3.11/dist-packages (1.1.6)\n",
            "Requirement already satisfied: cmdstanpy>=1.0.4 in /usr/local/lib/python3.11/dist-packages (from prophet) (1.2.5)\n",
            "Requirement already satisfied: numpy>=1.15.4 in /usr/local/lib/python3.11/dist-packages (from prophet) (1.26.4)\n",
            "Requirement already satisfied: matplotlib>=2.0.0 in /usr/local/lib/python3.11/dist-packages (from prophet) (3.10.0)\n",
            "Requirement already satisfied: pandas>=1.0.4 in /usr/local/lib/python3.11/dist-packages (from prophet) (2.2.2)\n",
            "Requirement already satisfied: holidays<1,>=0.25 in /usr/local/lib/python3.11/dist-packages (from prophet) (0.68)\n",
            "Requirement already satisfied: tqdm>=4.36.1 in /usr/local/lib/python3.11/dist-packages (from prophet) (4.67.1)\n",
            "Requirement already satisfied: importlib-resources in /usr/local/lib/python3.11/dist-packages (from prophet) (6.5.2)\n",
            "Requirement already satisfied: stanio<2.0.0,>=0.4.0 in /usr/local/lib/python3.11/dist-packages (from cmdstanpy>=1.0.4->prophet) (0.5.1)\n",
            "Requirement already satisfied: python-dateutil in /usr/local/lib/python3.11/dist-packages (from holidays<1,>=0.25->prophet) (2.8.2)\n",
            "Requirement already satisfied: contourpy>=1.0.1 in /usr/local/lib/python3.11/dist-packages (from matplotlib>=2.0.0->prophet) (1.3.1)\n",
            "Requirement already satisfied: cycler>=0.10 in /usr/local/lib/python3.11/dist-packages (from matplotlib>=2.0.0->prophet) (0.12.1)\n",
            "Requirement already satisfied: fonttools>=4.22.0 in /usr/local/lib/python3.11/dist-packages (from matplotlib>=2.0.0->prophet) (4.56.0)\n",
            "Requirement already satisfied: kiwisolver>=1.3.1 in /usr/local/lib/python3.11/dist-packages (from matplotlib>=2.0.0->prophet) (1.4.8)\n",
            "Requirement already satisfied: packaging>=20.0 in /usr/local/lib/python3.11/dist-packages (from matplotlib>=2.0.0->prophet) (24.2)\n",
            "Requirement already satisfied: pillow>=8 in /usr/local/lib/python3.11/dist-packages (from matplotlib>=2.0.0->prophet) (11.1.0)\n",
            "Requirement already satisfied: pyparsing>=2.3.1 in /usr/local/lib/python3.11/dist-packages (from matplotlib>=2.0.0->prophet) (3.2.1)\n",
            "Requirement already satisfied: pytz>=2020.1 in /usr/local/lib/python3.11/dist-packages (from pandas>=1.0.4->prophet) (2025.1)\n",
            "Requirement already satisfied: tzdata>=2022.7 in /usr/local/lib/python3.11/dist-packages (from pandas>=1.0.4->prophet) (2025.1)\n",
            "Requirement already satisfied: six>=1.5 in /usr/local/lib/python3.11/dist-packages (from python-dateutil->holidays<1,>=0.25->prophet) (1.17.0)\n",
            "Requirement already satisfied: statsmodels in /usr/local/lib/python3.11/dist-packages (0.14.4)\n",
            "Requirement already satisfied: numpy<3,>=1.22.3 in /usr/local/lib/python3.11/dist-packages (from statsmodels) (1.26.4)\n",
            "Requirement already satisfied: scipy!=1.9.2,>=1.8 in /usr/local/lib/python3.11/dist-packages (from statsmodels) (1.14.1)\n",
            "Requirement already satisfied: pandas!=2.1.0,>=1.4 in /usr/local/lib/python3.11/dist-packages (from statsmodels) (2.2.2)\n",
            "Requirement already satisfied: patsy>=0.5.6 in /usr/local/lib/python3.11/dist-packages (from statsmodels) (1.0.1)\n",
            "Requirement already satisfied: packaging>=21.3 in /usr/local/lib/python3.11/dist-packages (from statsmodels) (24.2)\n",
            "Requirement already satisfied: python-dateutil>=2.8.2 in /usr/local/lib/python3.11/dist-packages (from pandas!=2.1.0,>=1.4->statsmodels) (2.8.2)\n",
            "Requirement already satisfied: pytz>=2020.1 in /usr/local/lib/python3.11/dist-packages (from pandas!=2.1.0,>=1.4->statsmodels) (2025.1)\n",
            "Requirement already satisfied: tzdata>=2022.7 in /usr/local/lib/python3.11/dist-packages (from pandas!=2.1.0,>=1.4->statsmodels) (2025.1)\n",
            "Requirement already satisfied: six>=1.5 in /usr/local/lib/python3.11/dist-packages (from python-dateutil>=2.8.2->pandas!=2.1.0,>=1.4->statsmodels) (1.17.0)\n"
          ]
        }
      ],
      "source": [
        "!pip install pandas\n",
        "!pip install numpy\n",
        "!pip install matplotlib as\n",
        "!pip install scikit-learn\n",
        "!pip install statsmodels pmdarima\n",
        "!pip install tbats\n",
        "!pip install prophet\n",
        "!pip install statsmodels"
      ]
    },
    {
      "cell_type": "code",
      "source": [
        "import pandas as pd\n",
        "import numpy as np\n",
        "import matplotlib.pyplot as plt\n",
        "import warnings\n",
        "warnings.filterwarnings('ignore')\n",
        "\n",
        "from sklearn.metrics import mean_absolute_error, mean_squared_error\n",
        "from statsmodels.tsa.holtwinters import SimpleExpSmoothing, ExponentialSmoothing\n",
        "from statsmodels.tsa.statespace.sarimax import SARIMAX\n",
        "from prophet import Prophet\n",
        "from tbats import TBATS\n",
        "from statsmodels.tsa.forecasting.theta import ThetaModel\n",
        "\n",
        "# -----------------------------\n",
        "# 1. 데이터 불러오기 및 파싱\n",
        "# -----------------------------\n",
        "\n",
        "\n",
        "# CSV 파일 읽기 (헤더 없음)\n",
        "df = pd.read_csv(file_path, header=None)\n",
        "\n",
        "# 15번째 줄부터 끝까지, 첫 번째 열만 추출\n",
        "data_lines = df.iloc[15:, 0].reset_index(drop=True)\n",
        "\n",
        "# 시계열 파싱 함수는 그대로 사용 가능\n",
        "def parse_series(line):\n",
        "    parts = line.split(':')\n",
        "    series_id = parts[0]\n",
        "    start_date = parts[1].split(' ')[0]\n",
        "    values = list(map(float, parts[2].split(',')))\n",
        "\n",
        "    # 분기 인덱스 생성\n",
        "    index = pd.date_range(start=start_date, periods=len(values), freq='Q')\n",
        "    series = pd.Series(values, index=index, name=series_id)\n",
        "    return series\n",
        "\n",
        "# 전체 시계열 데이터 리스트 생성\n",
        "all_series = [parse_series(line) for line in data_lines]\n",
        "print(f\"총 시계열 수: {len(all_series)}\")\n",
        "\n",
        "# -----------------------------\n",
        "# 2. 모델 학습 및 평가 함수 정의\n",
        "# -----------------------------\n",
        "\n",
        "# 성능 평가 함수 (MAE, RMSE)\n",
        "def evaluate_forecast(y_true, y_pred):\n",
        "    mae = mean_absolute_error(y_true, y_pred)\n",
        "    rmse = np.sqrt(mean_squared_error(y_true, y_pred))\n",
        "    return mae, rmse\n",
        "\n",
        "# 개별 시계열에 대한 모델 학습/예측/평가\n",
        "def forecast_models(series):\n",
        "    results = {}\n",
        "    train = series[:-8]\n",
        "    test = series[-8:]\n",
        "\n",
        "    # SES\n",
        "    try:\n",
        "        ses_model = SimpleExpSmoothing(train).fit()\n",
        "        ses_forecast = ses_model.forecast(len(test))\n",
        "        results['SES'] = evaluate_forecast(test, ses_forecast)\n",
        "    except Exception as e:\n",
        "        results['SES'] = (np.nan, np.nan)\n",
        "\n",
        "    # Theta\n",
        "    try:\n",
        "        theta_model = ThetaModel(train)\n",
        "        theta_forecast = theta_model.forecast(len(test))\n",
        "        results['Theta'] = evaluate_forecast(test, theta_forecast)\n",
        "    except Exception as e:\n",
        "        results['Theta'] = (np.nan, np.nan)\n",
        "\n",
        "    # TBATS\n",
        "    try:\n",
        "        tbats_estimator = TBATS(seasonal_periods=[4])\n",
        "        tbats_model = tbats_estimator.fit(train)\n",
        "        tbats_forecast = tbats_model.forecast(steps=len(test))\n",
        "        results['TBATS'] = evaluate_forecast(test, tbats_forecast)\n",
        "    except Exception as e:\n",
        "        results['TBATS'] = (np.nan, np.nan)\n",
        "\n",
        "    # ETS\n",
        "    try:\n",
        "        ets_model = ExponentialSmoothing(train, trend='add', seasonal='add', seasonal_periods=4).fit()\n",
        "        ets_forecast = ets_model.forecast(len(test))\n",
        "        results['ETS'] = evaluate_forecast(test, ets_forecast)\n",
        "    except Exception as e:\n",
        "        results['ETS'] = (np.nan, np.nan)\n",
        "\n",
        "    # ARIMA (SARIMA)\n",
        "    try:\n",
        "        sarima_model = SARIMAX(train, order=(1,1,1), seasonal_order=(1,1,1,4)).fit(disp=False)\n",
        "        sarima_forecast = sarima_model.forecast(steps=len(test))\n",
        "        results['SARIMA'] = evaluate_forecast(test, sarima_forecast)\n",
        "    except Exception as e:\n",
        "        results['SARIMA'] = (np.nan, np.nan)\n",
        "\n",
        "    # Prophet\n",
        "    try:\n",
        "        prophet_df = train.reset_index()\n",
        "        prophet_df.columns = ['ds', 'y']\n",
        "        prophet_model = Prophet(seasonality_mode='additive', yearly_seasonality=False, weekly_seasonality=False, daily_seasonality=False)\n",
        "        prophet_model.add_seasonality(name='quarterly', period=4, fourier_order=3)\n",
        "        prophet_model.fit(prophet_df)\n",
        "        future = prophet_model.make_future_dataframe(periods=len(test), freq='Q')\n",
        "        forecast = prophet_model.predict(future)\n",
        "        prophet_forecast = forecast.iloc[-len(test):]['yhat'].values\n",
        "        results['Prophet'] = evaluate_forecast(test, prophet_forecast)\n",
        "    except Exception as e:\n",
        "        results['Prophet'] = (np.nan, np.nan)\n",
        "\n",
        "    return results\n",
        "\n",
        "# -----------------------------\n",
        "# 3. 전체 시계열에 대한 루프 실행\n",
        "# -----------------------------\n",
        "\n",
        "all_results = []\n",
        "\n",
        "for idx, series in enumerate(all_series):\n",
        "    print(f\"[{idx+1}/{len(all_series)}] 시계열 ID: {series.name} 분석 중...\")\n",
        "    res = forecast_models(series)\n",
        "    all_results.append(res)\n",
        "\n",
        "# -----------------------------\n",
        "# 4. 결과 정리 및 평균 성능 출력\n",
        "# -----------------------------\n",
        "\n",
        "# 결과를 데이터프레임으로 변환\n",
        "result_df = pd.DataFrame(all_results)\n",
        "\n",
        "# 모델별 MAE 평균\n",
        "avg_mae = result_df.applymap(lambda x: x[0] if isinstance(x, tuple) else np.nan).mean()\n",
        "# 모델별 RMSE 평균\n",
        "avg_rmse = result_df.applymap(lambda x: x[1] if isinstance(x, tuple) else np.nan).mean()\n",
        "\n",
        "print(\"모델별 평균 MAE:\")\n",
        "print(avg_mae)\n",
        "\n",
        "print(\"\\n모델별 평균 RMSE:\")\n",
        "print(avg_rmse)\n",
        "\n",
        "# -----------------------------\n",
        "# 5. 결과 시각화 (선택)\n",
        "# -----------------------------\n",
        "\n",
        "plt.figure(figsize=(10,5))\n",
        "plt.bar(avg_mae.index, avg_mae.values)\n",
        "plt.title('평균 MAE 비교')\n",
        "plt.ylabel('MAE')\n",
        "plt.show()\n",
        "\n",
        "plt.figure(figsize=(10,5))\n",
        "plt.bar(avg_rmse.index, avg_rmse.values)\n",
        "plt.title('평균 RMSE 비교')\n",
        "plt.ylabel('RMSE')\n",
        "plt.show()\n"
      ],
      "metadata": {
        "colab": {
          "base_uri": "https://localhost:8080/"
        },
        "id": "zNyNpj8ZMY_O",
        "outputId": "9dafab77-862e-41c7-b068-b12a422f504f"
      },
      "execution_count": null,
      "outputs": [
        {
          "metadata": {
            "tags": null
          },
          "name": "stdout",
          "output_type": "stream",
          "text": [
            "총 시계열 수: 427\n",
            "[1/427] 시계열 ID: T1 분석 중...\n"
          ]
        },
        {
          "metadata": {
            "tags": null
          },
          "name": "stderr",
          "output_type": "stream",
          "text": [
            "DEBUG:cmdstanpy:input tempfile: /tmp/tmp_tkrtbp6/_6keke8g.json\n",
            "DEBUG:cmdstanpy:input tempfile: /tmp/tmp_tkrtbp6/b7rmq56z.json\n",
            "DEBUG:cmdstanpy:idx 0\n",
            "DEBUG:cmdstanpy:running CmdStan, num_threads: None\n",
            "DEBUG:cmdstanpy:CmdStan args: ['/usr/local/lib/python3.11/dist-packages/prophet/stan_model/prophet_model.bin', 'random', 'seed=29362', 'data', 'file=/tmp/tmp_tkrtbp6/_6keke8g.json', 'init=/tmp/tmp_tkrtbp6/b7rmq56z.json', 'output', 'file=/tmp/tmp_tkrtbp6/prophet_modelfl3e5r1y/prophet_model-20250313074607.csv', 'method=optimize', 'algorithm=newton', 'iter=10000']\n",
            "07:46:07 - cmdstanpy - INFO - Chain [1] start processing\n",
            "INFO:cmdstanpy:Chain [1] start processing\n",
            "07:46:07 - cmdstanpy - INFO - Chain [1] done processing\n",
            "INFO:cmdstanpy:Chain [1] done processing\n"
          ]
        },
        {
          "metadata": {
            "tags": null
          },
          "name": "stdout",
          "output_type": "stream",
          "text": [
            "[2/427] 시계열 ID: T2 분석 중...\n"
          ]
        },
        {
          "metadata": {
            "tags": null
          },
          "name": "stderr",
          "output_type": "stream",
          "text": [
            "DEBUG:cmdstanpy:input tempfile: /tmp/tmp_tkrtbp6/0wkm62d_.json\n",
            "DEBUG:cmdstanpy:input tempfile: /tmp/tmp_tkrtbp6/k6ccb_8z.json\n",
            "DEBUG:cmdstanpy:idx 0\n",
            "DEBUG:cmdstanpy:running CmdStan, num_threads: None\n",
            "DEBUG:cmdstanpy:CmdStan args: ['/usr/local/lib/python3.11/dist-packages/prophet/stan_model/prophet_model.bin', 'random', 'seed=74111', 'data', 'file=/tmp/tmp_tkrtbp6/0wkm62d_.json', 'init=/tmp/tmp_tkrtbp6/k6ccb_8z.json', 'output', 'file=/tmp/tmp_tkrtbp6/prophet_modelv0bfxwk0/prophet_model-20250313074806.csv', 'method=optimize', 'algorithm=newton', 'iter=10000']\n",
            "07:48:06 - cmdstanpy - INFO - Chain [1] start processing\n",
            "INFO:cmdstanpy:Chain [1] start processing\n",
            "07:48:06 - cmdstanpy - INFO - Chain [1] done processing\n",
            "INFO:cmdstanpy:Chain [1] done processing\n"
          ]
        },
        {
          "metadata": {
            "tags": null
          },
          "name": "stdout",
          "output_type": "stream",
          "text": [
            "[3/427] 시계열 ID: T3 분석 중...\n"
          ]
        },
        {
          "metadata": {
            "tags": null
          },
          "name": "stderr",
          "output_type": "stream",
          "text": [
            "DEBUG:cmdstanpy:input tempfile: /tmp/tmp_tkrtbp6/sn_e6mxi.json\n",
            "DEBUG:cmdstanpy:input tempfile: /tmp/tmp_tkrtbp6/oy6ap6bj.json\n",
            "DEBUG:cmdstanpy:idx 0\n",
            "DEBUG:cmdstanpy:running CmdStan, num_threads: None\n",
            "DEBUG:cmdstanpy:CmdStan args: ['/usr/local/lib/python3.11/dist-packages/prophet/stan_model/prophet_model.bin', 'random', 'seed=44900', 'data', 'file=/tmp/tmp_tkrtbp6/sn_e6mxi.json', 'init=/tmp/tmp_tkrtbp6/oy6ap6bj.json', 'output', 'file=/tmp/tmp_tkrtbp6/prophet_modelpw54j9u7/prophet_model-20250313074831.csv', 'method=optimize', 'algorithm=newton', 'iter=10000']\n",
            "07:48:31 - cmdstanpy - INFO - Chain [1] start processing\n",
            "INFO:cmdstanpy:Chain [1] start processing\n",
            "07:48:31 - cmdstanpy - INFO - Chain [1] done processing\n",
            "INFO:cmdstanpy:Chain [1] done processing\n"
          ]
        },
        {
          "metadata": {
            "tags": null
          },
          "name": "stdout",
          "output_type": "stream",
          "text": [
            "[4/427] 시계열 ID: T4 분석 중...\n"
          ]
        },
        {
          "metadata": {
            "tags": null
          },
          "name": "stderr",
          "output_type": "stream",
          "text": [
            "DEBUG:cmdstanpy:input tempfile: /tmp/tmp_tkrtbp6/grv6ug7s.json\n",
            "DEBUG:cmdstanpy:input tempfile: /tmp/tmp_tkrtbp6/qs2s2t84.json\n",
            "DEBUG:cmdstanpy:idx 0\n",
            "DEBUG:cmdstanpy:running CmdStan, num_threads: None\n",
            "DEBUG:cmdstanpy:CmdStan args: ['/usr/local/lib/python3.11/dist-packages/prophet/stan_model/prophet_model.bin', 'random', 'seed=95951', 'data', 'file=/tmp/tmp_tkrtbp6/grv6ug7s.json', 'init=/tmp/tmp_tkrtbp6/qs2s2t84.json', 'output', 'file=/tmp/tmp_tkrtbp6/prophet_model0rockj56/prophet_model-20250313075246.csv', 'method=optimize', 'algorithm=newton', 'iter=10000']\n",
            "07:52:46 - cmdstanpy - INFO - Chain [1] start processing\n",
            "INFO:cmdstanpy:Chain [1] start processing\n",
            "07:52:47 - cmdstanpy - INFO - Chain [1] done processing\n",
            "INFO:cmdstanpy:Chain [1] done processing\n"
          ]
        },
        {
          "metadata": {
            "tags": null
          },
          "name": "stdout",
          "output_type": "stream",
          "text": [
            "[5/427] 시계열 ID: T5 분석 중...\n"
          ]
        },
        {
          "metadata": {
            "tags": null
          },
          "name": "stderr",
          "output_type": "stream",
          "text": [
            "DEBUG:cmdstanpy:input tempfile: /tmp/tmp_tkrtbp6/s3z8au7v.json\n",
            "DEBUG:cmdstanpy:input tempfile: /tmp/tmp_tkrtbp6/ivagvst_.json\n",
            "DEBUG:cmdstanpy:idx 0\n",
            "DEBUG:cmdstanpy:running CmdStan, num_threads: None\n",
            "DEBUG:cmdstanpy:CmdStan args: ['/usr/local/lib/python3.11/dist-packages/prophet/stan_model/prophet_model.bin', 'random', 'seed=5484', 'data', 'file=/tmp/tmp_tkrtbp6/s3z8au7v.json', 'init=/tmp/tmp_tkrtbp6/ivagvst_.json', 'output', 'file=/tmp/tmp_tkrtbp6/prophet_modelbff_hixv/prophet_model-20250313075313.csv', 'method=optimize', 'algorithm=newton', 'iter=10000']\n",
            "07:53:13 - cmdstanpy - INFO - Chain [1] start processing\n",
            "INFO:cmdstanpy:Chain [1] start processing\n",
            "07:53:13 - cmdstanpy - INFO - Chain [1] done processing\n",
            "INFO:cmdstanpy:Chain [1] done processing\n"
          ]
        },
        {
          "metadata": {
            "tags": null
          },
          "name": "stdout",
          "output_type": "stream",
          "text": [
            "[6/427] 시계열 ID: T6 분석 중...\n"
          ]
        },
        {
          "metadata": {
            "tags": null
          },
          "name": "stderr",
          "output_type": "stream",
          "text": [
            "DEBUG:cmdstanpy:input tempfile: /tmp/tmp_tkrtbp6/mcy7w71m.json\n",
            "DEBUG:cmdstanpy:input tempfile: /tmp/tmp_tkrtbp6/2_cai8jl.json\n",
            "DEBUG:cmdstanpy:idx 0\n",
            "DEBUG:cmdstanpy:running CmdStan, num_threads: None\n",
            "DEBUG:cmdstanpy:CmdStan args: ['/usr/local/lib/python3.11/dist-packages/prophet/stan_model/prophet_model.bin', 'random', 'seed=87528', 'data', 'file=/tmp/tmp_tkrtbp6/mcy7w71m.json', 'init=/tmp/tmp_tkrtbp6/2_cai8jl.json', 'output', 'file=/tmp/tmp_tkrtbp6/prophet_model5529ga2w/prophet_model-20250313075503.csv', 'method=optimize', 'algorithm=newton', 'iter=10000']\n",
            "07:55:03 - cmdstanpy - INFO - Chain [1] start processing\n",
            "INFO:cmdstanpy:Chain [1] start processing\n",
            "07:55:03 - cmdstanpy - INFO - Chain [1] done processing\n",
            "INFO:cmdstanpy:Chain [1] done processing\n"
          ]
        },
        {
          "metadata": {
            "tags": null
          },
          "name": "stdout",
          "output_type": "stream",
          "text": [
            "[7/427] 시계열 ID: T7 분석 중...\n"
          ]
        },
        {
          "metadata": {
            "tags": null
          },
          "name": "stderr",
          "output_type": "stream",
          "text": [
            "DEBUG:cmdstanpy:input tempfile: /tmp/tmp_tkrtbp6/slvkdb9w.json\n",
            "DEBUG:cmdstanpy:input tempfile: /tmp/tmp_tkrtbp6/m0ab_q64.json\n",
            "DEBUG:cmdstanpy:idx 0\n",
            "DEBUG:cmdstanpy:running CmdStan, num_threads: None\n",
            "DEBUG:cmdstanpy:CmdStan args: ['/usr/local/lib/python3.11/dist-packages/prophet/stan_model/prophet_model.bin', 'random', 'seed=24769', 'data', 'file=/tmp/tmp_tkrtbp6/slvkdb9w.json', 'init=/tmp/tmp_tkrtbp6/m0ab_q64.json', 'output', 'file=/tmp/tmp_tkrtbp6/prophet_modelaltd2d6g/prophet_model-20250313075535.csv', 'method=optimize', 'algorithm=newton', 'iter=10000']\n",
            "07:55:35 - cmdstanpy - INFO - Chain [1] start processing\n",
            "INFO:cmdstanpy:Chain [1] start processing\n",
            "07:55:35 - cmdstanpy - INFO - Chain [1] done processing\n",
            "INFO:cmdstanpy:Chain [1] done processing\n"
          ]
        },
        {
          "metadata": {
            "tags": null
          },
          "name": "stdout",
          "output_type": "stream",
          "text": [
            "[8/427] 시계열 ID: T8 분석 중...\n"
          ]
        },
        {
          "metadata": {
            "tags": null
          },
          "name": "stderr",
          "output_type": "stream",
          "text": [
            "DEBUG:cmdstanpy:input tempfile: /tmp/tmp_tkrtbp6/wzp1rxcb.json\n",
            "DEBUG:cmdstanpy:input tempfile: /tmp/tmp_tkrtbp6/onva865u.json\n",
            "DEBUG:cmdstanpy:idx 0\n",
            "DEBUG:cmdstanpy:running CmdStan, num_threads: None\n",
            "DEBUG:cmdstanpy:CmdStan args: ['/usr/local/lib/python3.11/dist-packages/prophet/stan_model/prophet_model.bin', 'random', 'seed=17692', 'data', 'file=/tmp/tmp_tkrtbp6/wzp1rxcb.json', 'init=/tmp/tmp_tkrtbp6/onva865u.json', 'output', 'file=/tmp/tmp_tkrtbp6/prophet_modelxst2qq8_/prophet_model-20250313075557.csv', 'method=optimize', 'algorithm=newton', 'iter=10000']\n",
            "07:55:57 - cmdstanpy - INFO - Chain [1] start processing\n",
            "INFO:cmdstanpy:Chain [1] start processing\n",
            "07:55:57 - cmdstanpy - INFO - Chain [1] done processing\n",
            "INFO:cmdstanpy:Chain [1] done processing\n"
          ]
        },
        {
          "metadata": {
            "tags": null
          },
          "name": "stdout",
          "output_type": "stream",
          "text": [
            "[9/427] 시계열 ID: T9 분석 중...\n"
          ]
        },
        {
          "metadata": {
            "tags": null
          },
          "name": "stderr",
          "output_type": "stream",
          "text": [
            "DEBUG:cmdstanpy:input tempfile: /tmp/tmp_tkrtbp6/uh6rz4ii.json\n",
            "DEBUG:cmdstanpy:input tempfile: /tmp/tmp_tkrtbp6/99x3qep3.json\n",
            "DEBUG:cmdstanpy:idx 0\n",
            "DEBUG:cmdstanpy:running CmdStan, num_threads: None\n",
            "DEBUG:cmdstanpy:CmdStan args: ['/usr/local/lib/python3.11/dist-packages/prophet/stan_model/prophet_model.bin', 'random', 'seed=19529', 'data', 'file=/tmp/tmp_tkrtbp6/uh6rz4ii.json', 'init=/tmp/tmp_tkrtbp6/99x3qep3.json', 'output', 'file=/tmp/tmp_tkrtbp6/prophet_models_kk9zx_/prophet_model-20250313075618.csv', 'method=optimize', 'algorithm=newton', 'iter=10000']\n",
            "07:56:18 - cmdstanpy - INFO - Chain [1] start processing\n",
            "INFO:cmdstanpy:Chain [1] start processing\n",
            "07:56:19 - cmdstanpy - INFO - Chain [1] done processing\n",
            "INFO:cmdstanpy:Chain [1] done processing\n"
          ]
        },
        {
          "metadata": {
            "tags": null
          },
          "name": "stdout",
          "output_type": "stream",
          "text": [
            "[10/427] 시계열 ID: T10 분석 중...\n"
          ]
        },
        {
          "metadata": {
            "tags": null
          },
          "name": "stderr",
          "output_type": "stream",
          "text": [
            "DEBUG:cmdstanpy:input tempfile: /tmp/tmp_tkrtbp6/ovsp75qv.json\n",
            "DEBUG:cmdstanpy:input tempfile: /tmp/tmp_tkrtbp6/cdx7rltf.json\n",
            "DEBUG:cmdstanpy:idx 0\n",
            "DEBUG:cmdstanpy:running CmdStan, num_threads: None\n",
            "DEBUG:cmdstanpy:CmdStan args: ['/usr/local/lib/python3.11/dist-packages/prophet/stan_model/prophet_model.bin', 'random', 'seed=30488', 'data', 'file=/tmp/tmp_tkrtbp6/ovsp75qv.json', 'init=/tmp/tmp_tkrtbp6/cdx7rltf.json', 'output', 'file=/tmp/tmp_tkrtbp6/prophet_modely2er9ry5/prophet_model-20250313075640.csv', 'method=optimize', 'algorithm=newton', 'iter=10000']\n",
            "07:56:40 - cmdstanpy - INFO - Chain [1] start processing\n",
            "INFO:cmdstanpy:Chain [1] start processing\n",
            "07:56:40 - cmdstanpy - INFO - Chain [1] done processing\n",
            "INFO:cmdstanpy:Chain [1] done processing\n"
          ]
        },
        {
          "metadata": {
            "tags": null
          },
          "name": "stdout",
          "output_type": "stream",
          "text": [
            "[11/427] 시계열 ID: T11 분석 중...\n"
          ]
        },
        {
          "metadata": {
            "tags": null
          },
          "name": "stderr",
          "output_type": "stream",
          "text": [
            "DEBUG:cmdstanpy:input tempfile: /tmp/tmp_tkrtbp6/2zs7ihn9.json\n",
            "DEBUG:cmdstanpy:input tempfile: /tmp/tmp_tkrtbp6/_9g_w2g_.json\n",
            "DEBUG:cmdstanpy:idx 0\n",
            "DEBUG:cmdstanpy:running CmdStan, num_threads: None\n",
            "DEBUG:cmdstanpy:CmdStan args: ['/usr/local/lib/python3.11/dist-packages/prophet/stan_model/prophet_model.bin', 'random', 'seed=95590', 'data', 'file=/tmp/tmp_tkrtbp6/2zs7ihn9.json', 'init=/tmp/tmp_tkrtbp6/_9g_w2g_.json', 'output', 'file=/tmp/tmp_tkrtbp6/prophet_model_yg3uelf/prophet_model-20250313075709.csv', 'method=optimize', 'algorithm=newton', 'iter=10000']\n",
            "07:57:09 - cmdstanpy - INFO - Chain [1] start processing\n",
            "INFO:cmdstanpy:Chain [1] start processing\n",
            "07:57:09 - cmdstanpy - INFO - Chain [1] done processing\n",
            "INFO:cmdstanpy:Chain [1] done processing\n"
          ]
        },
        {
          "metadata": {
            "tags": null
          },
          "name": "stdout",
          "output_type": "stream",
          "text": [
            "[12/427] 시계열 ID: T12 분석 중...\n"
          ]
        },
        {
          "metadata": {
            "tags": null
          },
          "name": "stderr",
          "output_type": "stream",
          "text": [
            "DEBUG:cmdstanpy:input tempfile: /tmp/tmp_tkrtbp6/3o3e12ev.json\n",
            "DEBUG:cmdstanpy:input tempfile: /tmp/tmp_tkrtbp6/5s56us04.json\n",
            "DEBUG:cmdstanpy:idx 0\n",
            "DEBUG:cmdstanpy:running CmdStan, num_threads: None\n",
            "DEBUG:cmdstanpy:CmdStan args: ['/usr/local/lib/python3.11/dist-packages/prophet/stan_model/prophet_model.bin', 'random', 'seed=9478', 'data', 'file=/tmp/tmp_tkrtbp6/3o3e12ev.json', 'init=/tmp/tmp_tkrtbp6/5s56us04.json', 'output', 'file=/tmp/tmp_tkrtbp6/prophet_modelop_qkhrn/prophet_model-20250313075738.csv', 'method=optimize', 'algorithm=newton', 'iter=10000']\n",
            "07:57:38 - cmdstanpy - INFO - Chain [1] start processing\n",
            "INFO:cmdstanpy:Chain [1] start processing\n",
            "07:57:38 - cmdstanpy - INFO - Chain [1] done processing\n",
            "INFO:cmdstanpy:Chain [1] done processing\n"
          ]
        },
        {
          "metadata": {
            "tags": null
          },
          "name": "stdout",
          "output_type": "stream",
          "text": [
            "[13/427] 시계열 ID: T13 분석 중...\n"
          ]
        },
        {
          "metadata": {
            "tags": null
          },
          "name": "stderr",
          "output_type": "stream",
          "text": [
            "DEBUG:cmdstanpy:input tempfile: /tmp/tmp_tkrtbp6/3qv0xu23.json\n",
            "DEBUG:cmdstanpy:input tempfile: /tmp/tmp_tkrtbp6/00jqx_a2.json\n",
            "DEBUG:cmdstanpy:idx 0\n",
            "DEBUG:cmdstanpy:running CmdStan, num_threads: None\n",
            "DEBUG:cmdstanpy:CmdStan args: ['/usr/local/lib/python3.11/dist-packages/prophet/stan_model/prophet_model.bin', 'random', 'seed=54775', 'data', 'file=/tmp/tmp_tkrtbp6/3qv0xu23.json', 'init=/tmp/tmp_tkrtbp6/00jqx_a2.json', 'output', 'file=/tmp/tmp_tkrtbp6/prophet_modelkmmvqh3s/prophet_model-20250313075753.csv', 'method=optimize', 'algorithm=newton', 'iter=10000']\n",
            "07:57:53 - cmdstanpy - INFO - Chain [1] start processing\n",
            "INFO:cmdstanpy:Chain [1] start processing\n",
            "07:57:53 - cmdstanpy - INFO - Chain [1] done processing\n",
            "INFO:cmdstanpy:Chain [1] done processing\n"
          ]
        },
        {
          "metadata": {
            "tags": null
          },
          "name": "stdout",
          "output_type": "stream",
          "text": [
            "[14/427] 시계열 ID: T14 분석 중...\n"
          ]
        },
        {
          "metadata": {
            "tags": null
          },
          "name": "stderr",
          "output_type": "stream",
          "text": [
            "DEBUG:cmdstanpy:input tempfile: /tmp/tmp_tkrtbp6/lf3k7bh_.json\n",
            "DEBUG:cmdstanpy:input tempfile: /tmp/tmp_tkrtbp6/kg_u7mam.json\n",
            "DEBUG:cmdstanpy:idx 0\n",
            "DEBUG:cmdstanpy:running CmdStan, num_threads: None\n",
            "DEBUG:cmdstanpy:CmdStan args: ['/usr/local/lib/python3.11/dist-packages/prophet/stan_model/prophet_model.bin', 'random', 'seed=2438', 'data', 'file=/tmp/tmp_tkrtbp6/lf3k7bh_.json', 'init=/tmp/tmp_tkrtbp6/kg_u7mam.json', 'output', 'file=/tmp/tmp_tkrtbp6/prophet_modelkp3wwk1c/prophet_model-20250313075809.csv', 'method=optimize', 'algorithm=newton', 'iter=10000']\n",
            "07:58:09 - cmdstanpy - INFO - Chain [1] start processing\n",
            "INFO:cmdstanpy:Chain [1] start processing\n",
            "07:58:09 - cmdstanpy - INFO - Chain [1] done processing\n",
            "INFO:cmdstanpy:Chain [1] done processing\n"
          ]
        },
        {
          "metadata": {
            "tags": null
          },
          "name": "stdout",
          "output_type": "stream",
          "text": [
            "[15/427] 시계열 ID: T15 분석 중...\n"
          ]
        },
        {
          "metadata": {
            "tags": null
          },
          "name": "stderr",
          "output_type": "stream",
          "text": [
            "DEBUG:cmdstanpy:input tempfile: /tmp/tmp_tkrtbp6/qpk2_0k0.json\n",
            "DEBUG:cmdstanpy:input tempfile: /tmp/tmp_tkrtbp6/6fdumstk.json\n",
            "DEBUG:cmdstanpy:idx 0\n",
            "DEBUG:cmdstanpy:running CmdStan, num_threads: None\n",
            "DEBUG:cmdstanpy:CmdStan args: ['/usr/local/lib/python3.11/dist-packages/prophet/stan_model/prophet_model.bin', 'random', 'seed=31820', 'data', 'file=/tmp/tmp_tkrtbp6/qpk2_0k0.json', 'init=/tmp/tmp_tkrtbp6/6fdumstk.json', 'output', 'file=/tmp/tmp_tkrtbp6/prophet_models0_2q795/prophet_model-20250313075831.csv', 'method=optimize', 'algorithm=newton', 'iter=10000']\n",
            "07:58:31 - cmdstanpy - INFO - Chain [1] start processing\n",
            "INFO:cmdstanpy:Chain [1] start processing\n",
            "07:58:31 - cmdstanpy - INFO - Chain [1] done processing\n",
            "INFO:cmdstanpy:Chain [1] done processing\n"
          ]
        },
        {
          "metadata": {
            "tags": null
          },
          "name": "stdout",
          "output_type": "stream",
          "text": [
            "[16/427] 시계열 ID: T16 분석 중...\n"
          ]
        },
        {
          "metadata": {
            "tags": null
          },
          "name": "stderr",
          "output_type": "stream",
          "text": [
            "DEBUG:cmdstanpy:input tempfile: /tmp/tmp_tkrtbp6/o217zs4d.json\n",
            "DEBUG:cmdstanpy:input tempfile: /tmp/tmp_tkrtbp6/m41sr_el.json\n",
            "DEBUG:cmdstanpy:idx 0\n",
            "DEBUG:cmdstanpy:running CmdStan, num_threads: None\n",
            "DEBUG:cmdstanpy:CmdStan args: ['/usr/local/lib/python3.11/dist-packages/prophet/stan_model/prophet_model.bin', 'random', 'seed=41665', 'data', 'file=/tmp/tmp_tkrtbp6/o217zs4d.json', 'init=/tmp/tmp_tkrtbp6/m41sr_el.json', 'output', 'file=/tmp/tmp_tkrtbp6/prophet_modelgexkrxbw/prophet_model-20250313075846.csv', 'method=optimize', 'algorithm=newton', 'iter=10000']\n",
            "07:58:46 - cmdstanpy - INFO - Chain [1] start processing\n",
            "INFO:cmdstanpy:Chain [1] start processing\n",
            "07:58:47 - cmdstanpy - INFO - Chain [1] done processing\n",
            "INFO:cmdstanpy:Chain [1] done processing\n"
          ]
        },
        {
          "metadata": {
            "tags": null
          },
          "name": "stdout",
          "output_type": "stream",
          "text": [
            "[17/427] 시계열 ID: T17 분석 중...\n"
          ]
        },
        {
          "metadata": {
            "tags": null
          },
          "name": "stderr",
          "output_type": "stream",
          "text": [
            "DEBUG:cmdstanpy:input tempfile: /tmp/tmp_tkrtbp6/v1emqjsn.json\n",
            "DEBUG:cmdstanpy:input tempfile: /tmp/tmp_tkrtbp6/d65xykp8.json\n",
            "DEBUG:cmdstanpy:idx 0\n",
            "DEBUG:cmdstanpy:running CmdStan, num_threads: None\n",
            "DEBUG:cmdstanpy:CmdStan args: ['/usr/local/lib/python3.11/dist-packages/prophet/stan_model/prophet_model.bin', 'random', 'seed=6569', 'data', 'file=/tmp/tmp_tkrtbp6/v1emqjsn.json', 'init=/tmp/tmp_tkrtbp6/d65xykp8.json', 'output', 'file=/tmp/tmp_tkrtbp6/prophet_modelstllu2gf/prophet_model-20250313075900.csv', 'method=optimize', 'algorithm=newton', 'iter=10000']\n",
            "07:59:00 - cmdstanpy - INFO - Chain [1] start processing\n",
            "INFO:cmdstanpy:Chain [1] start processing\n",
            "07:59:00 - cmdstanpy - INFO - Chain [1] done processing\n",
            "INFO:cmdstanpy:Chain [1] done processing\n"
          ]
        },
        {
          "metadata": {
            "tags": null
          },
          "name": "stdout",
          "output_type": "stream",
          "text": [
            "[18/427] 시계열 ID: T18 분석 중...\n"
          ]
        },
        {
          "metadata": {
            "tags": null
          },
          "name": "stderr",
          "output_type": "stream",
          "text": [
            "DEBUG:cmdstanpy:input tempfile: /tmp/tmp_tkrtbp6/t3w50ziq.json\n",
            "DEBUG:cmdstanpy:input tempfile: /tmp/tmp_tkrtbp6/wbo4ni2a.json\n",
            "DEBUG:cmdstanpy:idx 0\n",
            "DEBUG:cmdstanpy:running CmdStan, num_threads: None\n",
            "DEBUG:cmdstanpy:CmdStan args: ['/usr/local/lib/python3.11/dist-packages/prophet/stan_model/prophet_model.bin', 'random', 'seed=35203', 'data', 'file=/tmp/tmp_tkrtbp6/t3w50ziq.json', 'init=/tmp/tmp_tkrtbp6/wbo4ni2a.json', 'output', 'file=/tmp/tmp_tkrtbp6/prophet_modelju53pj6q/prophet_model-20250313075920.csv', 'method=optimize', 'algorithm=newton', 'iter=10000']\n",
            "07:59:20 - cmdstanpy - INFO - Chain [1] start processing\n",
            "INFO:cmdstanpy:Chain [1] start processing\n",
            "07:59:21 - cmdstanpy - INFO - Chain [1] done processing\n",
            "INFO:cmdstanpy:Chain [1] done processing\n"
          ]
        },
        {
          "metadata": {
            "tags": null
          },
          "name": "stdout",
          "output_type": "stream",
          "text": [
            "[19/427] 시계열 ID: T19 분석 중...\n"
          ]
        },
        {
          "metadata": {
            "tags": null
          },
          "name": "stderr",
          "output_type": "stream",
          "text": [
            "DEBUG:cmdstanpy:input tempfile: /tmp/tmp_tkrtbp6/lmyohc8l.json\n",
            "DEBUG:cmdstanpy:input tempfile: /tmp/tmp_tkrtbp6/v2ldri0q.json\n",
            "DEBUG:cmdstanpy:idx 0\n",
            "DEBUG:cmdstanpy:running CmdStan, num_threads: None\n",
            "DEBUG:cmdstanpy:CmdStan args: ['/usr/local/lib/python3.11/dist-packages/prophet/stan_model/prophet_model.bin', 'random', 'seed=40049', 'data', 'file=/tmp/tmp_tkrtbp6/lmyohc8l.json', 'init=/tmp/tmp_tkrtbp6/v2ldri0q.json', 'output', 'file=/tmp/tmp_tkrtbp6/prophet_model_ef5481c/prophet_model-20250313080014.csv', 'method=optimize', 'algorithm=lbfgs', 'iter=10000']\n",
            "08:00:14 - cmdstanpy - INFO - Chain [1] start processing\n",
            "INFO:cmdstanpy:Chain [1] start processing\n",
            "08:00:14 - cmdstanpy - INFO - Chain [1] done processing\n",
            "INFO:cmdstanpy:Chain [1] done processing\n"
          ]
        },
        {
          "metadata": {
            "tags": null
          },
          "name": "stdout",
          "output_type": "stream",
          "text": [
            "[20/427] 시계열 ID: T20 분석 중...\n"
          ]
        },
        {
          "metadata": {
            "tags": null
          },
          "name": "stderr",
          "output_type": "stream",
          "text": [
            "DEBUG:cmdstanpy:input tempfile: /tmp/tmp_tkrtbp6/igduozmu.json\n",
            "DEBUG:cmdstanpy:input tempfile: /tmp/tmp_tkrtbp6/0dk50aev.json\n",
            "DEBUG:cmdstanpy:idx 0\n",
            "DEBUG:cmdstanpy:running CmdStan, num_threads: None\n",
            "DEBUG:cmdstanpy:CmdStan args: ['/usr/local/lib/python3.11/dist-packages/prophet/stan_model/prophet_model.bin', 'random', 'seed=61390', 'data', 'file=/tmp/tmp_tkrtbp6/igduozmu.json', 'init=/tmp/tmp_tkrtbp6/0dk50aev.json', 'output', 'file=/tmp/tmp_tkrtbp6/prophet_modelyajk1f4e/prophet_model-20250313080633.csv', 'method=optimize', 'algorithm=lbfgs', 'iter=10000']\n",
            "08:06:33 - cmdstanpy - INFO - Chain [1] start processing\n",
            "INFO:cmdstanpy:Chain [1] start processing\n",
            "08:06:33 - cmdstanpy - INFO - Chain [1] done processing\n",
            "INFO:cmdstanpy:Chain [1] done processing\n"
          ]
        },
        {
          "metadata": {
            "tags": null
          },
          "name": "stdout",
          "output_type": "stream",
          "text": [
            "[21/427] 시계열 ID: T21 분석 중...\n"
          ]
        },
        {
          "metadata": {
            "tags": null
          },
          "name": "stderr",
          "output_type": "stream",
          "text": [
            "DEBUG:cmdstanpy:input tempfile: /tmp/tmp_tkrtbp6/p9og7_kv.json\n",
            "DEBUG:cmdstanpy:input tempfile: /tmp/tmp_tkrtbp6/qr8_tapz.json\n",
            "DEBUG:cmdstanpy:idx 0\n",
            "DEBUG:cmdstanpy:running CmdStan, num_threads: None\n",
            "DEBUG:cmdstanpy:CmdStan args: ['/usr/local/lib/python3.11/dist-packages/prophet/stan_model/prophet_model.bin', 'random', 'seed=49201', 'data', 'file=/tmp/tmp_tkrtbp6/p9og7_kv.json', 'init=/tmp/tmp_tkrtbp6/qr8_tapz.json', 'output', 'file=/tmp/tmp_tkrtbp6/prophet_modelx7tlm7wo/prophet_model-20250313080715.csv', 'method=optimize', 'algorithm=lbfgs', 'iter=10000']\n",
            "08:07:15 - cmdstanpy - INFO - Chain [1] start processing\n",
            "INFO:cmdstanpy:Chain [1] start processing\n",
            "08:07:15 - cmdstanpy - INFO - Chain [1] done processing\n",
            "INFO:cmdstanpy:Chain [1] done processing\n"
          ]
        },
        {
          "metadata": {
            "tags": null
          },
          "name": "stdout",
          "output_type": "stream",
          "text": [
            "[22/427] 시계열 ID: T22 분석 중...\n"
          ]
        },
        {
          "metadata": {
            "tags": null
          },
          "name": "stderr",
          "output_type": "stream",
          "text": [
            "DEBUG:cmdstanpy:input tempfile: /tmp/tmp_tkrtbp6/g3htn_d0.json\n",
            "DEBUG:cmdstanpy:input tempfile: /tmp/tmp_tkrtbp6/rmrjoxdm.json\n",
            "DEBUG:cmdstanpy:idx 0\n",
            "DEBUG:cmdstanpy:running CmdStan, num_threads: None\n",
            "DEBUG:cmdstanpy:CmdStan args: ['/usr/local/lib/python3.11/dist-packages/prophet/stan_model/prophet_model.bin', 'random', 'seed=73669', 'data', 'file=/tmp/tmp_tkrtbp6/g3htn_d0.json', 'init=/tmp/tmp_tkrtbp6/rmrjoxdm.json', 'output', 'file=/tmp/tmp_tkrtbp6/prophet_modeltra0_flo/prophet_model-20250313080857.csv', 'method=optimize', 'algorithm=lbfgs', 'iter=10000']\n",
            "08:08:57 - cmdstanpy - INFO - Chain [1] start processing\n",
            "INFO:cmdstanpy:Chain [1] start processing\n",
            "08:08:57 - cmdstanpy - INFO - Chain [1] done processing\n",
            "INFO:cmdstanpy:Chain [1] done processing\n"
          ]
        },
        {
          "metadata": {
            "tags": null
          },
          "name": "stdout",
          "output_type": "stream",
          "text": [
            "[23/427] 시계열 ID: T23 분석 중...\n"
          ]
        },
        {
          "metadata": {
            "tags": null
          },
          "name": "stderr",
          "output_type": "stream",
          "text": [
            "DEBUG:cmdstanpy:input tempfile: /tmp/tmp_tkrtbp6/wbki954p.json\n",
            "DEBUG:cmdstanpy:input tempfile: /tmp/tmp_tkrtbp6/nr9gvt40.json\n",
            "DEBUG:cmdstanpy:idx 0\n",
            "DEBUG:cmdstanpy:running CmdStan, num_threads: None\n",
            "DEBUG:cmdstanpy:CmdStan args: ['/usr/local/lib/python3.11/dist-packages/prophet/stan_model/prophet_model.bin', 'random', 'seed=14655', 'data', 'file=/tmp/tmp_tkrtbp6/wbki954p.json', 'init=/tmp/tmp_tkrtbp6/nr9gvt40.json', 'output', 'file=/tmp/tmp_tkrtbp6/prophet_model4d95el5j/prophet_model-20250313080958.csv', 'method=optimize', 'algorithm=lbfgs', 'iter=10000']\n",
            "08:09:58 - cmdstanpy - INFO - Chain [1] start processing\n",
            "INFO:cmdstanpy:Chain [1] start processing\n",
            "08:09:58 - cmdstanpy - INFO - Chain [1] done processing\n",
            "INFO:cmdstanpy:Chain [1] done processing\n"
          ]
        },
        {
          "metadata": {
            "tags": null
          },
          "name": "stdout",
          "output_type": "stream",
          "text": [
            "[24/427] 시계열 ID: T24 분석 중...\n"
          ]
        },
        {
          "metadata": {
            "tags": null
          },
          "name": "stderr",
          "output_type": "stream",
          "text": [
            "DEBUG:cmdstanpy:input tempfile: /tmp/tmp_tkrtbp6/aatlwpmz.json\n",
            "DEBUG:cmdstanpy:input tempfile: /tmp/tmp_tkrtbp6/lhy4j01z.json\n",
            "DEBUG:cmdstanpy:idx 0\n",
            "DEBUG:cmdstanpy:running CmdStan, num_threads: None\n",
            "DEBUG:cmdstanpy:CmdStan args: ['/usr/local/lib/python3.11/dist-packages/prophet/stan_model/prophet_model.bin', 'random', 'seed=4372', 'data', 'file=/tmp/tmp_tkrtbp6/aatlwpmz.json', 'init=/tmp/tmp_tkrtbp6/lhy4j01z.json', 'output', 'file=/tmp/tmp_tkrtbp6/prophet_model1kd66q5y/prophet_model-20250313081247.csv', 'method=optimize', 'algorithm=lbfgs', 'iter=10000']\n",
            "08:12:47 - cmdstanpy - INFO - Chain [1] start processing\n",
            "INFO:cmdstanpy:Chain [1] start processing\n",
            "08:12:47 - cmdstanpy - INFO - Chain [1] done processing\n",
            "INFO:cmdstanpy:Chain [1] done processing\n"
          ]
        },
        {
          "metadata": {
            "tags": null
          },
          "name": "stdout",
          "output_type": "stream",
          "text": [
            "[25/427] 시계열 ID: T25 분석 중...\n"
          ]
        },
        {
          "metadata": {
            "tags": null
          },
          "name": "stderr",
          "output_type": "stream",
          "text": [
            "DEBUG:cmdstanpy:input tempfile: /tmp/tmp_tkrtbp6/0lopwm06.json\n",
            "DEBUG:cmdstanpy:input tempfile: /tmp/tmp_tkrtbp6/mwnbt19l.json\n",
            "DEBUG:cmdstanpy:idx 0\n",
            "DEBUG:cmdstanpy:running CmdStan, num_threads: None\n",
            "DEBUG:cmdstanpy:CmdStan args: ['/usr/local/lib/python3.11/dist-packages/prophet/stan_model/prophet_model.bin', 'random', 'seed=58325', 'data', 'file=/tmp/tmp_tkrtbp6/0lopwm06.json', 'init=/tmp/tmp_tkrtbp6/mwnbt19l.json', 'output', 'file=/tmp/tmp_tkrtbp6/prophet_model4catlqrb/prophet_model-20250313081536.csv', 'method=optimize', 'algorithm=lbfgs', 'iter=10000']\n",
            "08:15:36 - cmdstanpy - INFO - Chain [1] start processing\n",
            "INFO:cmdstanpy:Chain [1] start processing\n",
            "08:15:36 - cmdstanpy - INFO - Chain [1] done processing\n",
            "INFO:cmdstanpy:Chain [1] done processing\n"
          ]
        },
        {
          "metadata": {
            "tags": null
          },
          "name": "stdout",
          "output_type": "stream",
          "text": [
            "[26/427] 시계열 ID: T26 분석 중...\n"
          ]
        },
        {
          "metadata": {
            "tags": null
          },
          "name": "stderr",
          "output_type": "stream",
          "text": [
            "DEBUG:cmdstanpy:input tempfile: /tmp/tmp_tkrtbp6/xiabgqof.json\n",
            "DEBUG:cmdstanpy:input tempfile: /tmp/tmp_tkrtbp6/d1kvmw6y.json\n",
            "DEBUG:cmdstanpy:idx 0\n",
            "DEBUG:cmdstanpy:running CmdStan, num_threads: None\n",
            "DEBUG:cmdstanpy:CmdStan args: ['/usr/local/lib/python3.11/dist-packages/prophet/stan_model/prophet_model.bin', 'random', 'seed=55152', 'data', 'file=/tmp/tmp_tkrtbp6/xiabgqof.json', 'init=/tmp/tmp_tkrtbp6/d1kvmw6y.json', 'output', 'file=/tmp/tmp_tkrtbp6/prophet_modell1bjf1k1/prophet_model-20250313081806.csv', 'method=optimize', 'algorithm=lbfgs', 'iter=10000']\n",
            "08:18:06 - cmdstanpy - INFO - Chain [1] start processing\n",
            "INFO:cmdstanpy:Chain [1] start processing\n",
            "08:18:06 - cmdstanpy - INFO - Chain [1] done processing\n",
            "INFO:cmdstanpy:Chain [1] done processing\n"
          ]
        },
        {
          "metadata": {
            "tags": null
          },
          "name": "stdout",
          "output_type": "stream",
          "text": [
            "[27/427] 시계열 ID: T27 분석 중...\n"
          ]
        },
        {
          "metadata": {
            "tags": null
          },
          "name": "stderr",
          "output_type": "stream",
          "text": [
            "DEBUG:cmdstanpy:input tempfile: /tmp/tmp_tkrtbp6/b1xzjx_7.json\n",
            "DEBUG:cmdstanpy:input tempfile: /tmp/tmp_tkrtbp6/hfumt3j3.json\n",
            "DEBUG:cmdstanpy:idx 0\n",
            "DEBUG:cmdstanpy:running CmdStan, num_threads: None\n",
            "DEBUG:cmdstanpy:CmdStan args: ['/usr/local/lib/python3.11/dist-packages/prophet/stan_model/prophet_model.bin', 'random', 'seed=96961', 'data', 'file=/tmp/tmp_tkrtbp6/b1xzjx_7.json', 'init=/tmp/tmp_tkrtbp6/hfumt3j3.json', 'output', 'file=/tmp/tmp_tkrtbp6/prophet_model6idzam8a/prophet_model-20250313082112.csv', 'method=optimize', 'algorithm=newton', 'iter=10000']\n",
            "08:21:12 - cmdstanpy - INFO - Chain [1] start processing\n",
            "INFO:cmdstanpy:Chain [1] start processing\n",
            "08:21:12 - cmdstanpy - INFO - Chain [1] done processing\n",
            "INFO:cmdstanpy:Chain [1] done processing\n"
          ]
        },
        {
          "metadata": {
            "tags": null
          },
          "name": "stdout",
          "output_type": "stream",
          "text": [
            "[28/427] 시계열 ID: T28 분석 중...\n"
          ]
        },
        {
          "metadata": {
            "tags": null
          },
          "name": "stderr",
          "output_type": "stream",
          "text": [
            "DEBUG:cmdstanpy:input tempfile: /tmp/tmp_tkrtbp6/f6qxpy_w.json\n",
            "DEBUG:cmdstanpy:input tempfile: /tmp/tmp_tkrtbp6/g4niphu8.json\n",
            "DEBUG:cmdstanpy:idx 0\n",
            "DEBUG:cmdstanpy:running CmdStan, num_threads: None\n",
            "DEBUG:cmdstanpy:CmdStan args: ['/usr/local/lib/python3.11/dist-packages/prophet/stan_model/prophet_model.bin', 'random', 'seed=57419', 'data', 'file=/tmp/tmp_tkrtbp6/f6qxpy_w.json', 'init=/tmp/tmp_tkrtbp6/g4niphu8.json', 'output', 'file=/tmp/tmp_tkrtbp6/prophet_modelcpqxlqfh/prophet_model-20250313082433.csv', 'method=optimize', 'algorithm=lbfgs', 'iter=10000']\n",
            "08:24:33 - cmdstanpy - INFO - Chain [1] start processing\n",
            "INFO:cmdstanpy:Chain [1] start processing\n",
            "08:24:33 - cmdstanpy - INFO - Chain [1] done processing\n",
            "INFO:cmdstanpy:Chain [1] done processing\n"
          ]
        },
        {
          "metadata": {
            "tags": null
          },
          "name": "stdout",
          "output_type": "stream",
          "text": [
            "[29/427] 시계열 ID: T29 분석 중...\n"
          ]
        },
        {
          "output_type": "stream",
          "name": "stderr",
          "text": [
            "DEBUG:cmdstanpy:input tempfile: /tmp/tmp_tkrtbp6/_j785l6p.json\n",
            "DEBUG:cmdstanpy:input tempfile: /tmp/tmp_tkrtbp6/6iml7t9z.json\n",
            "DEBUG:cmdstanpy:idx 0\n",
            "DEBUG:cmdstanpy:running CmdStan, num_threads: None\n",
            "DEBUG:cmdstanpy:CmdStan args: ['/usr/local/lib/python3.11/dist-packages/prophet/stan_model/prophet_model.bin', 'random', 'seed=34910', 'data', 'file=/tmp/tmp_tkrtbp6/_j785l6p.json', 'init=/tmp/tmp_tkrtbp6/6iml7t9z.json', 'output', 'file=/tmp/tmp_tkrtbp6/prophet_model99z7xjl7/prophet_model-20250313082725.csv', 'method=optimize', 'algorithm=newton', 'iter=10000']\n",
            "08:27:25 - cmdstanpy - INFO - Chain [1] start processing\n",
            "INFO:cmdstanpy:Chain [1] start processing\n",
            "08:27:25 - cmdstanpy - INFO - Chain [1] done processing\n",
            "INFO:cmdstanpy:Chain [1] done processing\n"
          ]
        },
        {
          "output_type": "stream",
          "name": "stdout",
          "text": [
            "[30/427] 시계열 ID: T30 분석 중...\n"
          ]
        },
        {
          "output_type": "stream",
          "name": "stderr",
          "text": [
            "DEBUG:cmdstanpy:input tempfile: /tmp/tmp_tkrtbp6/c_7c60fn.json\n",
            "DEBUG:cmdstanpy:input tempfile: /tmp/tmp_tkrtbp6/4_wgwxn2.json\n",
            "DEBUG:cmdstanpy:idx 0\n",
            "DEBUG:cmdstanpy:running CmdStan, num_threads: None\n",
            "DEBUG:cmdstanpy:CmdStan args: ['/usr/local/lib/python3.11/dist-packages/prophet/stan_model/prophet_model.bin', 'random', 'seed=94968', 'data', 'file=/tmp/tmp_tkrtbp6/c_7c60fn.json', 'init=/tmp/tmp_tkrtbp6/4_wgwxn2.json', 'output', 'file=/tmp/tmp_tkrtbp6/prophet_modelmhf5myn_/prophet_model-20250313082912.csv', 'method=optimize', 'algorithm=newton', 'iter=10000']\n",
            "08:29:12 - cmdstanpy - INFO - Chain [1] start processing\n",
            "INFO:cmdstanpy:Chain [1] start processing\n",
            "08:29:12 - cmdstanpy - INFO - Chain [1] done processing\n",
            "INFO:cmdstanpy:Chain [1] done processing\n"
          ]
        },
        {
          "output_type": "stream",
          "name": "stdout",
          "text": [
            "[31/427] 시계열 ID: T31 분석 중...\n"
          ]
        },
        {
          "output_type": "stream",
          "name": "stderr",
          "text": [
            "DEBUG:cmdstanpy:input tempfile: /tmp/tmp_tkrtbp6/gyiafk76.json\n",
            "DEBUG:cmdstanpy:input tempfile: /tmp/tmp_tkrtbp6/4ldob97d.json\n",
            "DEBUG:cmdstanpy:idx 0\n",
            "DEBUG:cmdstanpy:running CmdStan, num_threads: None\n",
            "DEBUG:cmdstanpy:CmdStan args: ['/usr/local/lib/python3.11/dist-packages/prophet/stan_model/prophet_model.bin', 'random', 'seed=76604', 'data', 'file=/tmp/tmp_tkrtbp6/gyiafk76.json', 'init=/tmp/tmp_tkrtbp6/4ldob97d.json', 'output', 'file=/tmp/tmp_tkrtbp6/prophet_modelhqvvajmr/prophet_model-20250313083148.csv', 'method=optimize', 'algorithm=lbfgs', 'iter=10000']\n",
            "08:31:48 - cmdstanpy - INFO - Chain [1] start processing\n",
            "INFO:cmdstanpy:Chain [1] start processing\n",
            "08:31:49 - cmdstanpy - INFO - Chain [1] done processing\n",
            "INFO:cmdstanpy:Chain [1] done processing\n"
          ]
        },
        {
          "output_type": "stream",
          "name": "stdout",
          "text": [
            "[32/427] 시계열 ID: T32 분석 중...\n"
          ]
        },
        {
          "output_type": "stream",
          "name": "stderr",
          "text": [
            "DEBUG:cmdstanpy:input tempfile: /tmp/tmp_tkrtbp6/f0udom2g.json\n",
            "DEBUG:cmdstanpy:input tempfile: /tmp/tmp_tkrtbp6/zjs4xxqq.json\n",
            "DEBUG:cmdstanpy:idx 0\n",
            "DEBUG:cmdstanpy:running CmdStan, num_threads: None\n",
            "DEBUG:cmdstanpy:CmdStan args: ['/usr/local/lib/python3.11/dist-packages/prophet/stan_model/prophet_model.bin', 'random', 'seed=67966', 'data', 'file=/tmp/tmp_tkrtbp6/f0udom2g.json', 'init=/tmp/tmp_tkrtbp6/zjs4xxqq.json', 'output', 'file=/tmp/tmp_tkrtbp6/prophet_modeludyml5cv/prophet_model-20250313083344.csv', 'method=optimize', 'algorithm=lbfgs', 'iter=10000']\n",
            "08:33:44 - cmdstanpy - INFO - Chain [1] start processing\n",
            "INFO:cmdstanpy:Chain [1] start processing\n",
            "08:33:44 - cmdstanpy - INFO - Chain [1] done processing\n",
            "INFO:cmdstanpy:Chain [1] done processing\n"
          ]
        },
        {
          "output_type": "stream",
          "name": "stdout",
          "text": [
            "[33/427] 시계열 ID: T33 분석 중...\n"
          ]
        }
      ]
    }
  ]
}